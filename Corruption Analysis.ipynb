{
 "cells": [
  {
   "cell_type": "markdown",
   "metadata": {},
   "source": [
    "# __Econometric Game__: Effect of electoral accountability on corruption?\n",
    "   \n",
    "### Team 3: Katheryn Ding, Amber Wei, Max Ye\n",
    "\n"
   ]
  },
  {
   "cell_type": "markdown",
   "metadata": {},
   "source": [
    "## Set up "
   ]
  },
  {
   "cell_type": "code",
   "execution_count": 3,
   "metadata": {},
   "outputs": [
    {
     "ename": "ModuleNotFoundError",
     "evalue": "No module named 'numpy'",
     "output_type": "error",
     "traceback": [
      "\u001b[1;31m---------------------------------------------------------------------------\u001b[0m",
      "\u001b[1;31mModuleNotFoundError\u001b[0m                       Traceback (most recent call last)",
      "Cell \u001b[1;32mIn[3], line 1\u001b[0m\n\u001b[1;32m----> 1\u001b[0m \u001b[38;5;28;01mimport\u001b[39;00m \u001b[38;5;21;01mnumpy\u001b[39;00m \u001b[38;5;28;01mas\u001b[39;00m \u001b[38;5;21;01mnp\u001b[39;00m\n\u001b[0;32m      2\u001b[0m \u001b[38;5;28;01mimport\u001b[39;00m \u001b[38;5;21;01mpandas\u001b[39;00m \u001b[38;5;28;01mas\u001b[39;00m \u001b[38;5;21;01mpd\u001b[39;00m\n\u001b[0;32m      3\u001b[0m \u001b[38;5;28;01mfrom\u001b[39;00m \u001b[38;5;21;01msklearn\u001b[39;00m\u001b[38;5;21;01m.\u001b[39;00m\u001b[38;5;21;01mlinear_model\u001b[39;00m \u001b[38;5;28;01mimport\u001b[39;00m LassoCV\n",
      "\u001b[1;31mModuleNotFoundError\u001b[0m: No module named 'numpy'"
     ]
    }
   ],
   "source": [
    "import numpy as np\n",
    "import pandas as pd\n",
    "from sklearn.linear_model import LassoCV\n",
    "from sklearn.model_selection import KFold\n",
    "from sklearn.preprocessing import StandardScaler\n",
    "from scipy.special import expit\n",
    "from sklearn.linear_model import LogisticRegression"
   ]
  },
  {
   "cell_type": "code",
   "execution_count": null,
   "metadata": {},
   "outputs": [
    {
     "ename": "NameError",
     "evalue": "name 'pd' is not defined",
     "output_type": "error",
     "traceback": [
      "\u001b[1;31m---------------------------------------------------------------------------\u001b[0m",
      "\u001b[1;31mNameError\u001b[0m                                 Traceback (most recent call last)",
      "Cell \u001b[1;32mIn[1], line 1\u001b[0m\n\u001b[1;32m----> 1\u001b[0m corruption_df \u001b[38;5;241m=\u001b[39m \u001b[43mpd\u001b[49m\u001b[38;5;241m.\u001b[39mread_stata(\u001b[38;5;124m\"\u001b[39m\u001b[38;5;124mcorruptiondata.dta\u001b[39m\u001b[38;5;124m\"\u001b[39m)\n\u001b[0;32m      2\u001b[0m corruption_df\u001b[38;5;241m.\u001b[39mcolumns\n",
      "\u001b[1;31mNameError\u001b[0m: name 'pd' is not defined"
     ]
    }
   ],
   "source": [
    "corruption_df = pd.read_stata(\"corruptiondata.dta\")\n",
    "corruption_df.columns"
   ]
  },
  {
   "cell_type": "code",
   "execution_count": 93,
   "metadata": {},
   "outputs": [
    {
     "name": "stdout",
     "output_type": "stream",
     "text": [
      "Mayor Covariates: ['pref_idade_tse', 'pref_masc', 'pref_escola', 'winmargin2000', 'exp_prefeito', 'party_d1', 'party_d3', 'party_d4', 'party_d5', 'party_d6', 'party_d7', 'party_d8', 'party_d9', 'party_d10', 'party_d11', 'party_d12', 'party_d13', 'party_d14', 'party_d15', 'party_d16', 'party_d17', 'party_d18']\n",
      "Municipal Covariates: ['lpop', 'purb', 'p_secundario', 'mun_novo', 'lpib02', 'gini_ipea']\n",
      "Political and Judicial Covariates: ['ENEP2000', 'ENLP2000', 'p_cad_pref']\n",
      "Dummy Covariates: ['sorteio1', 'sorteio2', 'sorteio3', 'sorteio4', 'sorteio5', 'sorteio6', 'sorteio7', 'sorteio8', 'sorteio9', 'sorteio10', 'uf_d1', 'uf_d2', 'uf_d3', 'uf_d4', 'uf_d5', 'uf_d6', 'uf_d7', 'uf_d8', 'uf_d9', 'uf_d10', 'uf_d11', 'uf_d12', 'uf_d13', 'uf_d14', 'uf_d15', 'uf_d16', 'uf_d17', 'uf_d18', 'uf_d19', 'uf_d20', 'uf_d21', 'uf_d22', 'uf_d23', 'uf_d24', 'uf_d25', 'uf_d26']\n"
     ]
    }
   ],
   "source": [
    "# Define covariates for each category\n",
    "\n",
    "# Mayor characteristics\n",
    "mayor_covariates = [\n",
    "    \"pref_idade_tse\",  # Age\n",
    "    \"pref_masc\",       # Gender\n",
    "    \"pref_escola\",     # Schooling\n",
    "    \"winmargin2000\",   # Margin of victory in 2000\n",
    "    \"exp_prefeito\"     # Was previously a mayor in a consecutive term\n",
    "] + [col for col in corruption_df.columns if col.startswith(\"party_d\")]\n",
    "\n",
    "# Municipal characteristics\n",
    "municipal_covariates = [\n",
    "    \"lpop\",           # Log of population in 2000\n",
    "    \"purb\",           # Percentage of population in urban sectors\n",
    "    \"p_secundario\",   # Percentage with at least secondary education\n",
    "    \"mun_novo\",       # New municipality indicator\n",
    "    \"lpib02\",         # Log of GDP per capita in 2002\n",
    "    \"gini_ipea\"       # Gini coefficient\n",
    "]\n",
    "\n",
    "# Political and Judicial characteristics\n",
    "political_judicial_covariates = [\n",
    "    \"ENEP2000\",  # Effective number of parties in 2000 mayor elections\n",
    "    \"ENLP2000\",  # Effective number of parties in 2000 legislative elections\n",
    "    \"p_cad_pref\" # Proportion of legislators from the same party as the mayor\n",
    "]\n",
    "\n",
    "# Dummies\n",
    "dummy_covariates = [\n",
    "    col for col in corruption_df.columns if col.startswith(\"uf_d\") or col.startswith(\"sorteio\")\n",
    "]\n",
    "\n",
    "\n",
    "print(\"Mayor Covariates:\", mayor_covariates)\n",
    "print(\"Municipal Covariates:\", municipal_covariates)\n",
    "print(\"Political and Judicial Covariates:\", political_judicial_covariates)\n",
    "print(\"Dummy Covariates:\", dummy_covariates)"
   ]
  },
  {
   "cell_type": "code",
   "execution_count": 94,
   "metadata": {},
   "outputs": [
    {
     "name": "stdout",
     "output_type": "stream",
     "text": [
      "Dataset Columns: Index(['first', 'pcorrupt', 'ncorrupt_os', 'valor_corrupt',\n",
      "       'log_valor_corrupt', 'pref_idade_tse', 'pref_masc', 'pref_escola',\n",
      "       'winmargin2000', 'exp_prefeito', 'party_d1', 'party_d3', 'party_d4',\n",
      "       'party_d5', 'party_d6', 'party_d7', 'party_d8', 'party_d9', 'party_d10',\n",
      "       'party_d11', 'party_d12', 'party_d13', 'party_d14', 'party_d15',\n",
      "       'party_d16', 'party_d17', 'party_d18', 'lpop', 'purb', 'p_secundario',\n",
      "       'mun_novo', 'lpib02', 'gini_ipea', 'ENEP2000', 'ENLP2000', 'p_cad_pref',\n",
      "       'sorteio1', 'sorteio2', 'sorteio3', 'sorteio4', 'sorteio5', 'sorteio6',\n",
      "       'sorteio7', 'sorteio8', 'sorteio9', 'sorteio10', 'uf_d1', 'uf_d2',\n",
      "       'uf_d3', 'uf_d4', 'uf_d5', 'uf_d6', 'uf_d7', 'uf_d8', 'uf_d9', 'uf_d10',\n",
      "       'uf_d11', 'uf_d12', 'uf_d13', 'uf_d14', 'uf_d15', 'uf_d16', 'uf_d17',\n",
      "       'uf_d18', 'uf_d19', 'uf_d20', 'uf_d21', 'uf_d22', 'uf_d23', 'uf_d24',\n",
      "       'uf_d25', 'uf_d26'],\n",
      "      dtype='object')\n",
      "Number of rows in the Dataset: 467\n"
     ]
    }
   ],
   "source": [
    "corruption_df[\"log_valor_corrupt\"] = np.log(corruption_df[\"valor_corrupt\"] + 1)\n",
    "\n",
    "# Define the treatment and outcome variables\n",
    "treatment = \"first\"  \n",
    "outcomes = [\"pcorrupt\", \"ncorrupt_os\", \"valor_corrupt\",'log_valor_corrupt'] \n",
    "\n",
    "# Use all covariates\n",
    "all_covariates = (\n",
    "    mayor_covariates +\n",
    "    municipal_covariates +\n",
    "    political_judicial_covariates +\n",
    "    dummy_covariates\n",
    ")\n",
    "#set up dataset:\n",
    "required_columns = [treatment] + outcomes + all_covariates\n",
    "double_ml_dataset = corruption_df[required_columns].dropna()\n",
    "\n",
    "print(\"Dataset Columns:\", double_ml_dataset.columns)\n",
    "print(\"Number of rows in the Dataset:\", double_ml_dataset.shape[0])"
   ]
  },
  {
   "cell_type": "markdown",
   "metadata": {},
   "source": [
    "## Lasso "
   ]
  },
  {
   "cell_type": "code",
   "execution_count": 113,
   "metadata": {},
   "outputs": [
    {
     "name": "stdout",
     "output_type": "stream",
     "text": [
      "Doubly Robust Treatment Effect Estimates with Cross-Fitting:\n",
      "[np.float32(-0.0220353), np.float32(-0.0085152965), np.float32(-148571.44), np.float32(-1.0674746)]\n"
     ]
    }
   ],
   "source": [
    "theta_hat_dr_values = []\n",
    "\n",
    "# Loop through each outcome\n",
    "for outcome in outcomes:\n",
    "    \n",
    "    X = double_ml_dataset[all_covariates]\n",
    "    D = double_ml_dataset[treatment]\n",
    "    Y = double_ml_dataset[outcome]\n",
    "    \n",
    "    scaler = StandardScaler()\n",
    "    X_scaled = scaler.fit_transform(X)\n",
    "    \n",
    "    # Prepare 5-Fold Cross-Fitting\n",
    "    kf = KFold(n_splits=5, shuffle=True, random_state=42)\n",
    "\n",
    "    dr_ate_fold = []\n",
    "    \n",
    "    for train_index, test_index in kf.split(X_scaled):\n",
    "        X_train, X_test = X_scaled[train_index], X_scaled[test_index]\n",
    "        D_train, D_test = D.iloc[train_index], D.iloc[test_index]\n",
    "        Y_train, Y_test = Y.iloc[train_index], Y.iloc[test_index]\n",
    "        \n",
    "        # Estimate propensity scores using Lasso\n",
    "        lasso_pscore = LassoCV(alphas=np.logspace(-4, 0, 50), cv=5, random_state=42).fit(X_train, D_train)\n",
    "        D_pred = lasso_pscore.predict(X_test)\n",
    "        propensity_scores = expit(D_pred) \n",
    "        \n",
    "        # Trim p-scores (0.01, 0.99)\n",
    "        trimmed_indices = (propensity_scores > 0.01) & (propensity_scores < 0.99)\n",
    "        trimmed_X = X_test[trimmed_indices]\n",
    "        trimmed_D = D_test.iloc[trimmed_indices]\n",
    "        trimmed_Y = Y_test.iloc[trimmed_indices]\n",
    "        trimmed_pscore = propensity_scores[trimmed_indices]\n",
    "        \n",
    "        # Fit outcome models for treated (D=1) and untreated (D=0) groups\n",
    "        # Treated model\n",
    "        treated_model = LassoCV(alphas=np.logspace(-4, 0, 50), cv=5, random_state=42)\n",
    "        treated_model.fit(X_train[D_train == 1], Y_train[D_train == 1])\n",
    "        gamma1 = treated_model.predict(trimmed_X)\n",
    "        \n",
    "        # Untreated model\n",
    "        untreated_model = LassoCV(alphas=np.logspace(-4, 0, 50), cv=5, random_state=42)\n",
    "        untreated_model.fit(X_train[D_train == 0], Y_train[D_train == 0])\n",
    "        gamma0 = untreated_model.predict(trimmed_X)\n",
    "        \n",
    "        # Step 3: Calculate doubly robust estimates for potential outcomes\n",
    "        trimmed_data = pd.DataFrame({\n",
    "            \"gamma1\": gamma1,\n",
    "            \"gamma0\": gamma0,\n",
    "            \"D\": trimmed_D.values,\n",
    "            \"Y\": trimmed_Y.values,\n",
    "            \"pscore\": trimmed_pscore,\n",
    "        })\n",
    "        \n",
    "        # DR Estimate for Y(1)\n",
    "        trimmed_data['Y1_dr'] = (\n",
    "            trimmed_data['gamma1'] +\n",
    "            (trimmed_data['D'] / trimmed_data['pscore']) * (trimmed_data['Y'] - trimmed_data['gamma1'])\n",
    "        )\n",
    "        \n",
    "        # DR Estimate for Y(0)\n",
    "        trimmed_data['Y0_dr'] = (\n",
    "            trimmed_data['gamma0'] +\n",
    "            ((1 - trimmed_data['D']) / (1 - trimmed_data['pscore'])) * (trimmed_data['Y'] - trimmed_data['gamma0'])\n",
    "        )\n",
    "        \n",
    "        # Calculate treatment effect for the fold\n",
    "        dr_ate_fold.append(np.mean(trimmed_data['Y1_dr'] - trimmed_data['Y0_dr']))\n",
    "    \n",
    "    # Average treatment effect across folds\n",
    "    dr_ate = np.mean(dr_ate_fold)\n",
    "    theta_hat_dr_values.append(dr_ate)\n",
    "\n",
    "# Print the final treatment effect estimates\n",
    "print(\"Doubly Robust Treatment Effect Estimates with Cross-Fitting:\")\n",
    "print(theta_hat_dr_values)\n"
   ]
  },
  {
   "cell_type": "code",
   "execution_count": 115,
   "metadata": {},
   "outputs": [
    {
     "name": "stdout",
     "output_type": "stream",
     "text": [
      "Standardized Mean Differences (SMD): [0.06885722 0.2901101  0.02904402 0.6848417  0.21398759 0.06088972\n",
      " 0.25428903 0.41079307 0.09445282 0.04607635 0.6        0.6\n",
      " 0.35854152 0.24288547 0.24353866 0.03111833 0.16987991 0.2\n",
      " 0.17568141 0.1651254  0.21418196 0.6        0.02996126 0.04102391\n",
      " 0.18319435 0.20693757 0.4547287  0.39264885 0.3478793  0.23060311\n",
      " 0.2800635  0.00521759 0.20551337 0.15774368 0.38865724 0.08364097\n",
      " 0.05980109 0.2552489  0.47479638 0.35756427 0.02450931 0.18689632\n",
      " 0.19421004 0.06287777 0.35430452 0.26188627 0.01593611 0.25\n",
      " 0.46131605 0.3687714  0.05878664 0.0249002  0.26350877 0.01907789\n",
      " 0.1791523  0.16089885 0.17051342 0.3866724  0.17795302 0.25078654\n",
      " 0.23934054 0.625      0.04331093 0.07217446 0.17713386 0.03650402\n",
      " 0.4       ]\n"
     ]
    }
   ],
   "source": [
    "# Checking for balance\n",
    "weights_treated = 1 / propensity_scores[trimmed_D == 1]\n",
    "weights_untreated = 1 / (1 - propensity_scores[trimmed_D == 0])\n",
    "\n",
    "# Create DataFrames for treated and untreated groups\n",
    "treated_data = trimmed_X[trimmed_D == 1]\n",
    "untreated_data = trimmed_X[trimmed_D == 0]\n",
    "\n",
    "# Compute weighted means for each covariate\n",
    "treated_means = np.average(treated_data, axis=0, weights=weights_treated)\n",
    "untreated_means = np.average(untreated_data, axis=0, weights=weights_untreated)\n",
    "\n",
    "# Check absolute standardized mean differences\n",
    "smd = np.abs(treated_means - untreated_means) / np.std(trimmed_X, axis=0)\n",
    "print(\"Standardized Mean Differences (SMD):\", smd)"
   ]
  },
  {
   "cell_type": "markdown",
   "metadata": {},
   "source": [
    "Not very balanced."
   ]
  },
  {
   "cell_type": "markdown",
   "metadata": {},
   "source": [
    "#### Assuming Homogeneous treatment effct "
   ]
  },
  {
   "cell_type": "code",
   "execution_count": 111,
   "metadata": {},
   "outputs": [
    {
     "name": "stdout",
     "output_type": "stream",
     "text": [
      "Doubly Robust Treatment Effect Estimates with Cross-Fitting (Homogeneous):\n",
      "[np.float32(-0.022970194), np.float32(-0.008827694), np.float32(-133287.84), np.float32(-1.0866188)]\n"
     ]
    }
   ],
   "source": [
    "theta_hat_dr_values = []\n",
    "\n",
    "# Loop through each outcome\n",
    "for outcome in outcomes:\n",
    "    \n",
    "    X = double_ml_dataset[all_covariates]\n",
    "    D = double_ml_dataset[treatment]\n",
    "    Y = double_ml_dataset[outcome]\n",
    "    \n",
    "    scaler = StandardScaler()\n",
    "    X_scaled = scaler.fit_transform(X)\n",
    "    \n",
    "    # Prepare 5-Fold Cross-Fitting\n",
    "    kf = KFold(n_splits=5, shuffle=True, random_state=42)\n",
    "\n",
    "    dr_ate_fold = []\n",
    "    \n",
    "    for train_index, test_index in kf.split(X_scaled):\n",
    "        X_train, X_test = X_scaled[train_index], X_scaled[test_index]\n",
    "        D_train, D_test = D.iloc[train_index], D.iloc[test_index]\n",
    "        Y_train, Y_test = Y.iloc[train_index], Y.iloc[test_index]\n",
    "        \n",
    "        # Estimate propensity scores using Lasso\n",
    "        lasso_pscore = LassoCV(alphas=np.logspace(-4, 0, 50), cv=5, random_state=42).fit(X_train, D_train)\n",
    "        D_pred = lasso_pscore.predict(X_test)\n",
    "        propensity_scores = expit(D_pred) \n",
    "        \n",
    "        # Trim p-scores (0.01, 0.99)\n",
    "        trimmed_indices = (propensity_scores > 0.01) & (propensity_scores < 0.99)\n",
    "        trimmed_X = X_test[trimmed_indices]\n",
    "        trimmed_D = D_test.iloc[trimmed_indices]\n",
    "        trimmed_Y = Y_test.iloc[trimmed_indices]\n",
    "        trimmed_pscore = propensity_scores[trimmed_indices]\n",
    "        \n",
    "        # Fit a single outcome model for homogeneous treatment effect\n",
    "        outcome_model = LassoCV(alphas=np.logspace(-4, 0, 50), cv=5, random_state=42)\n",
    "        outcome_model.fit(X_train, Y_train)\n",
    "        gamma = outcome_model.predict(trimmed_X)\n",
    "        \n",
    "        # Step 3: Calculate doubly robust estimates for potential outcomes\n",
    "        trimmed_data = pd.DataFrame({\n",
    "            \"gamma\": gamma,\n",
    "            \"D\": trimmed_D.values,\n",
    "            \"Y\": trimmed_Y.values,\n",
    "            \"pscore\": trimmed_pscore,\n",
    "        })\n",
    "        \n",
    "        # DR Estimate for Y(1)\n",
    "        trimmed_data['Y1_dr'] = (\n",
    "            trimmed_data['gamma'] +\n",
    "            (trimmed_data['D'] / trimmed_data['pscore']) * (trimmed_data['Y'] - trimmed_data['gamma'])\n",
    "        )\n",
    "        \n",
    "        # DR Estimate for Y(0)\n",
    "        trimmed_data['Y0_dr'] = (\n",
    "            trimmed_data['gamma'] +\n",
    "            ((1 - trimmed_data['D']) / (1 - trimmed_data['pscore'])) * (trimmed_data['Y'] - trimmed_data['gamma'])\n",
    "        )\n",
    "        \n",
    "        # Calculate treatment effect for the fold\n",
    "        dr_ate_fold.append(np.mean(trimmed_data['Y1_dr'] - trimmed_data['Y0_dr']))\n",
    "    \n",
    "    # Average treatment effect across folds\n",
    "    dr_ate = np.mean(dr_ate_fold)\n",
    "    theta_hat_dr_values.append(dr_ate)\n",
    "\n",
    "# Print the final treatment effect estimates\n",
    "print(\"Doubly Robust Treatment Effect Estimates with Cross-Fitting (Homogeneous):\")\n",
    "print(theta_hat_dr_values)"
   ]
  },
  {
   "cell_type": "markdown",
   "metadata": {},
   "source": [
    "## Random Forest"
   ]
  },
  {
   "cell_type": "code",
   "execution_count": 99,
   "metadata": {},
   "outputs": [],
   "source": [
    "from sklearn.ensemble import RandomForestRegressor, RandomForestClassifier"
   ]
  },
  {
   "cell_type": "markdown",
   "metadata": {},
   "source": [
    "#### Assuming Heterogeneous Treatment Effect"
   ]
  },
  {
   "cell_type": "code",
   "execution_count": 103,
   "metadata": {},
   "outputs": [
    {
     "name": "stdout",
     "output_type": "stream",
     "text": [
      "Doubly Robust Treatment Effect Estimates with Cross-Fitting:\n",
      "[np.float64(-0.02624645123282341), np.float64(-0.007433930715706694), np.float64(-144203.11000315569), np.float64(-0.9106803645466292)]\n"
     ]
    }
   ],
   "source": [
    "# Assuming Heterogeneity\n",
    "\n",
    "theta_hat_dr_values = []\n",
    "\n",
    "# Loop through each outcome\n",
    "for outcome in outcomes:\n",
    "    \n",
    "    X = double_ml_dataset[all_covariates]\n",
    "    D = double_ml_dataset[treatment]\n",
    "    Y = double_ml_dataset[outcome]\n",
    "    \n",
    "    scaler = StandardScaler()\n",
    "    X_scaled = scaler.fit_transform(X)\n",
    "    \n",
    "    # Prepare 5-Fold Cross-Fitting\n",
    "    kf = KFold(n_splits=5, shuffle=True, random_state=42)\n",
    "    dr_ate_fold = []\n",
    "    \n",
    "    for train_index, test_index in kf.split(X_scaled):\n",
    "        X_train, X_test = X_scaled[train_index], X_scaled[test_index]\n",
    "        D_train, D_test = D.iloc[train_index], D.iloc[test_index]\n",
    "        Y_train, Y_test = Y.iloc[train_index], Y.iloc[test_index]\n",
    "        \n",
    "        # Estimate propensity scores using Random Forest\n",
    "        rf_pscore = RandomForestClassifier(n_estimators=100, max_depth=5, random_state=42)\n",
    "        rf_pscore.fit(X_train, D_train)\n",
    "        propensity_scores = rf_pscore.predict_proba(X_test)[:, 1]  # Probability of treatment\n",
    "        \n",
    "        # Trim p-scores (0.01, 0.99)\n",
    "        trimmed_indices = (propensity_scores > 0.01) & (propensity_scores < 0.99)\n",
    "        trimmed_X = X_test[trimmed_indices]\n",
    "        trimmed_D = D_test.iloc[trimmed_indices]\n",
    "        trimmed_Y = Y_test.iloc[trimmed_indices]\n",
    "        trimmed_pscore = propensity_scores[trimmed_indices]\n",
    "        \n",
    "        # Fit outcome models for treated (D=1) and untreated (D=0) groups using Random Forest\n",
    "        # Treated model\n",
    "        treated_model = RandomForestRegressor(n_estimators=100, max_depth=5, random_state=42)\n",
    "        treated_model.fit(X_train[D_train == 1], Y_train[D_train == 1])\n",
    "        gamma1 = treated_model.predict(trimmed_X)\n",
    "        \n",
    "        # Untreated model\n",
    "        untreated_model = RandomForestRegressor(n_estimators=100, max_depth=5, random_state=42)\n",
    "        untreated_model.fit(X_train[D_train == 0], Y_train[D_train == 0])\n",
    "        gamma0 = untreated_model.predict(trimmed_X)\n",
    "        \n",
    "        trimmed_data = pd.DataFrame({\n",
    "            \"gamma1\": gamma1,\n",
    "            \"gamma0\": gamma0,\n",
    "            \"D\": trimmed_D.values,\n",
    "            \"Y\": trimmed_Y.values,\n",
    "            \"pscore\": trimmed_pscore,\n",
    "        })\n",
    "        \n",
    "        # DR Estimate for Y(1)\n",
    "        trimmed_data['Y1_dr'] = (\n",
    "            trimmed_data['gamma1'] +\n",
    "            (trimmed_data['D'] / trimmed_data['pscore']) * (trimmed_data['Y'] - trimmed_data['gamma1'])\n",
    "        )\n",
    "        \n",
    "        # DR Estimate for Y(0)\n",
    "        trimmed_data['Y0_dr'] = (\n",
    "            trimmed_data['gamma0'] +\n",
    "            ((1 - trimmed_data['D']) / (1 - trimmed_data['pscore'])) * (trimmed_data['Y'] - trimmed_data['gamma0'])\n",
    "        )\n",
    "        \n",
    "        dr_ate_fold.append(np.mean(trimmed_data['Y1_dr'] - trimmed_data['Y0_dr']))\n",
    "    \n",
    "    # Average treatment effect across folds\n",
    "    dr_ate = np.mean(dr_ate_fold)\n",
    "    theta_hat_dr_values.append(dr_ate)\n",
    "\n",
    "# Print the final treatment effect estimates\n",
    "print(\"Doubly Robust Treatment Effect Estimates with Cross-Fitting:\")\n",
    "print(theta_hat_dr_values)"
   ]
  },
  {
   "cell_type": "code",
   "execution_count": 104,
   "metadata": {},
   "outputs": [
    {
     "name": "stdout",
     "output_type": "stream",
     "text": [
      "Standardized Mean Differences (SMD): [6.50356092e-02 2.62891458e-01 4.46274547e-02 5.68645557e-01\n",
      " 1.40846193e-01 2.85167214e-02 2.39017798e-01 4.21856346e-01\n",
      " 1.70203834e-01 3.12581267e-02 1.11758709e-09 1.11758709e-09\n",
      " 3.40814162e-01 2.19392841e-01 2.04254184e-01 6.68983541e-04\n",
      " 1.36899855e-01 1.11758709e-09 1.48401816e-01 1.57523424e-01\n",
      " 1.77873843e-01 1.11758709e-09 1.64725845e-01 1.52697392e-01\n",
      " 9.21535698e-03 2.80392638e-01 3.54954060e-01 4.13530648e-01\n",
      " 1.65639872e-01 5.90287328e-02 1.05886511e-01 7.97249442e-03\n",
      " 9.18892102e-02 1.52543983e-01 4.31016975e-01 9.91344798e-02\n",
      " 1.11597675e-01 2.86269278e-01 4.33117663e-01 4.24619704e-01\n",
      " 2.35066993e-02 1.68955984e-01 1.73020941e-01 1.04110585e-01\n",
      " 3.15033490e-01 2.44864719e-01 7.19494572e-02 4.65661287e-10\n",
      " 4.64575176e-01 3.91367717e-01 2.11395745e-02 8.00353031e-03\n",
      " 2.68994830e-01 1.66763040e-03 1.63270268e-01 1.08851813e-01\n",
      " 8.79607502e-02 4.67152370e-01 2.46684250e-01 2.45766903e-01\n",
      " 1.55956523e-01 2.32830644e-10 2.61510988e-02 8.38009898e-02\n",
      " 1.90309951e-01 1.61492627e-02 0.00000000e+00]\n"
     ]
    }
   ],
   "source": [
    "# Checking for balance\n",
    "weights_treated = 1 / propensity_scores[trimmed_D == 1]\n",
    "weights_untreated = 1 / (1 - propensity_scores[trimmed_D == 0])\n",
    "\n",
    "# Create DataFrames for treated and untreated groups\n",
    "treated_data = trimmed_X[trimmed_D == 1]\n",
    "untreated_data = trimmed_X[trimmed_D == 0]\n",
    "\n",
    "# Compute weighted means for each covariate\n",
    "treated_means = np.average(treated_data, axis=0, weights=weights_treated)\n",
    "untreated_means = np.average(untreated_data, axis=0, weights=weights_untreated)\n",
    "\n",
    "# Check absolute standardized mean differences\n",
    "smd = np.abs(treated_means - untreated_means) / np.std(trimmed_X, axis=0)\n",
    "print(\"Standardized Mean Differences (SMD):\", smd)"
   ]
  },
  {
   "cell_type": "markdown",
   "metadata": {},
   "source": [
    "Balanced"
   ]
  },
  {
   "cell_type": "markdown",
   "metadata": {},
   "source": [
    "#### Assuming Homogeneous Treatment Effect"
   ]
  },
  {
   "cell_type": "code",
   "execution_count": null,
   "metadata": {},
   "outputs": [
    {
     "name": "stdout",
     "output_type": "stream",
     "text": [
      "Processing outcome: pcorrupt\n",
      "Processing outcome: ncorrupt_os\n",
      "Processing outcome: valor_corrupt\n",
      "Processing outcome: log_valor_corrupt\n",
      "Doubly Robust Treatment Effect Estimates with Cross-Fitting (Homogeneous):\n",
      "[np.float64(-0.02463704325446932), np.float64(-0.007449776512350478), np.float64(-130235.47453452607), np.float64(-0.8915841042301809)]\n"
     ]
    }
   ],
   "source": [
    "# Assuming Homogeneous effect \n",
    "theta_hat_dr_values = []\n",
    "\n",
    "# Loop through each outcome\n",
    "for outcome in outcomes:\n",
    "    \n",
    "    X = double_ml_dataset[all_covariates]\n",
    "    D = double_ml_dataset[treatment]\n",
    "    Y = double_ml_dataset[outcome]\n",
    "    \n",
    "    scaler = StandardScaler()\n",
    "    X_scaled = scaler.fit_transform(X)\n",
    "    \n",
    "    kf = KFold(n_splits=5, shuffle=True, random_state=42)\n",
    "    dr_ate_fold = []\n",
    "    \n",
    "    for train_index, test_index in kf.split(X_scaled):\n",
    "        X_train, X_test = X_scaled[train_index], X_scaled[test_index]\n",
    "        D_train, D_test = D.iloc[train_index], D.iloc[test_index]\n",
    "        Y_train, Y_test = Y.iloc[train_index], Y.iloc[test_index]\n",
    "        \n",
    "        # Estimate propensity scores using Random Forest\n",
    "        rf_pscore = RandomForestClassifier(n_estimators=100, max_depth=5, random_state=42)\n",
    "        rf_pscore.fit(X_train, D_train)\n",
    "        propensity_scores = rf_pscore.predict_proba(X_test)[:, 1]\n",
    "        \n",
    "        # Trim p-scores (0.01, 0.99)\n",
    "        trimmed_indices = (propensity_scores > 0.01) & (propensity_scores < 0.99)\n",
    "        trimmed_X = X_test[trimmed_indices]\n",
    "        trimmed_D = D_test.iloc[trimmed_indices]\n",
    "        trimmed_Y = Y_test.iloc[trimmed_indices]\n",
    "        trimmed_pscore = propensity_scores[trimmed_indices]\n",
    "        \n",
    "\n",
    "        outcome_model = RandomForestRegressor(n_estimators=100, max_depth=5, random_state=42)\n",
    "        outcome_model.fit(X_train, Y_train)\n",
    "        gamma = outcome_model.predict(trimmed_X)\n",
    "        \n",
    "        # Calculate doubly robust estimates for potential outcomes\n",
    "        trimmed_data = pd.DataFrame({\n",
    "            \"gamma\": gamma,\n",
    "            \"D\": trimmed_D.values,\n",
    "            \"Y\": trimmed_Y.values,\n",
    "            \"pscore\": trimmed_pscore,\n",
    "        })\n",
    "        \n",
    "        # DR Estimate for Y(1)\n",
    "        trimmed_data['Y1_dr'] = (\n",
    "            trimmed_data['gamma'] +\n",
    "            (trimmed_data['D'] / trimmed_data['pscore']) * (trimmed_data['Y'] - trimmed_data['gamma'])\n",
    "        )\n",
    "        \n",
    "        # DR Estimate for Y(0)\n",
    "        trimmed_data['Y0_dr'] = (\n",
    "            trimmed_data['gamma'] +\n",
    "            ((1 - trimmed_data['D']) / (1 - trimmed_data['pscore'])) * (trimmed_data['Y'] - trimmed_data['gamma'])\n",
    "        )\n",
    "        \n",
    "        dr_ate_fold.append(np.mean(trimmed_data['Y1_dr'] - trimmed_data['Y0_dr']))\n",
    "    \n",
    "    # Average treatment effect across folds\n",
    "    dr_ate = np.mean(dr_ate_fold)\n",
    "    theta_hat_dr_values.append(dr_ate)\n",
    "\n",
    "# Print the final treatment effect estimates\n",
    "print(\"Doubly Robust Treatment Effect Estimates with Cross-Fitting (Homogeneous):\")\n",
    "print(theta_hat_dr_values)"
   ]
  },
  {
   "cell_type": "markdown",
   "metadata": {},
   "source": [
    "## Neural Network"
   ]
  },
  {
   "cell_type": "code",
   "execution_count": null,
   "metadata": {},
   "outputs": [],
   "source": []
  },
  {
   "cell_type": "markdown",
   "metadata": {},
   "source": [
    "## Gradient Boosting\n"
   ]
  },
  {
   "cell_type": "code",
   "execution_count": null,
   "metadata": {},
   "outputs": [],
   "source": [
    "from sklearn.ensemble import GradientBoostingRegressor"
   ]
  },
  {
   "cell_type": "code",
   "execution_count": null,
   "metadata": {},
   "outputs": [
    {
     "name": "stdout",
     "output_type": "stream",
     "text": [
      "             Outcome      Estimate           MSE\n",
      "0           pcorrupt     -0.003627  1.225573e-02\n",
      "1        ncorrupt_os     -0.000977  2.253265e-03\n",
      "2      valor_corrupt  13570.270137  3.690273e+11\n",
      "3  log_valor_corrupt     -0.185162  2.877532e+01\n"
     ]
    }
   ],
   "source": [
    "gb_results = []\n",
    "\n",
    "# Loop through each outcome in the list of outcomes\n",
    "for outcome in outcomes:\n",
    "    \n",
    "    X = double_ml_dataset[all_covariates]\n",
    "    D = double_ml_dataset[treatment]\n",
    "    Y = double_ml_dataset[outcome]\n",
    "    \n",
    "    # Standardize the covariates\n",
    "    scaler = StandardScaler()\n",
    "    X_scaled = scaler.fit_transform(X)\n",
    "    \n",
    "    # Prepare 5-Fold Cross-Fitting\n",
    "    kf = KFold(n_splits=5, shuffle=True, random_state=42)\n",
    "    \n",
    "    folds = []\n",
    "    for train_index, test_index in kf.split(X_scaled):\n",
    "        X_train, X_test = X_scaled[train_index], X_scaled[test_index]\n",
    "        D_train, D_test = D.iloc[train_index], D.iloc[test_index]\n",
    "        Y_train, Y_test = Y.iloc[train_index], Y.iloc[test_index]\n",
    "        folds.append((X_train, X_test, D_train, D_test, Y_train, Y_test))\n",
    "    \n",
    "    fold_estimates = []\n",
    "    fold_mse = []\n",
    "    \n",
    "    # Loop through folds for cross-fitting\n",
    "    for fold_idx, (X_train, X_test, D_train, D_test, Y_train, Y_test) in enumerate(folds):\n",
    "        # Train Gradient Boosting model\n",
    "        gb_model = GradientBoostingRegressor(random_state=42, n_estimators=100, learning_rate=0.1, max_depth=3)\n",
    "        gb_model.fit(X_train, Y_train)\n",
    "        \n",
    "        # Predict on test data\n",
    "        Y_pred = gb_model.predict(X_test)\n",
    "        \n",
    "        # Theta (Treatment Effect)\n",
    "        treatment_effect = (\n",
    "            np.mean(Y_pred[D_test.values == 1]) - np.mean(Y_pred[D_test.values == 0])\n",
    "        )\n",
    "        fold_estimates.append(treatment_effect)\n",
    "        \n",
    "        # MSE\n",
    "        mse = mean_squared_error(Y_test, Y_pred)\n",
    "        fold_mse.append(mse)\n",
    "    \n",
    "    # Compute overall average estimate and MSE for the current outcome\n",
    "    average_estimate = np.mean(fold_estimates)\n",
    "    average_mse = np.mean(fold_mse)\n",
    "    \n",
    "    # Store the results\n",
    "    gb_results.append({\"Outcome\": outcome, \"Estimate\": average_estimate, \"MSE\": average_mse})\n",
    "\n",
    "gb_results_df = pd.DataFrame(gb_results)\n",
    "\n",
    "print(gb_results_df)"
   ]
  },
  {
   "cell_type": "code",
   "execution_count": null,
   "metadata": {},
   "outputs": [],
   "source": []
  },
  {
   "cell_type": "code",
   "execution_count": null,
   "metadata": {},
   "outputs": [],
   "source": [
    "outcome = outcomes[0]  \n",
    "X = double_ml_dataset[all_covariates]\n",
    "D = double_ml_dataset[treatment]\n",
    "Y = double_ml_dataset[outcome]\n",
    "\n",
    "# Standardize the covariates\n",
    "scaler = StandardScaler()\n",
    "X_scaled = scaler.fit_transform(X)\n",
    "\n",
    "# Prepare 5-Fold Cross-Fitting\n",
    "kf = KFold(n_splits=5, shuffle=True, random_state=42)\n",
    "\n",
    "# Create train-test splits\n",
    "folds = []\n",
    "for train_index, test_index in kf.split(X_scaled):\n",
    "    X_train, X_test = X_scaled[train_index], X_scaled[test_index]\n",
    "    D_train, D_test = D.iloc[train_index], D.iloc[test_index]\n",
    "    Y_train, Y_test = Y.iloc[train_index], Y.iloc[test_index]\n",
    "    folds.append((X_train, X_test, D_train, D_test, Y_train, Y_test))\n",
    "\n",
    "# Regularization Path for Lasso\n",
    "alphas = np.logspace(-4, 0, 50)  # 50 values between 10^-4 and 10^0"
   ]
  },
  {
   "cell_type": "code",
   "execution_count": null,
   "metadata": {},
   "outputs": [
    {
     "name": "stdout",
     "output_type": "stream",
     "text": [
      "Fold 1:\n",
      "  Treatment Effect Estimate: 0.00016003802844498372\n",
      "  MSE: 0.015647467677191204\n",
      "\n",
      "Fold 2:\n",
      "  Treatment Effect Estimate: -0.0006888164775919192\n",
      "  MSE: 0.01649880032634493\n",
      "\n",
      "Fold 3:\n",
      "  Treatment Effect Estimate: -0.013099382864855375\n",
      "  MSE: 0.009203978743665922\n",
      "\n",
      "Fold 4:\n",
      "  Treatment Effect Estimate: 0.0018513191815970748\n",
      "  MSE: 0.008108130135200117\n",
      "\n",
      "Fold 5:\n",
      "  Treatment Effect Estimate: -0.006359663711762623\n",
      "  MSE: 0.011820252893298648\n",
      "\n",
      "Final Results:\n",
      " Average Treatment Effect Estimate: -0.0036273011688335716\n",
      " Average MSE: 0.012255725955140165\n"
     ]
    }
   ],
   "source": [
    "\n",
    "# Initialize lists to store fold estimates and MSE\n",
    "fold_estimates = []\n",
    "fold_mse = []\n",
    "\n",
    "\n",
    "# Loop through folds for cross-fitting\n",
    "for fold_idx, (X_train, X_test, D_train, D_test, Y_train, Y_test) in enumerate(folds):\n",
    "    # Train Gradient Boosting model\n",
    "    gb_model = GradientBoostingRegressor(random_state=42).fit(X_train, Y_train)\n",
    "    \n",
    "    # Predict on test data\n",
    "    Y_pred = gb_model.predict(X_test)\n",
    "    \n",
    "    # Calculate the treatment effect\n",
    "    treatment_effect = (\n",
    "        np.mean(Y_pred[D_test.values == 1]) - np.mean(Y_pred[D_test.values == 0])\n",
    "    )\n",
    "    fold_estimates.append(treatment_effect)\n",
    "    \n",
    "    # MSE\n",
    "    mse = mean_squared_error(Y_test, Y_pred)\n",
    "    fold_mse.append(mse)\n",
    "    \n",
    "    print(f\"Fold {fold_idx + 1}:\")\n",
    "    print(f\"  Treatment Effect Estimate: {treatment_effect}\")\n",
    "    print(f\"  MSE: {mse}\")\n",
    "    print()\n",
    "\n",
    "# Compute overall average estimate and MSE\n",
    "average_estimate = np.mean(fold_estimates)\n",
    "average_mse = np.mean(fold_mse)\n",
    "\n",
    "print(\"Final Results:\")\n",
    "print(f\" Average Treatment Effect Estimate: {average_estimate}\")\n",
    "print(f\" Average MSE: {average_mse}\")"
   ]
  },
  {
   "cell_type": "markdown",
   "metadata": {},
   "source": [
    "## Analysis \n",
    "\n",
    "compare mse/theta,\n"
   ]
  },
  {
   "cell_type": "markdown",
   "metadata": {},
   "source": [
    "## Conclusion"
   ]
  },
  {
   "cell_type": "markdown",
   "metadata": {},
   "source": []
  }
 ],
 "metadata": {
  "kernelspec": {
   "display_name": "Python 3",
   "language": "python",
   "name": "python3"
  },
  "language_info": {
   "codemirror_mode": {
    "name": "ipython",
    "version": 3
   },
   "file_extension": ".py",
   "mimetype": "text/x-python",
   "name": "python",
   "nbconvert_exporter": "python",
   "pygments_lexer": "ipython3",
   "version": "3.12.1"
  }
 },
 "nbformat": 4,
 "nbformat_minor": 2
}
