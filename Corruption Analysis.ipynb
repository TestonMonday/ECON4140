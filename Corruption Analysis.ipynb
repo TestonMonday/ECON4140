{
 "cells": [
  {
   "cell_type": "markdown",
   "metadata": {},
   "source": [
    "# __Econometric Game__: Effect of electoral accountability on corruption?\n",
    "   \n",
    "### Team 3: Katheryn Ding, Amber Wei, Max Ye\n",
    "\n"
   ]
  },
  {
   "cell_type": "markdown",
   "metadata": {},
   "source": [
    "## Set up "
   ]
  },
  {
   "cell_type": "code",
   "execution_count": 102,
   "metadata": {},
   "outputs": [],
   "source": [
    "import numpy as np\n",
    "import pandas as pd\n",
    "import tensorflow as tf\n",
    "from scipy.special import expit\n",
    "from sklearn.linear_model import LogisticRegression\n",
    "from sklearn.metrics import mean_squared_error\n",
    "import warnings\n",
    "warnings.filterwarnings(\"ignore\")\n"
   ]
  },
  {
   "cell_type": "code",
   "execution_count": 103,
   "metadata": {},
   "outputs": [
    {
     "data": {
      "text/plain": [
       "Index(['uf', 'nsorteio', 'totrecursos', 'tot_os', 'pop', 'purb',\n",
       "       'p_secundario', 'cod_ibge6', 'pib_capita_02', 'op_01_04',\n",
       "       ...\n",
       "       'uf_d18', 'uf_d19', 'uf_d20', 'uf_d21', 'uf_d22', 'uf_d23', 'uf_d24',\n",
       "       'uf_d25', 'uf_d26', 'esample2'],\n",
       "      dtype='object', length=116)"
      ]
     },
     "execution_count": 103,
     "metadata": {},
     "output_type": "execute_result"
    }
   ],
   "source": [
    "corruption_df = pd.read_stata(\"corruptiondata.dta\")\n",
    "corruption_df.columns"
   ]
  },
  {
   "cell_type": "code",
   "execution_count": 104,
   "metadata": {},
   "outputs": [
    {
     "name": "stdout",
     "output_type": "stream",
     "text": [
      "Mayor Covariates: ['pref_idade_tse', 'pref_masc', 'pref_escola', 'winmargin2000', 'exp_prefeito', 'samepartygov98', 'party_d1', 'party_d3', 'party_d4', 'party_d5', 'party_d6', 'party_d7', 'party_d8', 'party_d9', 'party_d10', 'party_d11', 'party_d12', 'party_d13', 'party_d14', 'party_d15', 'party_d16', 'party_d17', 'party_d18']\n",
      "Municipal Covariates: ['lpop', 'purb', 'p_secundario', 'mun_novo', 'lpib02', 'gini_ipea', 'media2']\n",
      "Political and Judicial Covariates: ['ENEP2000', 'ENLP2000', 'p_cad_pref']\n",
      "Dummy Covariates: ['sorteio1', 'sorteio2', 'sorteio3', 'sorteio4', 'sorteio5', 'sorteio6', 'sorteio7', 'sorteio8', 'sorteio9', 'sorteio10', 'uf_d1', 'uf_d2', 'uf_d3', 'uf_d4', 'uf_d5', 'uf_d6', 'uf_d7', 'uf_d8', 'uf_d9', 'uf_d10', 'uf_d11', 'uf_d12', 'uf_d13', 'uf_d14', 'uf_d15', 'uf_d16', 'uf_d17', 'uf_d18', 'uf_d19', 'uf_d20', 'uf_d21', 'uf_d22', 'uf_d23', 'uf_d24', 'uf_d25', 'uf_d26']\n"
     ]
    }
   ],
   "source": [
    "# Define covariates for each category\n",
    "\n",
    "# Mayor characteristics\n",
    "mayor_covariates = [\n",
    "    \"pref_idade_tse\",  # Age\n",
    "    \"pref_masc\",       # Gender\n",
    "    \"pref_escola\",     # Schooling\n",
    "    \"winmargin2000\",   # Margin of victory in 2000\n",
    "    \"exp_prefeito\",     # Was previously a mayor in a consecutive term\n",
    "    \"samepartygov98\"     #Indicator if mayor is same party as the 1998 governor\n",
    "] + [col for col in corruption_df.columns if col.startswith(\"party_d\")]\n",
    "\n",
    "# Municipal characteristics\n",
    "municipal_covariates = [\n",
    "    \"lpop\",           # Log of population in 2000\n",
    "    \"purb\",           # Percentage of population in urban sectors\n",
    "    \"p_secundario\",   # Percentage with at least secondary education\n",
    "    \"mun_novo\",       # New municipality indicator\n",
    "    \"lpib02\",         # Log of GDP per capita in 2002\n",
    "    \"gini_ipea\",       # Gini coefficient\n",
    "    \"media2\"      #indicator if municipality has a AM radio station and local newspape\n",
    "]\n",
    "\n",
    "# Political and Judicial characteristics\n",
    "political_judicial_covariates = [\n",
    "    \"ENEP2000\",  # Effective number of parties in 2000 mayor elections\n",
    "    \"ENLP2000\",  # Effective number of parties in 2000 legislative elections\n",
    "    \"p_cad_pref\" # Proportion of legislators from the same party as the mayor\n",
    "]\n",
    "\n",
    "# Dummies\n",
    "dummy_covariates = [\n",
    "    col for col in corruption_df.columns if col.startswith(\"uf_d\") or col.startswith(\"sorteio\")\n",
    "]\n",
    "\n",
    "\n",
    "print(\"Mayor Covariates:\", mayor_covariates)\n",
    "print(\"Municipal Covariates:\", municipal_covariates)\n",
    "print(\"Political and Judicial Covariates:\", political_judicial_covariates)\n",
    "print(\"Dummy Covariates:\", dummy_covariates)"
   ]
  },
  {
   "cell_type": "code",
   "execution_count": 105,
   "metadata": {},
   "outputs": [
    {
     "name": "stdout",
     "output_type": "stream",
     "text": [
      "Dataset Columns: Index(['first', 'pcorrupt', 'ncorrupt_os', 'log_valor_corrupt',\n",
      "       'pref_idade_tse', 'pref_masc', 'pref_escola', 'winmargin2000',\n",
      "       'exp_prefeito', 'samepartygov98', 'party_d1', 'party_d3', 'party_d4',\n",
      "       'party_d5', 'party_d6', 'party_d7', 'party_d8', 'party_d9', 'party_d10',\n",
      "       'party_d11', 'party_d12', 'party_d13', 'party_d14', 'party_d15',\n",
      "       'party_d16', 'party_d17', 'party_d18', 'lpop', 'purb', 'p_secundario',\n",
      "       'mun_novo', 'lpib02', 'gini_ipea', 'media2', 'ENEP2000', 'ENLP2000',\n",
      "       'p_cad_pref', 'sorteio1', 'sorteio2', 'sorteio3', 'sorteio4',\n",
      "       'sorteio5', 'sorteio6', 'sorteio7', 'sorteio8', 'sorteio9', 'sorteio10',\n",
      "       'uf_d1', 'uf_d2', 'uf_d3', 'uf_d4', 'uf_d5', 'uf_d6', 'uf_d7', 'uf_d8',\n",
      "       'uf_d9', 'uf_d10', 'uf_d11', 'uf_d12', 'uf_d13', 'uf_d14', 'uf_d15',\n",
      "       'uf_d16', 'uf_d17', 'uf_d18', 'uf_d19', 'uf_d20', 'uf_d21', 'uf_d22',\n",
      "       'uf_d23', 'uf_d24', 'uf_d25', 'uf_d26'],\n",
      "      dtype='object')\n",
      "Number of rows in the Dataset: 467\n"
     ]
    }
   ],
   "source": [
    "corruption_df[\"log_valor_corrupt\"] = np.log(corruption_df[\"valor_corrupt\"] + 1)\n",
    "\n",
    "# Define the treatment and outcome variables\n",
    "treatment = \"first\"  \n",
    "outcomes = [\"pcorrupt\", \"ncorrupt_os\", 'log_valor_corrupt'] \n",
    "\n",
    "# Use all covariates\n",
    "all_covariates = (\n",
    "    mayor_covariates +\n",
    "    municipal_covariates +\n",
    "    political_judicial_covariates +\n",
    "    dummy_covariates\n",
    ")\n",
    "#set up dataset:\n",
    "required_columns = [treatment] + outcomes + all_covariates\n",
    "double_ml_dataset = corruption_df[required_columns].dropna()\n",
    "\n",
    "print(\"Dataset Columns:\", double_ml_dataset.columns)\n",
    "print(\"Number of rows in the Dataset:\", double_ml_dataset.shape[0])"
   ]
  },
  {
   "cell_type": "markdown",
   "metadata": {},
   "source": [
    "## Lasso "
   ]
  },
  {
   "cell_type": "code",
   "execution_count": 106,
   "metadata": {},
   "outputs": [],
   "source": [
    "from sklearn.linear_model import LinearRegression\n",
    "from sklearn.linear_model import LassoCV\n",
    "from sklearn.model_selection import KFold\n",
    "from sklearn.preprocessing import StandardScaler"
   ]
  },
  {
   "cell_type": "markdown",
   "metadata": {},
   "source": [
    "#### Assuming Heterogeneosity "
   ]
  },
  {
   "cell_type": "code",
   "execution_count": 107,
   "metadata": {},
   "outputs": [],
   "source": [
    "# Function to estimate propensity scores using Lasso\n",
    "def estimate_propensity_scores_lasso(X_train, D_train, X_test):\n",
    "    lasso_pscore = LassoCV(alphas=np.logspace(-4, 0, 50), cv=5, random_state=42).fit(X_train, D_train)\n",
    "    D_pred = lasso_pscore.predict(X_test)\n",
    "    propensity_scores = expit(D_pred)  \n",
    "    return propensity_scores"
   ]
  },
  {
   "cell_type": "code",
   "execution_count": 108,
   "metadata": {},
   "outputs": [],
   "source": [
    "# Function to estimate outcome model using Lasso for treated and untreated groups\n",
    "def estimate_outcome_lasso_he(X_train, Y_train, D_train, X_test, treated=True):\n",
    "    if treated:\n",
    "        X_train_filtered = X_train[D_train == 1]\n",
    "        Y_train_filtered = Y_train[D_train == 1]\n",
    "    else:\n",
    "        X_train_filtered = X_train[D_train == 0]\n",
    "        Y_train_filtered = Y_train[D_train == 0]\n",
    "\n",
    "    # Fit Lasso model\n",
    "    lasso_model = LassoCV(alphas=np.logspace(-4, 0, 50), cv=5, random_state=42)\n",
    "    lasso_model.fit(X_train_filtered, Y_train_filtered)\n",
    "    \n",
    "    # Predict on test set\n",
    "    return lasso_model.predict(X_test)\n"
   ]
  },
  {
   "cell_type": "code",
   "execution_count": 109,
   "metadata": {},
   "outputs": [],
   "source": [
    "# Function to perform doubly robust estimation with cross-fitting\n",
    "def doubly_robust_estimation_lasso(X, D, Y, k_folds=5):\n",
    "    # Standardize features\n",
    "    scaler = StandardScaler()\n",
    "    X_scaled = scaler.fit_transform(X)\n",
    "    \n",
    "    kf = KFold(n_splits=k_folds, shuffle=True, random_state=42)\n",
    "    W_hat_dr_values = []\n",
    "    mse_fold = []\n",
    "    \n",
    "    for train_index, test_index in kf.split(X_scaled):\n",
    "        X_train, X_test = X_scaled[train_index], X_scaled[test_index]\n",
    "        D_train, D_test = D.iloc[train_index], D.iloc[test_index]\n",
    "        Y_train, Y_test = Y.iloc[train_index], Y.iloc[test_index]\n",
    "        # Step 1: Estimate propensity scores\n",
    "        propensity_scores = estimate_propensity_scores_lasso(X_train, D_train, X_test)\n",
    "        \n",
    "        # Trim propensity scores\n",
    "        trimmed_indices = (propensity_scores > 0.01) & (propensity_scores < 0.99)\n",
    "        trimmed_X = X_test[trimmed_indices]\n",
    "        trimmed_D = D_test.iloc[trimmed_indices]\n",
    "        trimmed_Y = Y_test.iloc[trimmed_indices]\n",
    "        trimmed_pscore = propensity_scores[trimmed_indices]\n",
    "        \n",
    "        # Step 2: Estimate outcome models for treated and untreated groups\n",
    "        gamma1 = estimate_outcome_lasso_he(X_train, Y_train, D_train, trimmed_X, treated=True)\n",
    "        gamma0 = estimate_outcome_lasso_he(X_train, Y_train, D_train, trimmed_X, treated=False)\n",
    "        \n",
    "        # Step 3: Doubly Robust Estimates\n",
    "        trimmed_data = pd.DataFrame({\n",
    "            \"gamma1\": gamma1,\n",
    "            \"gamma0\": gamma0,\n",
    "            \"D\": trimmed_D.values,\n",
    "            \"Y\": trimmed_Y.values,\n",
    "            \"pscore\": trimmed_pscore,\n",
    "        })\n",
    "        \n",
    "        trimmed_data['Y1_dr'] = trimmed_data['gamma1'] + \\\n",
    "            (trimmed_data['D'] / trimmed_data['pscore']) * (trimmed_data['Y'] - trimmed_data['gamma1'])\n",
    "        \n",
    "        trimmed_data['Y0_dr'] = trimmed_data['gamma0'] + \\\n",
    "            ((1 - trimmed_data['D']) / (1 - trimmed_data['pscore'])) * (trimmed_data['Y'] - trimmed_data['gamma0'])\n",
    "        \n",
    "        # Step 4: Calculate treatment effect and MSE\n",
    "        W_hat_dr_values.append(np.mean(trimmed_data['Y1_dr'] - trimmed_data['Y0_dr']))\n",
    "        mse_fold.append(mean_squared_error(\n",
    "            trimmed_data['Y'], \n",
    "            trimmed_data['Y1_dr'] * trimmed_data['D'] + trimmed_data['Y0_dr'] * (1 - trimmed_data['D'])\n",
    "        ))\n",
    "    \n",
    "    # Return average treatment effect and MSE\n",
    "    return np.mean(W_hat_dr_values), np.mean(mse_fold)"
   ]
  },
  {
   "cell_type": "code",
   "execution_count": 110,
   "metadata": {},
   "outputs": [],
   "source": [
    "# Main function to loop through outcomes and store results\n",
    "def estimate_dr_for_outcomes_lasso(double_ml_dataset, covariates, treatment, outcomes):\n",
    "    theta_hat_dr_values = []\n",
    "    mse_values = []\n",
    "\n",
    "    for outcome in outcomes:\n",
    "        X = double_ml_dataset[covariates]\n",
    "        D = double_ml_dataset[treatment]\n",
    "        Y = double_ml_dataset[outcome]\n",
    "        \n",
    "        dr_ate, mse = doubly_robust_estimation_lasso(X, D, Y)\n",
    "        theta_hat_dr_values.append(dr_ate)\n",
    "        mse_values.append(mse)\n",
    "    \n",
    "    # Create Results DataFrame\n",
    "    result_df = pd.DataFrame({\n",
    "        \"Outcome\": outcomes,\n",
    "        \"Estimate\": theta_hat_dr_values,\n",
    "        \"MSE\": mse_values\n",
    "    })\n",
    "    return result_df"
   ]
  },
  {
   "cell_type": "markdown",
   "metadata": {},
   "source": [
    "### Balance Checking"
   ]
  },
  {
   "cell_type": "code",
   "execution_count": 111,
   "metadata": {},
   "outputs": [
    {
     "name": "stdout",
     "output_type": "stream",
     "text": [
      "Standardized Mean Differences (SMD):\n",
      "[ 0.10444128 -0.04778303  0.02943226 -0.38081515  0.3817461  -0.15100151\n",
      "  0.19332846 -0.04916417 -0.1210468   0.10652541  0.06225735  0.08172923\n",
      "  0.08921463  0.09542131  0.16976179 -0.07561675 -0.14200997  0.11768471\n",
      "  0.14571364  0.13787584  0.08129106  0.09512347 -0.09401499  0.06487443\n",
      "  0.17607577  0.25416455 -0.08146641  0.1068664   0.1276873   0.02848511\n",
      "  0.30597427  0.32191885 -0.47661838  0.00551382 -0.09696279 -0.03323501\n",
      "  0.02808839  0.0083512  -0.03747251 -0.00090737  0.04986335 -0.07095242\n",
      "  0.14596204  0.0746449  -0.10573535 -0.12193336  0.2238265   0.08195173\n",
      "  0.04812928  0.00348178  0.03644304 -0.08590718  0.057608    0.01254421\n",
      "  0.00954509  0.05833079 -0.11724194 -0.11866081 -0.04932118 -0.07436268\n",
      " -0.1675658  -0.06508778 -0.13768427  0.03472234  0.17528316  0.05955687\n",
      " -0.09679345  0.12851685  0.04831812]\n"
     ]
    }
   ],
   "source": [
    "def compute_propensity_scores(X, D):\n",
    "    lasso_pscore = LassoCV(alphas=np.logspace(-4, 0, 50), cv=5, random_state=42)\n",
    "    lasso_pscore.fit(X, D)\n",
    "    propensity_scores = expit(lasso_pscore.predict(X))  # Convert to probabilities using expit\n",
    "    return propensity_scores\n",
    "def compute_smd(double_ml_dataset, covariates, treatment):\n",
    "    X = double_ml_dataset[covariates].values\n",
    "    D = double_ml_dataset[treatment].values\n",
    "    # Estimate propensity scores\n",
    "    pscore = compute_propensity_scores(X, D)\n",
    "    \n",
    "    # Create weights\n",
    "    weights_treated = 1 / pscore\n",
    "    weights_control = 1 / (1 - pscore)\n",
    "    \n",
    "    # Treated and control indices\n",
    "    treated_indices = (D == 1)\n",
    "    control_indices = (D == 0)\n",
    "    \n",
    "    # Compute weighted means\n",
    "    weighted_means_treated = np.average(X[treated_indices], axis=0, weights=weights_treated[treated_indices])\n",
    "    weighted_means_control = np.average(X[control_indices], axis=0, weights=weights_control[control_indices])\n",
    "    \n",
    "    # Compute pooled standard deviation\n",
    "    pooled_std = np.sqrt((np.var(X[treated_indices], axis=0) + np.var(X[control_indices], axis=0)) / 2)\n",
    "    \n",
    "    # Compute Standardized Mean Differences (SMD)\n",
    "    smd = (weighted_means_treated - weighted_means_control) / pooled_std\n",
    "    \n",
    "    return smd\n",
    "\n",
    "# Example usage\n",
    "smd_values = compute_smd(double_ml_dataset, all_covariates, treatment)\n",
    "\n",
    "\n",
    "# Print only the SMD\n",
    "print(\"Standardized Mean Differences (SMD):\")\n",
    "print(smd_values)"
   ]
  },
  {
   "cell_type": "markdown",
   "metadata": {},
   "source": [
    "Not very balanced."
   ]
  },
  {
   "cell_type": "markdown",
   "metadata": {},
   "source": [
    "#### Assuming Homogeneous treatment effct "
   ]
  },
  {
   "cell_type": "code",
   "execution_count": 112,
   "metadata": {},
   "outputs": [],
   "source": [
    "def estimate_outcome_lasso_ho(X_train, Y_train, X_test):\n",
    "    outcome_model = LassoCV(alphas=np.logspace(-4, 0, 50), cv=5, random_state=42)\n",
    "    outcome_model.fit(X_train, Y_train)\n",
    "    gamma_hat = outcome_model.predict(X_test)\n",
    "    return gamma_hat"
   ]
  },
  {
   "cell_type": "code",
   "execution_count": 113,
   "metadata": {},
   "outputs": [],
   "source": [
    "# Function to estimate E[D|X] using Lasso\n",
    "def estimate_propensity_lasso(X_train, D_train, X_test):\n",
    "    pscore_model = LassoCV(alphas=np.logspace(-4, 0, 50), cv=5, random_state=42)\n",
    "    pscore_model.fit(X_train, D_train)\n",
    "    pi_hat = pscore_model.predict(X_test)\n",
    "    return pi_hat"
   ]
  },
  {
   "cell_type": "code",
   "execution_count": 114,
   "metadata": {},
   "outputs": [],
   "source": [
    "# Function to perform doubly robust estimation with cross-fitting\n",
    "def doubly_robust_crossfit_lasso(X, D, Y, k_folds=5):\n",
    "    # Standardize features within this function\n",
    "    scaler = StandardScaler()\n",
    "    X_scaled = scaler.fit_transform(X)\n",
    "\n",
    "    # Initialize variables\n",
    "    kf = KFold(n_splits=k_folds, shuffle=True, random_state=42)\n",
    "    W_hat, V_hat = np.zeros(len(Y)), np.zeros(len(Y))\n",
    "    mse_fold = []  # List to store MSE for each fold\n",
    "    \n",
    "    for train_index, test_index in kf.split(X_scaled):\n",
    "        X_train, X_test = X_scaled[train_index], X_scaled[test_index]\n",
    "        D_train, D_test = D[train_index], D[test_index]\n",
    "        Y_train, Y_test = Y[train_index], Y[test_index]\n",
    "        \n",
    "        # Step 1: Estimate outcome E[Y|X]\n",
    "        gamma_hat = estimate_outcome_lasso_ho(X_train, Y_train, X_test)\n",
    "        \n",
    "        # Step 2: Estimate propensity scores E[D|X]\n",
    "        pi_hat = estimate_propensity_lasso(X_train, D_train, X_test)\n",
    "        \n",
    "        # Step 3: Calculate residuals\n",
    "        W_hat[test_index] = Y_test - gamma_hat\n",
    "        V_hat[test_index] = D_test - pi_hat\n",
    "        \n",
    "        # Step 4: Calculate MSE for this fold\n",
    "        mse_fold.append(mean_squared_error(Y_test, gamma_hat))\n",
    "    \n",
    "    # Step 5: Regress residuals W_hat on V_hat to estimate theta_0\n",
    "    regression = LinearRegression()\n",
    "    regression.fit(V_hat.reshape(-1, 1), W_hat)\n",
    "    theta_hat = regression.coef_[0]\n",
    "    \n",
    "    return theta_hat, np.mean(mse_fold)"
   ]
  },
  {
   "cell_type": "code",
   "execution_count": 115,
   "metadata": {},
   "outputs": [],
   "source": [
    "def estimate_dr_homogeneous_lasso(double_ml_dataset, all_covariates, treatment, outcomes):\n",
    "    theta_hat_dr_values = []\n",
    "    mse_values = []\n",
    "\n",
    "    for outcome in outcomes:\n",
    "        X = double_ml_dataset[all_covariates].values\n",
    "        D = double_ml_dataset[treatment].values\n",
    "        Y = double_ml_dataset[outcome].values\n",
    "        \n",
    "        theta_hat, mse = doubly_robust_crossfit_lasso(X, D, Y)\n",
    "        theta_hat_dr_values.append(theta_hat)\n",
    "        mse_values.append(mse)\n",
    "    \n",
    "    # Create Results DataFrame\n",
    "    result_df = pd.DataFrame({\n",
    "        \"Outcome\": outcomes,\n",
    "        \"Estimate\": theta_hat_dr_values,\n",
    "        \"MSE\": mse_values\n",
    "    })\n",
    "    return result_df"
   ]
  },
  {
   "cell_type": "code",
   "execution_count": 116,
   "metadata": {},
   "outputs": [
    {
     "name": "stdout",
     "output_type": "stream",
     "text": [
      "Doubly Robust Treatment Effect Estimates with Cross-Fitting (Homogeneous):\n",
      "             Outcome  Estimate        MSE\n",
      "0           pcorrupt -0.023743   0.010310\n",
      "1        ncorrupt_os -0.008505   0.002078\n",
      "2  log_valor_corrupt -1.190014  24.754757\n"
     ]
    }
   ],
   "source": [
    "ls_result_df_homo = estimate_dr_homogeneous_lasso(double_ml_dataset, all_covariates, treatment, outcomes)\n",
    "print(\"Doubly Robust Treatment Effect Estimates with Cross-Fitting (Homogeneous):\")\n",
    "print(ls_result_df_homo)"
   ]
  },
  {
   "cell_type": "markdown",
   "metadata": {},
   "source": [
    "## Random Forest"
   ]
  },
  {
   "cell_type": "code",
   "execution_count": 117,
   "metadata": {},
   "outputs": [],
   "source": [
    "from sklearn.ensemble import RandomForestRegressor, RandomForestClassifier"
   ]
  },
  {
   "cell_type": "markdown",
   "metadata": {},
   "source": [
    "#### Assuming Heterogeneous Treatment Effect"
   ]
  },
  {
   "cell_type": "code",
   "execution_count": 118,
   "metadata": {},
   "outputs": [],
   "source": [
    "def estimate_propensity_scores_rf(X_train, D_train, X_test, n_estimators=100, max_depth=5, random_state=42):\n",
    "    rf_pscore = RandomForestClassifier(n_estimators=n_estimators, max_depth=max_depth, random_state=random_state)\n",
    "    rf_pscore.fit(X_train, D_train)\n",
    "    propensity_scores = rf_pscore.predict_proba(X_test)[:, 1]  # Probability of treatment\n",
    "    return propensity_scores"
   ]
  },
  {
   "cell_type": "code",
   "execution_count": 119,
   "metadata": {},
   "outputs": [],
   "source": [
    "# Function to estimate outcome models for treated and untreated groups using Random Forest\n",
    "def estimate_outcome_rf(X_train, Y_train, X_test, D_train, treated=True, n_estimators=100, max_depth=5, random_state=42):\n",
    "    rf_model = RandomForestRegressor(n_estimators=n_estimators, max_depth=max_depth, random_state=random_state)\n",
    "    if treated:\n",
    "        rf_model.fit(X_train[D_train == 1], Y_train[D_train == 1])\n",
    "    else:\n",
    "        rf_model.fit(X_train[D_train == 0], Y_train[D_train == 0])\n",
    "    return rf_model.predict(X_test)"
   ]
  },
  {
   "cell_type": "code",
   "execution_count": 120,
   "metadata": {},
   "outputs": [],
   "source": [
    "# Function to calculate doubly robust estimates for a single outcome\n",
    "def calculate_dr_estimates_rf(X, D, Y, k_folds=5):\n",
    "    scaler = StandardScaler()\n",
    "    X_scaled = scaler.fit_transform(X)\n",
    "    \n",
    "    kf = KFold(n_splits=k_folds, shuffle=True, random_state=42)\n",
    "    dr_ate_fold = []\n",
    "    mse_fold = []\n",
    "\n",
    "    for train_index, test_index in kf.split(X_scaled):\n",
    "        X_train, X_test = X_scaled[train_index], X_scaled[test_index]\n",
    "        D_train, D_test = D.iloc[train_index], D.iloc[test_index]\n",
    "        Y_train, Y_test = Y.iloc[train_index], Y.iloc[test_index]\n",
    "        \n",
    "        # Step 1: Estimate propensity scores\n",
    "        propensity_scores = estimate_propensity_scores_rf(X_train, D_train, X_test)\n",
    "\n",
    "        # Step 2: Trim propensity scores\n",
    "        trimmed_indices = (propensity_scores > 0.01) & (propensity_scores < 0.99)\n",
    "        trimmed_X = X_test[trimmed_indices]\n",
    "        trimmed_D = D_test.iloc[trimmed_indices]\n",
    "        trimmed_Y = Y_test.iloc[trimmed_indices]\n",
    "        trimmed_pscore = propensity_scores[trimmed_indices]\n",
    "\n",
    "        # Step 3: Estimate outcome models for treated and untreated\n",
    "        gamma1 = estimate_outcome_rf(X_train, Y_train, trimmed_X, D_train, treated=True)\n",
    "        gamma0 = estimate_outcome_rf(X_train, Y_train, trimmed_X, D_train, treated=False)\n",
    "\n",
    "        # Step 4: Construct doubly robust estimates\n",
    "        trimmed_data = pd.DataFrame({\n",
    "            \"gamma1\": gamma1,\n",
    "            \"gamma0\": gamma0,\n",
    "            \"D\": trimmed_D.values,\n",
    "            \"Y\": trimmed_Y.values,\n",
    "            \"pscore\": trimmed_pscore\n",
    "        })\n",
    "\n",
    "        trimmed_data['Y1_dr'] = (\n",
    "            trimmed_data['gamma1'] +\n",
    "            (trimmed_data['D'] / trimmed_data['pscore']) * (trimmed_data['Y'] - trimmed_data['gamma1'])\n",
    "        )\n",
    "        trimmed_data['Y0_dr'] = (\n",
    "            trimmed_data['gamma0'] +\n",
    "            ((1 - trimmed_data['D']) / (1 - trimmed_data['pscore'])) * (trimmed_data['Y'] - trimmed_data['gamma0'])\n",
    "        )\n",
    "\n",
    "        # Step 5: Calculate treatment effect and MSE\n",
    "        dr_ate_fold.append(np.mean(trimmed_data['Y1_dr'] - trimmed_data['Y0_dr']))\n",
    "        mse_fold.append(mean_squared_error(\n",
    "            trimmed_data['Y'], \n",
    "            trimmed_data['Y1_dr'] * trimmed_data['D'] + trimmed_data['Y0_dr'] * (1 - trimmed_data['D'])\n",
    "        ))\n",
    "    \n",
    "    # Average results across folds\n",
    "    dr_ate = np.mean(dr_ate_fold)\n",
    "    mse = np.mean(mse_fold)\n",
    "    return dr_ate, mse"
   ]
  },
  {
   "cell_type": "code",
   "execution_count": 121,
   "metadata": {},
   "outputs": [],
   "source": [
    "# Function to loop through all outcomes and calculate results\n",
    "def run_dr_estimation_rf(dataset, covariates, treatment, outcomes):\n",
    "    theta_hat_dr_values = []\n",
    "    mse_values = []\n",
    "\n",
    "    for outcome in outcomes:\n",
    "        print(f\"Processing outcome: {outcome}\")\n",
    "        X = dataset[covariates]\n",
    "        D = dataset[treatment]\n",
    "        Y = dataset[outcome]\n",
    "        \n",
    "        dr_ate, mse = calculate_dr_estimates_rf(X, D, Y)\n",
    "        theta_hat_dr_values.append(dr_ate)\n",
    "        mse_values.append(mse)\n",
    "    \n",
    "    # Create Results DataFrame\n",
    "    results_df = pd.DataFrame({\n",
    "        \"Outcome\": outcomes,\n",
    "        \"Estimate\": theta_hat_dr_values,\n",
    "        \"MSE\": mse_values\n",
    "    })\n",
    "    return results_df"
   ]
  },
  {
   "cell_type": "code",
   "execution_count": 122,
   "metadata": {},
   "outputs": [
    {
     "name": "stdout",
     "output_type": "stream",
     "text": [
      "Processing outcome: pcorrupt\n",
      "Processing outcome: ncorrupt_os\n",
      "Processing outcome: log_valor_corrupt\n",
      "Doubly Robust Treatment Effect Estimates with Cross-Fitting (Random Forest):\n",
      "             Outcome  Estimate        MSE\n",
      "0           pcorrupt -0.027213   0.019589\n",
      "1        ncorrupt_os -0.007590   0.002966\n",
      "2  log_valor_corrupt -0.975908  33.768337\n"
     ]
    }
   ],
   "source": [
    "rf_result_df_hetero = run_dr_estimation_rf(\n",
    "    dataset=double_ml_dataset, \n",
    "    covariates=all_covariates, \n",
    "    treatment=treatment, \n",
    "    outcomes=outcomes\n",
    ")\n",
    "\n",
    "# Print the final results\n",
    "print(\"Doubly Robust Treatment Effect Estimates with Cross-Fitting (Random Forest):\")\n",
    "print(rf_result_df_hetero)"
   ]
  },
  {
   "cell_type": "markdown",
   "metadata": {},
   "source": [
    "### Balance Checking"
   ]
  },
  {
   "cell_type": "code",
   "execution_count": 123,
   "metadata": {},
   "outputs": [
    {
     "name": "stdout",
     "output_type": "stream",
     "text": [
      "Standardized Mean Differences (SMD):\n",
      "[ 0.05401538 -0.05122315 -0.0115647  -0.30088451  0.3623659  -0.14696552\n",
      "  0.20912083 -0.04102491 -0.10924533  0.08184664  0.07256128  0.07612164\n",
      "  0.08663987  0.07463451  0.16772991 -0.06704582 -0.15241486  0.12495408\n",
      "  0.1450842   0.13925536  0.08484242  0.08386355 -0.11150428 -0.02378073\n",
      "  0.05198437  0.12500133 -0.038089    0.04915379  0.12069529 -0.027809\n",
      "  0.18444536  0.20041131 -0.35951335  0.00753286 -0.08747367 -0.03310904\n",
      "  0.02442544  0.02126029 -0.02639725 -0.00615057  0.0301662  -0.06298168\n",
      "  0.13165383  0.08528576 -0.09050799 -0.12275228  0.20394276  0.10648058\n",
      "  0.07194429 -0.04818617  0.03829937 -0.07007226  0.04206149  0.01176175\n",
      "  0.0132209   0.05957888 -0.08506353 -0.1005578  -0.02192311 -0.095596\n",
      " -0.19606632 -0.04403612 -0.13292273  0.01575297  0.17337446  0.05002352\n",
      " -0.09249015  0.0939428   0.04134072]\n"
     ]
    }
   ],
   "source": [
    "def compute_propensity_scores(X, D):\n",
    "    rf_pscore = RandomForestClassifier(n_estimators=100, max_depth=5, random_state=42)\n",
    "    rf_pscore.fit(X, D)\n",
    "    propensity_scores = rf_pscore.predict_proba(X)[:, 1]  # Probability of treatment (D=1)\n",
    "    return propensity_scores\n",
    "\n",
    "smd_values = compute_smd(double_ml_dataset, all_covariates, treatment)\n",
    "\n",
    "\n",
    "# Print only the SMD\n",
    "print(\"Standardized Mean Differences (SMD):\")\n",
    "print(smd_values)"
   ]
  },
  {
   "cell_type": "markdown",
   "metadata": {},
   "source": [
    "Balanced"
   ]
  },
  {
   "cell_type": "markdown",
   "metadata": {},
   "source": [
    "#### Assuming Homogeneous Treatment Effect"
   ]
  },
  {
   "cell_type": "code",
   "execution_count": 124,
   "metadata": {},
   "outputs": [],
   "source": [
    "# Function to estimate E[Y|X] using Random Forest for the outcome model\n",
    "def estimate_outcome_rf_homo(X_train, Y_train, X_test, n_estimators=100, max_depth=5, random_state=42):\n",
    "    rf_model = RandomForestRegressor(n_estimators=n_estimators, max_depth=max_depth, random_state=random_state)\n",
    "    rf_model.fit(X_train, Y_train)\n",
    "    return rf_model.predict(X_test)"
   ]
  },
  {
   "cell_type": "code",
   "execution_count": 125,
   "metadata": {},
   "outputs": [],
   "source": [
    "# Function to calculate residuals (W_hat and V_hat)\n",
    "def calculate_residuals_rf_homo(X_train, X_test, Y_train, Y_test, D_train, D_test):\n",
    "    # Estimate E[Y|X] using Random Forest (Outcome model)\n",
    "    gamma_hat = estimate_outcome_rf_homo(X_train, Y_train, X_test)\n",
    "\n",
    "    # Estimate E[D|X] using Random Forest (Propensity score model)\n",
    "    pi_hat = estimate_propensity_scores_rf(X_train, D_train, X_test)\n",
    "    \n",
    "    W_hat = Y_test - gamma_hat\n",
    "    V_hat = D_test - pi_hat\n",
    "    \n",
    "    return W_hat, V_hat, gamma_hat"
   ]
  },
  {
   "cell_type": "code",
   "execution_count": 126,
   "metadata": {},
   "outputs": [],
   "source": [
    "# Function to calculate doubly robust estimates for homogeneous effects\n",
    "def calculate_dr_estimates_rf_homo(X, D, Y, k_folds=5):\n",
    "    scaler = StandardScaler()\n",
    "    X_scaled = scaler.fit_transform(X)\n",
    "\n",
    "    kf = KFold(n_splits=k_folds, shuffle=True, random_state=42)\n",
    "    W_hat, V_hat = np.zeros(len(Y)), np.zeros(len(Y))\n",
    "    mse_fold = []  # List to store MSE for each fold\n",
    "\n",
    "    for train_index, test_index in kf.split(X_scaled):\n",
    "        X_train, X_test = X_scaled[train_index], X_scaled[test_index]\n",
    "        D_train, D_test = D[train_index], D[test_index]\n",
    "        Y_train, Y_test = Y[train_index], Y[test_index]\n",
    "        \n",
    "        # Calculate residuals\n",
    "        W_hat[test_index], V_hat[test_index], gamma_hat = calculate_residuals_rf_homo(\n",
    "            X_train, X_test, Y_train, Y_test, D_train, D_test\n",
    "        )\n",
    "        \n",
    "        # Calculate MSE for this fold\n",
    "        mse_fold.append(mean_squared_error(Y_test, gamma_hat))\n",
    "\n",
    "    # Regress W_hat on V_hat to estimate theta_0\n",
    "    regression = LinearRegression()\n",
    "    regression.fit(V_hat.reshape(-1, 1), W_hat)\n",
    "    theta_hat = regression.coef_[0]\n",
    "\n",
    "    return theta_hat, np.mean(mse_fold)"
   ]
  },
  {
   "cell_type": "code",
   "execution_count": 127,
   "metadata": {},
   "outputs": [],
   "source": [
    "# Function to run DR estimation for multiple outcomes\n",
    "def run_dr_estimation_rf_homo(dataset, covariates, treatment, outcomes):\n",
    "    theta_hat_dr_values = []\n",
    "    mse_values = []\n",
    "\n",
    "    for outcome in outcomes:\n",
    "        print(f\"Processing outcome: {outcome}\")\n",
    "        X = dataset[covariates].values\n",
    "        D = dataset[treatment].values\n",
    "        Y = dataset[outcome].values\n",
    "        \n",
    "        theta_hat, mse = calculate_dr_estimates_rf_homo(X, D, Y)\n",
    "        theta_hat_dr_values.append(theta_hat)\n",
    "        mse_values.append(mse)\n",
    "    \n",
    "    # Create Results DataFrame\n",
    "    results_df = pd.DataFrame({\n",
    "        \"Outcome\": outcomes,\n",
    "        \"Estimate\": theta_hat_dr_values,\n",
    "        \"MSE\": mse_values\n",
    "    })\n",
    "    return results_df"
   ]
  },
  {
   "cell_type": "code",
   "execution_count": 128,
   "metadata": {},
   "outputs": [
    {
     "name": "stdout",
     "output_type": "stream",
     "text": [
      "Doubly Robust Treatment Effect Estimates with Cross-Fitting (Homogeneous) using Random Forest:\n",
      "             Outcome  Estimate        MSE\n",
      "0           pcorrupt -0.023355   0.010866\n",
      "1        ncorrupt_os -0.007674   0.002254\n",
      "2  log_valor_corrupt -0.938316  25.969169\n"
     ]
    }
   ],
   "source": [
    "theta_hat_dr_values = []\n",
    "mse_values = []\n",
    "\n",
    "# Loop through each outcome\n",
    "for outcome in outcomes:\n",
    "    \n",
    "    X = double_ml_dataset[all_covariates].values\n",
    "    D = double_ml_dataset[treatment].values\n",
    "    Y = double_ml_dataset[outcome].values\n",
    "\n",
    "    # Standardize features\n",
    "    scaler = StandardScaler()\n",
    "    X_scaled = scaler.fit_transform(X)\n",
    "    \n",
    "    # K-Fold Cross-Fitting\n",
    "    kf = KFold(n_splits=5, shuffle=True, random_state=42)\n",
    "    W_hat, V_hat = np.zeros(len(Y)), np.zeros(len(Y))\n",
    "    mse_fold = []  # List to store MSE for each fold\n",
    "    \n",
    "    for train_index, test_index in kf.split(X_scaled):\n",
    "        X_train, X_test = X_scaled[train_index], X_scaled[test_index]\n",
    "        D_train, D_test = D[train_index], D[test_index]\n",
    "        Y_train, Y_test = Y[train_index], Y[test_index]\n",
    "\n",
    "        # Step 1: Estimate E[Y|X] using Random Forest (Outcome model)\n",
    "        outcome_model = RandomForestRegressor(n_estimators=100, max_depth=5, random_state=42)\n",
    "        outcome_model.fit(X_train, Y_train)\n",
    "        gamma_hat = outcome_model.predict(X_test)\n",
    "\n",
    "        # Step 2: Estimate E[D|X] using Random Forest (Propensity score model)\n",
    "        pscore_model = RandomForestClassifier(n_estimators=100, max_depth=5, random_state=42)\n",
    "        pscore_model.fit(X_train, D_train)\n",
    "        pi_hat = pscore_model.predict_proba(X_test)[:, 1]  # Probability of treatment\n",
    "        \n",
    "        # Step 3: Calculate residuals W_hat and V_hat\n",
    "        W_hat[test_index] = Y_test - gamma_hat\n",
    "        V_hat[test_index] = D_test - pi_hat\n",
    "\n",
    "        # Step 4: Calculate MSE for this fold\n",
    "        mse_fold.append(mean_squared_error(Y_test, gamma_hat))\n",
    "\n",
    "    # Step 5: Regress W_hat on V_hat to estimate theta_0\n",
    "    regression = LinearRegression()\n",
    "    regression.fit(V_hat.reshape(-1, 1), W_hat)\n",
    "    theta_hat = regression.coef_[0]\n",
    "    \n",
    "    # Store results\n",
    "    theta_hat_dr_values.append(theta_hat)\n",
    "    mse_values.append(np.mean(mse_fold))  # Average MSE across folds\n",
    "\n",
    "# Step 6: Create Results DataFrame\n",
    "rf_result_df_homo = pd.DataFrame({\n",
    "    \"Outcome\": outcomes,\n",
    "    \"Estimate\": theta_hat_dr_values,\n",
    "    \"MSE\": mse_values\n",
    "})\n",
    "\n",
    "# Display the results DataFrame\n",
    "print(\"Doubly Robust Treatment Effect Estimates with Cross-Fitting (Homogeneous) using Random Forest:\")\n",
    "print(rf_result_df_homo)"
   ]
  },
  {
   "cell_type": "markdown",
   "metadata": {},
   "source": [
    "## Multiple-Layer Perceptron"
   ]
  },
  {
   "cell_type": "code",
   "execution_count": 129,
   "metadata": {},
   "outputs": [],
   "source": [
    "from sklearn.neural_network import MLPRegressor\n",
    "from tensorflow.keras.models import Sequential\n",
    "from tensorflow.keras.layers import Dense, Activation\n",
    "from tensorflow.keras.optimizers import Adam\n",
    "from tensorflow.keras.callbacks import EarlyStopping\n",
    "from sklearn.model_selection import train_test_split\n",
    "from sklearn.preprocessing import StandardScaler"
   ]
  },
  {
   "cell_type": "code",
   "execution_count": 130,
   "metadata": {},
   "outputs": [],
   "source": [
    "# Function to build and train an MLP model\n",
    "def train_mlp(X_train, Y_train, input_dim, output_activation='linear', loss='mse', verbose=0):\n",
    "    model = Sequential([\n",
    "        Dense(128, activation='relu', input_shape=(input_dim,)),\n",
    "        Dense(64, activation='relu'),\n",
    "        Dense(32, activation='relu'),\n",
    "        Dense(1, activation=output_activation)\n",
    "    ])\n",
    "    model.compile(optimizer='adam', loss=loss, metrics=['mae'])\n",
    "    early_stopping = EarlyStopping(monitor='val_loss', patience=5, restore_best_weights=True)\n",
    "    model.fit(X_train, Y_train, validation_split=0.2, epochs=100, batch_size=32,\n",
    "              callbacks=[early_stopping], verbose=verbose)\n",
    "    return model"
   ]
  },
  {
   "cell_type": "code",
   "execution_count": 131,
   "metadata": {},
   "outputs": [],
   "source": [
    "# Function to calculate doubly robust treatment effects using MLP\n",
    "def double_ml_mlp_heterogeneous(X, D, Y, outcomes):\n",
    "    theta_hat_dr_values = []\n",
    "    mse_values = []\n",
    "\n",
    "    # Standardize covariates\n",
    "    scaler = StandardScaler()\n",
    "    X_scaled = scaler.fit_transform(X)\n",
    "\n",
    "    # 5-Fold Cross-Fitting\n",
    "    kf = KFold(n_splits=5, shuffle=True, random_state=42)\n",
    "    \n",
    "    for outcome in outcomes:\n",
    "        dr_ate_fold = []\n",
    "        mse_fold = []\n",
    "        \n",
    "        for train_index, test_index in kf.split(X_scaled):\n",
    "            X_train, X_test = X_scaled[train_index], X_scaled[test_index]\n",
    "            D_train, D_test = D[train_index], D[test_index]\n",
    "            Y_train, Y_test = Y[train_index], Y[test_index]\n",
    "            \n",
    "            # Step 1: Propensity score estimation using MLP\n",
    "            model_pscore = train_mlp(X_train, D_train, input_dim=X_train.shape[1], \n",
    "                                     output_activation='sigmoid', loss='binary_crossentropy')\n",
    "            propensity_scores = model_pscore.predict(X_test).flatten()\n",
    "\n",
    "            # Trim p-scores (0.01, 0.99)\n",
    "            trimmed_indices = (propensity_scores > 0.01) & (propensity_scores < 0.99)\n",
    "            trimmed_X = X_test[trimmed_indices]\n",
    "            trimmed_D = D_test[trimmed_indices]\n",
    "            trimmed_Y = Y_test[trimmed_indices]\n",
    "            trimmed_pscore = propensity_scores[trimmed_indices]\n",
    "\n",
    "            # Step 2: Fit outcome models for treated and untreated groups\n",
    "            model_treated = train_mlp(X_train[D_train == 1], Y_train[D_train == 1], input_dim=X_train.shape[1])\n",
    "            gamma1 = model_treated.predict(trimmed_X).flatten()\n",
    "\n",
    "            model_untreated = train_mlp(X_train[D_train == 0], Y_train[D_train == 0], input_dim=X_train.shape[1])\n",
    "            gamma0 = model_untreated.predict(trimmed_X).flatten()\n",
    "\n",
    "            # Step 3: Construct doubly robust estimates\n",
    "            trimmed_data = pd.DataFrame({\n",
    "                \"gamma1\": gamma1,\n",
    "                \"gamma0\": gamma0,\n",
    "                \"D\": trimmed_D,\n",
    "                \"Y\": trimmed_Y,\n",
    "                \"pscore\": trimmed_pscore\n",
    "            })\n",
    "            trimmed_data['Y1_dr'] = (\n",
    "                trimmed_data['gamma1'] +\n",
    "                (trimmed_data['D'] / trimmed_data['pscore']) * (trimmed_data['Y'] - trimmed_data['gamma1'])\n",
    "            )\n",
    "            trimmed_data['Y0_dr'] = (\n",
    "                trimmed_data['gamma0'] +\n",
    "                ((1 - trimmed_data['D']) / (1 - trimmed_data['pscore'])) * (trimmed_data['Y'] - trimmed_data['gamma0'])\n",
    "            )\n",
    "\n",
    "            # Calculate treatment effect and MSE for the fold\n",
    "            dr_ate_fold.append(np.mean(trimmed_data['Y1_dr'] - trimmed_data['Y0_dr']))\n",
    "            mse_fold.append(mean_squared_error(\n",
    "                trimmed_data['Y'], \n",
    "                trimmed_data['Y1_dr'] * trimmed_data['D'] + trimmed_data['Y0_dr'] * (1 - trimmed_data['D'])\n",
    "            ))\n",
    "\n",
    "        # Store average estimates and MSE\n",
    "        theta_hat_dr_values.append(np.mean(dr_ate_fold))\n",
    "        mse_values.append(np.mean(mse_fold))\n",
    "\n",
    "    results_df = pd.DataFrame({\n",
    "        \"Outcome\": outcomes,\n",
    "        \"Estimate\": theta_hat_dr_values,\n",
    "        \"MSE\": mse_values\n",
    "    })\n",
    "    return results_df"
   ]
  },
  {
   "cell_type": "code",
   "execution_count": 132,
   "metadata": {},
   "outputs": [],
   "source": [
    "# Function for easy call \n",
    "def run_double_ml_mlp(dataset, covariants, outcomes):\n",
    "    X = dataset[covariants].values\n",
    "    D = dataset[treatment].values\n",
    "    results = []\n",
    "    \n",
    "    for outcome in outcomes:\n",
    "        Y = dataset[outcome].values\n",
    "        print(f\"Processing outcome: {outcome}\")\n",
    "        result = double_ml_mlp_heterogeneous(X, D, Y, [outcome])\n",
    "        results.append(result)\n",
    "    \n",
    "    final_results = pd.concat(results, ignore_index=True)\n",
    "    return final_results"
   ]
  },
  {
   "cell_type": "code",
   "execution_count": 133,
   "metadata": {},
   "outputs": [
    {
     "name": "stdout",
     "output_type": "stream",
     "text": [
      "Processing outcome: pcorrupt\n",
      "\u001b[1m3/3\u001b[0m \u001b[32m━━━━━━━━━━━━━━━━━━━━\u001b[0m\u001b[37m\u001b[0m \u001b[1m0s\u001b[0m 10ms/step\n",
      "\u001b[1m3/3\u001b[0m \u001b[32m━━━━━━━━━━━━━━━━━━━━\u001b[0m\u001b[37m\u001b[0m \u001b[1m0s\u001b[0m 9ms/step \n",
      "\u001b[1m3/3\u001b[0m \u001b[32m━━━━━━━━━━━━━━━━━━━━\u001b[0m\u001b[37m\u001b[0m \u001b[1m0s\u001b[0m 9ms/step \n",
      "\u001b[1m3/3\u001b[0m \u001b[32m━━━━━━━━━━━━━━━━━━━━\u001b[0m\u001b[37m\u001b[0m \u001b[1m0s\u001b[0m 8ms/step \n",
      "\u001b[1m3/3\u001b[0m \u001b[32m━━━━━━━━━━━━━━━━━━━━\u001b[0m\u001b[37m\u001b[0m \u001b[1m0s\u001b[0m 8ms/step \n",
      "\u001b[1m3/3\u001b[0m \u001b[32m━━━━━━━━━━━━━━━━━━━━\u001b[0m\u001b[37m\u001b[0m \u001b[1m0s\u001b[0m 9ms/step \n",
      "\u001b[1m3/3\u001b[0m \u001b[32m━━━━━━━━━━━━━━━━━━━━\u001b[0m\u001b[37m\u001b[0m \u001b[1m0s\u001b[0m 9ms/step \n",
      "\u001b[1m3/3\u001b[0m \u001b[32m━━━━━━━━━━━━━━━━━━━━\u001b[0m\u001b[37m\u001b[0m \u001b[1m0s\u001b[0m 9ms/step \n",
      "\u001b[1m3/3\u001b[0m \u001b[32m━━━━━━━━━━━━━━━━━━━━\u001b[0m\u001b[37m\u001b[0m \u001b[1m0s\u001b[0m 10ms/step\n",
      "\u001b[1m3/3\u001b[0m \u001b[32m━━━━━━━━━━━━━━━━━━━━\u001b[0m\u001b[37m\u001b[0m \u001b[1m0s\u001b[0m 9ms/step \n",
      "\u001b[1m3/3\u001b[0m \u001b[32m━━━━━━━━━━━━━━━━━━━━\u001b[0m\u001b[37m\u001b[0m \u001b[1m0s\u001b[0m 8ms/step \n",
      "\u001b[1m3/3\u001b[0m \u001b[32m━━━━━━━━━━━━━━━━━━━━\u001b[0m\u001b[37m\u001b[0m \u001b[1m0s\u001b[0m 10ms/step\n",
      "\u001b[1m3/3\u001b[0m \u001b[32m━━━━━━━━━━━━━━━━━━━━\u001b[0m\u001b[37m\u001b[0m \u001b[1m0s\u001b[0m 9ms/step \n",
      "\u001b[1m3/3\u001b[0m \u001b[32m━━━━━━━━━━━━━━━━━━━━\u001b[0m\u001b[37m\u001b[0m \u001b[1m0s\u001b[0m 8ms/step \n",
      "\u001b[1m3/3\u001b[0m \u001b[32m━━━━━━━━━━━━━━━━━━━━\u001b[0m\u001b[37m\u001b[0m \u001b[1m0s\u001b[0m 9ms/step \n",
      "Processing outcome: ncorrupt_os\n",
      "\u001b[1m3/3\u001b[0m \u001b[32m━━━━━━━━━━━━━━━━━━━━\u001b[0m\u001b[37m\u001b[0m \u001b[1m0s\u001b[0m 9ms/step \n",
      "\u001b[1m3/3\u001b[0m \u001b[32m━━━━━━━━━━━━━━━━━━━━\u001b[0m\u001b[37m\u001b[0m \u001b[1m0s\u001b[0m 9ms/step \n",
      "\u001b[1m3/3\u001b[0m \u001b[32m━━━━━━━━━━━━━━━━━━━━\u001b[0m\u001b[37m\u001b[0m \u001b[1m0s\u001b[0m 9ms/step \n",
      "\u001b[1m3/3\u001b[0m \u001b[32m━━━━━━━━━━━━━━━━━━━━\u001b[0m\u001b[37m\u001b[0m \u001b[1m0s\u001b[0m 9ms/step \n",
      "\u001b[1m3/3\u001b[0m \u001b[32m━━━━━━━━━━━━━━━━━━━━\u001b[0m\u001b[37m\u001b[0m \u001b[1m0s\u001b[0m 8ms/step \n",
      "\u001b[1m3/3\u001b[0m \u001b[32m━━━━━━━━━━━━━━━━━━━━\u001b[0m\u001b[37m\u001b[0m \u001b[1m0s\u001b[0m 8ms/step \n",
      "\u001b[1m3/3\u001b[0m \u001b[32m━━━━━━━━━━━━━━━━━━━━\u001b[0m\u001b[37m\u001b[0m \u001b[1m0s\u001b[0m 8ms/step \n",
      "\u001b[1m3/3\u001b[0m \u001b[32m━━━━━━━━━━━━━━━━━━━━\u001b[0m\u001b[37m\u001b[0m \u001b[1m0s\u001b[0m 8ms/step \n",
      "\u001b[1m3/3\u001b[0m \u001b[32m━━━━━━━━━━━━━━━━━━━━\u001b[0m\u001b[37m\u001b[0m \u001b[1m0s\u001b[0m 8ms/step \n",
      "\u001b[1m3/3\u001b[0m \u001b[32m━━━━━━━━━━━━━━━━━━━━\u001b[0m\u001b[37m\u001b[0m \u001b[1m0s\u001b[0m 8ms/step \n",
      "\u001b[1m3/3\u001b[0m \u001b[32m━━━━━━━━━━━━━━━━━━━━\u001b[0m\u001b[37m\u001b[0m \u001b[1m0s\u001b[0m 8ms/step \n",
      "\u001b[1m3/3\u001b[0m \u001b[32m━━━━━━━━━━━━━━━━━━━━\u001b[0m\u001b[37m\u001b[0m \u001b[1m0s\u001b[0m 8ms/step \n",
      "\u001b[1m3/3\u001b[0m \u001b[32m━━━━━━━━━━━━━━━━━━━━\u001b[0m\u001b[37m\u001b[0m \u001b[1m0s\u001b[0m 8ms/step \n",
      "\u001b[1m3/3\u001b[0m \u001b[32m━━━━━━━━━━━━━━━━━━━━\u001b[0m\u001b[37m\u001b[0m \u001b[1m0s\u001b[0m 8ms/step \n",
      "\u001b[1m3/3\u001b[0m \u001b[32m━━━━━━━━━━━━━━━━━━━━\u001b[0m\u001b[37m\u001b[0m \u001b[1m0s\u001b[0m 8ms/step \n",
      "Processing outcome: log_valor_corrupt\n",
      "\u001b[1m3/3\u001b[0m \u001b[32m━━━━━━━━━━━━━━━━━━━━\u001b[0m\u001b[37m\u001b[0m \u001b[1m0s\u001b[0m 8ms/step \n",
      "\u001b[1m3/3\u001b[0m \u001b[32m━━━━━━━━━━━━━━━━━━━━\u001b[0m\u001b[37m\u001b[0m \u001b[1m0s\u001b[0m 8ms/step \n",
      "\u001b[1m3/3\u001b[0m \u001b[32m━━━━━━━━━━━━━━━━━━━━\u001b[0m\u001b[37m\u001b[0m \u001b[1m0s\u001b[0m 10ms/step\n",
      "\u001b[1m3/3\u001b[0m \u001b[32m━━━━━━━━━━━━━━━━━━━━\u001b[0m\u001b[37m\u001b[0m \u001b[1m0s\u001b[0m 10ms/step\n",
      "\u001b[1m3/3\u001b[0m \u001b[32m━━━━━━━━━━━━━━━━━━━━\u001b[0m\u001b[37m\u001b[0m \u001b[1m0s\u001b[0m 9ms/step \n",
      "\u001b[1m3/3\u001b[0m \u001b[32m━━━━━━━━━━━━━━━━━━━━\u001b[0m\u001b[37m\u001b[0m \u001b[1m0s\u001b[0m 9ms/step \n",
      "\u001b[1m3/3\u001b[0m \u001b[32m━━━━━━━━━━━━━━━━━━━━\u001b[0m\u001b[37m\u001b[0m \u001b[1m0s\u001b[0m 9ms/step \n",
      "\u001b[1m3/3\u001b[0m \u001b[32m━━━━━━━━━━━━━━━━━━━━\u001b[0m\u001b[37m\u001b[0m \u001b[1m0s\u001b[0m 9ms/step \n",
      "\u001b[1m3/3\u001b[0m \u001b[32m━━━━━━━━━━━━━━━━━━━━\u001b[0m\u001b[37m\u001b[0m \u001b[1m0s\u001b[0m 8ms/step \n",
      "\u001b[1m3/3\u001b[0m \u001b[32m━━━━━━━━━━━━━━━━━━━━\u001b[0m\u001b[37m\u001b[0m \u001b[1m0s\u001b[0m 8ms/step \n",
      "\u001b[1m3/3\u001b[0m \u001b[32m━━━━━━━━━━━━━━━━━━━━\u001b[0m\u001b[37m\u001b[0m \u001b[1m0s\u001b[0m 8ms/step \n",
      "\u001b[1m3/3\u001b[0m \u001b[32m━━━━━━━━━━━━━━━━━━━━\u001b[0m\u001b[37m\u001b[0m \u001b[1m0s\u001b[0m 8ms/step \n",
      "\u001b[1m3/3\u001b[0m \u001b[32m━━━━━━━━━━━━━━━━━━━━\u001b[0m\u001b[37m\u001b[0m \u001b[1m0s\u001b[0m 8ms/step \n",
      "\u001b[1m3/3\u001b[0m \u001b[32m━━━━━━━━━━━━━━━━━━━━\u001b[0m\u001b[37m\u001b[0m \u001b[1m0s\u001b[0m 8ms/step \n",
      "\u001b[1m3/3\u001b[0m \u001b[32m━━━━━━━━━━━━━━━━━━━━\u001b[0m\u001b[37m\u001b[0m \u001b[1m0s\u001b[0m 8ms/step \n",
      "Doubly Robust Treatment Effect Estimates with Cross-Fitting (Heterogeneous) using MLP:\n"
     ]
    },
    {
     "data": {
      "text/html": [
       "<div>\n",
       "<style scoped>\n",
       "    .dataframe tbody tr th:only-of-type {\n",
       "        vertical-align: middle;\n",
       "    }\n",
       "\n",
       "    .dataframe tbody tr th {\n",
       "        vertical-align: top;\n",
       "    }\n",
       "\n",
       "    .dataframe thead th {\n",
       "        text-align: right;\n",
       "    }\n",
       "</style>\n",
       "<table border=\"1\" class=\"dataframe\">\n",
       "  <thead>\n",
       "    <tr style=\"text-align: right;\">\n",
       "      <th></th>\n",
       "      <th>Outcome</th>\n",
       "      <th>Estimate</th>\n",
       "      <th>MSE</th>\n",
       "    </tr>\n",
       "  </thead>\n",
       "  <tbody>\n",
       "    <tr>\n",
       "      <th>0</th>\n",
       "      <td>pcorrupt</td>\n",
       "      <td>-0.029930</td>\n",
       "      <td>0.059714</td>\n",
       "    </tr>\n",
       "    <tr>\n",
       "      <th>1</th>\n",
       "      <td>ncorrupt_os</td>\n",
       "      <td>-0.022342</td>\n",
       "      <td>0.047328</td>\n",
       "    </tr>\n",
       "    <tr>\n",
       "      <th>2</th>\n",
       "      <td>log_valor_corrupt</td>\n",
       "      <td>-1.283951</td>\n",
       "      <td>82.593216</td>\n",
       "    </tr>\n",
       "  </tbody>\n",
       "</table>\n",
       "</div>"
      ],
      "text/plain": [
       "             Outcome  Estimate        MSE\n",
       "0           pcorrupt -0.029930   0.059714\n",
       "1        ncorrupt_os -0.022342   0.047328\n",
       "2  log_valor_corrupt -1.283951  82.593216"
      ]
     },
     "execution_count": 133,
     "metadata": {},
     "output_type": "execute_result"
    }
   ],
   "source": [
    "#mlp_result with all covariants\n",
    "mlp_result_df_hetero = run_double_ml_mlp(double_ml_dataset, all_covariates, outcomes)\n",
    "print(\"Doubly Robust Treatment Effect Estimates with Cross-Fitting (Heterogeneous) using MLP:\")\n",
    "mlp_result_df_hetero"
   ]
  },
  {
   "cell_type": "markdown",
   "metadata": {},
   "source": [
    "### Balance Checking"
   ]
  },
  {
   "cell_type": "code",
   "execution_count": 134,
   "metadata": {},
   "outputs": [
    {
     "name": "stdout",
     "output_type": "stream",
     "text": [
      "\u001b[1m15/15\u001b[0m \u001b[32m━━━━━━━━━━━━━━━━━━━━\u001b[0m\u001b[37m\u001b[0m \u001b[1m0s\u001b[0m 2ms/step \n",
      "Standardized Mean Differences (SMD):\n",
      "[ 0.11269243 -0.09711623 -0.05244851 -0.29805818  0.2632233  -0.08070832\n",
      "  0.2378292  -0.0513742  -0.06588445 -0.01309078  0.00995616  0.0599221\n",
      "  0.06187376  0.07496508  0.12600891 -0.05636164 -0.11672065  0.04035265\n",
      "  0.10744961  0.0901299   0.05939301 -0.00352721 -0.05672462 -0.08789636\n",
      " -0.04418197  0.06295685 -0.06079189  0.02176711 -0.00374919  0.02468247\n",
      "  0.12393344  0.1457257  -0.24717459 -0.0633526  -0.15973091  0.04947739\n",
      "  0.05715809  0.06567763  0.02059464 -0.01212692 -0.14213994  0.0106164\n",
      "  0.14912196  0.03362967 -0.11117943 -0.08278649  0.16690487  0.05176123\n",
      "  0.03951028  0.04089146  0.00596661 -0.04709987 -0.00723532 -0.06032001\n",
      " -0.15180053  0.06382515  0.00709551  0.0245404  -0.02327517 -0.03751536\n",
      " -0.08109072 -0.02818362 -0.06984321  0.02224928  0.11978235  0.05601641\n",
      " -0.05426168  0.0437335   0.0146101 ]\n"
     ]
    }
   ],
   "source": [
    "def compute_propensity_scores(X, D):\n",
    "    # Standardize the features\n",
    "    scaler = StandardScaler()\n",
    "    X_scaled = scaler.fit_transform(X)\n",
    "    \n",
    "    # Define MLP Model\n",
    "    model = Sequential([\n",
    "        Dense(128, activation='relu', input_shape=(X_scaled.shape[1],)),  # Input layer\n",
    "        Dense(64, activation='relu'),                                    # Hidden layer 1\n",
    "        Dense(32, activation='relu'),                                    # Hidden layer 2\n",
    "        Dense(1, activation='sigmoid')                                   # Output layer for probabilities\n",
    "    ])\n",
    "    \n",
    "    # Compile the model\n",
    "    model.compile(optimizer='adam', loss='binary_crossentropy', metrics=['accuracy'])\n",
    "    \n",
    "    # Early stopping to prevent overfitting\n",
    "    early_stopping = EarlyStopping(monitor='val_loss', patience=5, restore_best_weights=True)\n",
    "    \n",
    "    # Train the MLP model\n",
    "    model.fit(X_scaled, D, validation_split=0.2, epochs=100, batch_size=32, \n",
    "              callbacks=[early_stopping], verbose=0)\n",
    "    \n",
    "    # Predict propensity scores\n",
    "    propensity_scores = model.predict(X_scaled).flatten()\n",
    "    return propensity_scores\n",
    "\n",
    "smd_values = compute_smd(double_ml_dataset, all_covariates, treatment)\n",
    "\n",
    "\n",
    "# Print only the SMD\n",
    "print(\"Standardized Mean Differences (SMD):\")\n",
    "print(smd_values)"
   ]
  },
  {
   "cell_type": "markdown",
   "metadata": {},
   "source": [
    "Balanced"
   ]
  },
  {
   "cell_type": "markdown",
   "metadata": {},
   "source": [
    "### Assuming Homogeneity"
   ]
  },
  {
   "cell_type": "code",
   "execution_count": 135,
   "metadata": {},
   "outputs": [],
   "source": [
    "def train_mlp(X_train, Y_train, input_dim, output_activation='linear', loss='mse', verbose=0):\n",
    "    model = Sequential([\n",
    "        Dense(128, activation='relu', input_shape=(input_dim,)),\n",
    "        Dense(64, activation='relu'),\n",
    "        Dense(32, activation='relu'),\n",
    "        Dense(1, activation=output_activation)\n",
    "    ])\n",
    "    model.compile(optimizer='adam', loss=loss, metrics=['mae'])\n",
    "    early_stopping = EarlyStopping(monitor='val_loss', patience=5, restore_best_weights=True)\n",
    "    model.fit(X_train, Y_train, validation_split=0.2, epochs=100, batch_size=32,\n",
    "              callbacks=[early_stopping], verbose=verbose)\n",
    "    return model"
   ]
  },
  {
   "cell_type": "code",
   "execution_count": 136,
   "metadata": {},
   "outputs": [],
   "source": [
    "# Function to perform Double ML for a single outcome\n",
    "def double_ml_single_outcome_homogeneous(X, D, Y):\n",
    "    scaler = StandardScaler()\n",
    "    X_scaled = scaler.fit_transform(X)\n",
    "    \n",
    "    # Prepare for K-Fold Cross-Fitting\n",
    "    kf = KFold(n_splits=5, shuffle=True, random_state=42)\n",
    "    W_hat, V_hat = np.zeros(len(Y)), np.zeros(len(Y))\n",
    "    mse_fold = []  # List to store MSE for each fold\n",
    "\n",
    "    for train_index, test_index in kf.split(X_scaled):\n",
    "        X_train, X_test = X_scaled[train_index], X_scaled[test_index]\n",
    "        D_train, D_test = D[train_index], D[test_index]\n",
    "        Y_train, Y_test = Y[train_index], Y[test_index]\n",
    "\n",
    "        # Step 1: Estimate E[Y|X] using MLP (Outcome model)\n",
    "        outcome_model = train_mlp(X_train, Y_train, input_dim=X_train.shape[1])\n",
    "        gamma_hat = outcome_model.predict(X_test).flatten()\n",
    "\n",
    "        # Step 2: Estimate E[D|X] using MLP (Propensity score model)\n",
    "        pscore_model = train_mlp(X_train, D_train, input_dim=X_train.shape[1], \n",
    "                                 output_activation='sigmoid', loss='binary_crossentropy')\n",
    "        pi_hat = pscore_model.predict(X_test).flatten()\n",
    "\n",
    "        # Step 3: Calculate residuals W_hat and V_hat\n",
    "        W_hat[test_index] = Y_test - gamma_hat\n",
    "        V_hat[test_index] = D_test - pi_hat\n",
    "\n",
    "        # Step 4: Calculate MSE for this fold\n",
    "        mse_fold.append(mean_squared_error(Y_test, gamma_hat))\n",
    "\n",
    "    # Step 5: Regress W_hat on V_hat to estimate theta_0\n",
    "    regression = LinearRegression()\n",
    "    regression.fit(V_hat.reshape(-1, 1), W_hat)\n",
    "    theta_hat = regression.coef_[0]\n",
    "    \n",
    "    return theta_hat, np.mean(mse_fold)"
   ]
  },
  {
   "cell_type": "code",
   "execution_count": 137,
   "metadata": {},
   "outputs": [],
   "source": [
    "# Main function to loop through multiple outcomes\n",
    "def run_double_ml_mlp_homogeneous(dataset, covariates, treatment, outcomes):\n",
    "    theta_hat_dr_values = []\n",
    "    mse_values = []\n",
    "\n",
    "    for outcome in outcomes:\n",
    "        print(f\"Processing outcome: {outcome}\")\n",
    "        \n",
    "        X = dataset[covariates].values\n",
    "        D = dataset[treatment].values\n",
    "        Y = dataset[outcome].values\n",
    "\n",
    "        # Perform Double ML for the single outcome\n",
    "        theta_hat, mse = double_ml_single_outcome_homogeneous(X, D, Y)\n",
    "        \n",
    "        theta_hat_dr_values.append(theta_hat)\n",
    "        mse_values.append(mse)\n",
    "\n",
    "    # Create results DataFrame\n",
    "    results_df = pd.DataFrame({\n",
    "        \"Outcome\": outcomes,\n",
    "        \"Estimate\": theta_hat_dr_values,\n",
    "        \"MSE\": mse_values\n",
    "    })\n",
    "    return results_df\n"
   ]
  },
  {
   "cell_type": "code",
   "execution_count": 138,
   "metadata": {},
   "outputs": [
    {
     "name": "stdout",
     "output_type": "stream",
     "text": [
      "Processing outcome: pcorrupt\n",
      "\u001b[1m3/3\u001b[0m \u001b[32m━━━━━━━━━━━━━━━━━━━━\u001b[0m\u001b[37m\u001b[0m \u001b[1m0s\u001b[0m 13ms/step\n",
      "\u001b[1m3/3\u001b[0m \u001b[32m━━━━━━━━━━━━━━━━━━━━\u001b[0m\u001b[37m\u001b[0m \u001b[1m0s\u001b[0m 10ms/step\n",
      "\u001b[1m3/3\u001b[0m \u001b[32m━━━━━━━━━━━━━━━━━━━━\u001b[0m\u001b[37m\u001b[0m \u001b[1m0s\u001b[0m 11ms/step\n",
      "\u001b[1m3/3\u001b[0m \u001b[32m━━━━━━━━━━━━━━━━━━━━\u001b[0m\u001b[37m\u001b[0m \u001b[1m0s\u001b[0m 10ms/step\n",
      "\u001b[1m3/3\u001b[0m \u001b[32m━━━━━━━━━━━━━━━━━━━━\u001b[0m\u001b[37m\u001b[0m \u001b[1m0s\u001b[0m 10ms/step\n",
      "\u001b[1m3/3\u001b[0m \u001b[32m━━━━━━━━━━━━━━━━━━━━\u001b[0m\u001b[37m\u001b[0m \u001b[1m0s\u001b[0m 9ms/step \n",
      "\u001b[1m3/3\u001b[0m \u001b[32m━━━━━━━━━━━━━━━━━━━━\u001b[0m\u001b[37m\u001b[0m \u001b[1m0s\u001b[0m 9ms/step \n",
      "\u001b[1m3/3\u001b[0m \u001b[32m━━━━━━━━━━━━━━━━━━━━\u001b[0m\u001b[37m\u001b[0m \u001b[1m0s\u001b[0m 11ms/step\n",
      "\u001b[1m3/3\u001b[0m \u001b[32m━━━━━━━━━━━━━━━━━━━━\u001b[0m\u001b[37m\u001b[0m \u001b[1m0s\u001b[0m 9ms/step \n",
      "\u001b[1m3/3\u001b[0m \u001b[32m━━━━━━━━━━━━━━━━━━━━\u001b[0m\u001b[37m\u001b[0m \u001b[1m0s\u001b[0m 9ms/step \n",
      "Processing outcome: ncorrupt_os\n",
      "\u001b[1m3/3\u001b[0m \u001b[32m━━━━━━━━━━━━━━━━━━━━\u001b[0m\u001b[37m\u001b[0m \u001b[1m0s\u001b[0m 10ms/step\n",
      "\u001b[1m3/3\u001b[0m \u001b[32m━━━━━━━━━━━━━━━━━━━━\u001b[0m\u001b[37m\u001b[0m \u001b[1m0s\u001b[0m 9ms/step \n",
      "\u001b[1m3/3\u001b[0m \u001b[32m━━━━━━━━━━━━━━━━━━━━\u001b[0m\u001b[37m\u001b[0m \u001b[1m0s\u001b[0m 9ms/step \n",
      "\u001b[1m3/3\u001b[0m \u001b[32m━━━━━━━━━━━━━━━━━━━━\u001b[0m\u001b[37m\u001b[0m \u001b[1m0s\u001b[0m 9ms/step \n",
      "\u001b[1m3/3\u001b[0m \u001b[32m━━━━━━━━━━━━━━━━━━━━\u001b[0m\u001b[37m\u001b[0m \u001b[1m0s\u001b[0m 9ms/step \n",
      "\u001b[1m3/3\u001b[0m \u001b[32m━━━━━━━━━━━━━━━━━━━━\u001b[0m\u001b[37m\u001b[0m \u001b[1m0s\u001b[0m 9ms/step \n",
      "\u001b[1m3/3\u001b[0m \u001b[32m━━━━━━━━━━━━━━━━━━━━\u001b[0m\u001b[37m\u001b[0m \u001b[1m0s\u001b[0m 9ms/step \n",
      "\u001b[1m3/3\u001b[0m \u001b[32m━━━━━━━━━━━━━━━━━━━━\u001b[0m\u001b[37m\u001b[0m \u001b[1m0s\u001b[0m 9ms/step \n",
      "\u001b[1m3/3\u001b[0m \u001b[32m━━━━━━━━━━━━━━━━━━━━\u001b[0m\u001b[37m\u001b[0m \u001b[1m0s\u001b[0m 9ms/step \n",
      "\u001b[1m3/3\u001b[0m \u001b[32m━━━━━━━━━━━━━━━━━━━━\u001b[0m\u001b[37m\u001b[0m \u001b[1m0s\u001b[0m 14ms/step\n",
      "Processing outcome: log_valor_corrupt\n",
      "\u001b[1m3/3\u001b[0m \u001b[32m━━━━━━━━━━━━━━━━━━━━\u001b[0m\u001b[37m\u001b[0m \u001b[1m0s\u001b[0m 12ms/step\n",
      "\u001b[1m3/3\u001b[0m \u001b[32m━━━━━━━━━━━━━━━━━━━━\u001b[0m\u001b[37m\u001b[0m \u001b[1m0s\u001b[0m 9ms/step \n",
      "\u001b[1m3/3\u001b[0m \u001b[32m━━━━━━━━━━━━━━━━━━━━\u001b[0m\u001b[37m\u001b[0m \u001b[1m0s\u001b[0m 9ms/step \n",
      "\u001b[1m3/3\u001b[0m \u001b[32m━━━━━━━━━━━━━━━━━━━━\u001b[0m\u001b[37m\u001b[0m \u001b[1m0s\u001b[0m 9ms/step \n",
      "\u001b[1m3/3\u001b[0m \u001b[32m━━━━━━━━━━━━━━━━━━━━\u001b[0m\u001b[37m\u001b[0m \u001b[1m0s\u001b[0m 9ms/step \n",
      "\u001b[1m3/3\u001b[0m \u001b[32m━━━━━━━━━━━━━━━━━━━━\u001b[0m\u001b[37m\u001b[0m \u001b[1m0s\u001b[0m 9ms/step \n",
      "\u001b[1m3/3\u001b[0m \u001b[32m━━━━━━━━━━━━━━━━━━━━\u001b[0m\u001b[37m\u001b[0m \u001b[1m0s\u001b[0m 8ms/step \n",
      "\u001b[1m3/3\u001b[0m \u001b[32m━━━━━━━━━━━━━━━━━━━━\u001b[0m\u001b[37m\u001b[0m \u001b[1m0s\u001b[0m 9ms/step \n",
      "\u001b[1m3/3\u001b[0m \u001b[32m━━━━━━━━━━━━━━━━━━━━\u001b[0m\u001b[37m\u001b[0m \u001b[1m0s\u001b[0m 9ms/step \n",
      "\u001b[1m3/3\u001b[0m \u001b[32m━━━━━━━━━━━━━━━━━━━━\u001b[0m\u001b[37m\u001b[0m \u001b[1m0s\u001b[0m 8ms/step \n"
     ]
    },
    {
     "data": {
      "text/html": [
       "<div>\n",
       "<style scoped>\n",
       "    .dataframe tbody tr th:only-of-type {\n",
       "        vertical-align: middle;\n",
       "    }\n",
       "\n",
       "    .dataframe tbody tr th {\n",
       "        vertical-align: top;\n",
       "    }\n",
       "\n",
       "    .dataframe thead th {\n",
       "        text-align: right;\n",
       "    }\n",
       "</style>\n",
       "<table border=\"1\" class=\"dataframe\">\n",
       "  <thead>\n",
       "    <tr style=\"text-align: right;\">\n",
       "      <th></th>\n",
       "      <th>Outcome</th>\n",
       "      <th>Estimate</th>\n",
       "      <th>MSE</th>\n",
       "    </tr>\n",
       "  </thead>\n",
       "  <tbody>\n",
       "    <tr>\n",
       "      <th>0</th>\n",
       "      <td>pcorrupt</td>\n",
       "      <td>-0.001675</td>\n",
       "      <td>0.027615</td>\n",
       "    </tr>\n",
       "    <tr>\n",
       "      <th>1</th>\n",
       "      <td>ncorrupt_os</td>\n",
       "      <td>0.008892</td>\n",
       "      <td>0.021563</td>\n",
       "    </tr>\n",
       "    <tr>\n",
       "      <th>2</th>\n",
       "      <td>log_valor_corrupt</td>\n",
       "      <td>-0.842197</td>\n",
       "      <td>28.887939</td>\n",
       "    </tr>\n",
       "  </tbody>\n",
       "</table>\n",
       "</div>"
      ],
      "text/plain": [
       "             Outcome  Estimate        MSE\n",
       "0           pcorrupt -0.001675   0.027615\n",
       "1        ncorrupt_os  0.008892   0.021563\n",
       "2  log_valor_corrupt -0.842197  28.887939"
      ]
     },
     "execution_count": 138,
     "metadata": {},
     "output_type": "execute_result"
    }
   ],
   "source": [
    "mlp_result_df_homo = run_double_ml_mlp_homogeneous(\n",
    "    dataset=double_ml_dataset, \n",
    "    covariates=all_covariates, \n",
    "    treatment=treatment, \n",
    "    outcomes=outcomes\n",
    ")\n",
    "mlp_result_df_homo"
   ]
  },
  {
   "cell_type": "markdown",
   "metadata": {},
   "source": [
    "## Gradient Boosting\n"
   ]
  },
  {
   "cell_type": "code",
   "execution_count": 139,
   "metadata": {},
   "outputs": [],
   "source": [
    "from sklearn.ensemble import GradientBoostingClassifier, GradientBoostingRegressor"
   ]
  },
  {
   "cell_type": "markdown",
   "metadata": {},
   "source": [
    "#### Assuming Heteogeneous treatment effct "
   ]
  },
  {
   "cell_type": "code",
   "execution_count": 140,
   "metadata": {},
   "outputs": [],
   "source": [
    "# Function to train propensity score model using Gradient Boosting\n",
    "def train_gb_pscore(X_train, D_train, X_test, n_estimators=100, max_depth=3, random_state=42):\n",
    "    gb_pscore = GradientBoostingClassifier(n_estimators=n_estimators, max_depth=max_depth, random_state=random_state)\n",
    "    gb_pscore.fit(X_train, D_train)\n",
    "    propensity_scores = gb_pscore.predict_proba(X_test)[:, 1]\n",
    "    return propensity_scores"
   ]
  },
  {
   "cell_type": "code",
   "execution_count": 141,
   "metadata": {},
   "outputs": [],
   "source": [
    "# Function to train outcome model for treated/untreated groups\n",
    "def train_gb_outcome(X_train, Y_train, X_test, n_estimators=100, max_depth=3, random_state=42):\n",
    "    gb_model = GradientBoostingRegressor(n_estimators=n_estimators, max_depth=max_depth, random_state=random_state)\n",
    "    gb_model.fit(X_train, Y_train)\n",
    "    predictions = gb_model.predict(X_test)\n",
    "    return predictions"
   ]
  },
  {
   "cell_type": "code",
   "execution_count": 142,
   "metadata": {},
   "outputs": [],
   "source": [
    "# Function to calculate the doubly robust treatment effect\n",
    "def calculate_dr_treatment_effect(X, D, Y, k_folds=5):\n",
    "    scaler = StandardScaler()\n",
    "    X_scaled = scaler.fit_transform(X)\n",
    "    \n",
    "    # K-Fold Cross-Fitting\n",
    "    kf = KFold(n_splits=k_folds, shuffle=True, random_state=42)\n",
    "    dr_ate_fold = []\n",
    "    mse_fold = []\n",
    "\n",
    "    for train_index, test_index in kf.split(X_scaled):\n",
    "        X_train, X_test = X_scaled[train_index], X_scaled[test_index]\n",
    "        D_train, D_test = D.iloc[train_index], D.iloc[test_index]\n",
    "        Y_train, Y_test = Y.iloc[train_index], Y.iloc[test_index]\n",
    "        \n",
    "        # Step 1: Estimate propensity scores\n",
    "        propensity_scores = train_gb_pscore(X_train, D_train, X_test)\n",
    "        \n",
    "        # Step 2: Trim p-scores (0.01, 0.99)\n",
    "        trimmed_indices = (propensity_scores > 0.01) & (propensity_scores < 0.99)\n",
    "        trimmed_X = X_test[trimmed_indices]\n",
    "        trimmed_D = D_test.iloc[trimmed_indices]\n",
    "        trimmed_Y = Y_test.iloc[trimmed_indices]\n",
    "        trimmed_pscore = propensity_scores[trimmed_indices]\n",
    "        \n",
    "        # Step 3: Fit outcome models for treated and untreated groups\n",
    "        gamma1 = train_gb_outcome(X_train[D_train == 1], Y_train[D_train == 1], trimmed_X)\n",
    "        gamma0 = train_gb_outcome(X_train[D_train == 0], Y_train[D_train == 0], trimmed_X)\n",
    "        \n",
    "        # Step 4: Calculate doubly robust estimates\n",
    "        trimmed_data = pd.DataFrame({\n",
    "            \"gamma1\": gamma1,\n",
    "            \"gamma0\": gamma0,\n",
    "            \"D\": trimmed_D.values,\n",
    "            \"Y\": trimmed_Y.values,\n",
    "            \"pscore\": trimmed_pscore\n",
    "        })\n",
    "        \n",
    "        trimmed_data['Y1_dr'] = (\n",
    "            trimmed_data['gamma1'] +\n",
    "            (trimmed_data['D'] / trimmed_data['pscore']) * (trimmed_data['Y'] - trimmed_data['gamma1'])\n",
    "        )\n",
    "        \n",
    "        trimmed_data['Y0_dr'] = (\n",
    "            trimmed_data['gamma0'] +\n",
    "            ((1 - trimmed_data['D']) / (1 - trimmed_data['pscore'])) * (trimmed_data['Y'] - trimmed_data['gamma0'])\n",
    "        )\n",
    "        \n",
    "        # Step 5: Calculate treatment effect and MSE for the fold\n",
    "        dr_ate_fold.append(np.mean(trimmed_data['Y1_dr'] - trimmed_data['Y0_dr']))\n",
    "        mse_fold.append(mean_squared_error(\n",
    "            trimmed_data['Y'],\n",
    "            trimmed_data['Y1_dr'] * trimmed_data['D'] + trimmed_data['Y0_dr'] * (1 - trimmed_data['D'])\n",
    "        ))\n",
    "    \n",
    "    # Average treatment effect and MSE across folds\n",
    "    dr_ate = np.mean(dr_ate_fold)\n",
    "    mse = np.mean(mse_fold)\n",
    "    return dr_ate, mse"
   ]
  },
  {
   "cell_type": "code",
   "execution_count": 143,
   "metadata": {},
   "outputs": [],
   "source": [
    "def run_gradient_boosting_dml(dataset, covariates, treatment, outcomes):\n",
    "    theta_hat_dr_values = []\n",
    "    mse_values = []\n",
    "\n",
    "    for outcome in outcomes:\n",
    "        print(f\"Processing outcome: {outcome}\")\n",
    "        X = dataset[covariates]\n",
    "        D = dataset[treatment]\n",
    "        Y = dataset[outcome]\n",
    "\n",
    "        dr_ate, mse = calculate_dr_treatment_effect(X, D, Y)\n",
    "        theta_hat_dr_values.append(dr_ate)\n",
    "        mse_values.append(mse)\n",
    "    \n",
    "    # Create Results DataFrame\n",
    "    results_df = pd.DataFrame({\n",
    "        \"Outcome\": outcomes,\n",
    "        \"Estimate\": theta_hat_dr_values,\n",
    "        \"MSE\": mse_values\n",
    "    })\n",
    "    return results_df"
   ]
  },
  {
   "cell_type": "code",
   "execution_count": 144,
   "metadata": {},
   "outputs": [
    {
     "name": "stdout",
     "output_type": "stream",
     "text": [
      "Processing outcome: pcorrupt\n",
      "Processing outcome: ncorrupt_os\n",
      "Processing outcome: log_valor_corrupt\n"
     ]
    }
   ],
   "source": [
    "gb_result_df_hetero = run_gradient_boosting_dml(\n",
    "    dataset=double_ml_dataset, \n",
    "    covariates=all_covariates, \n",
    "    treatment=treatment, \n",
    "    outcomes=outcomes\n",
    ")"
   ]
  },
  {
   "cell_type": "code",
   "execution_count": 145,
   "metadata": {},
   "outputs": [
    {
     "name": "stdout",
     "output_type": "stream",
     "text": [
      "Doubly Robust Treatment Effect Estimates with Cross-Fitting (Gradient Boosting):\n",
      "             Outcome  Estimate         MSE\n",
      "0           pcorrupt -0.033108    0.115371\n",
      "1        ncorrupt_os -0.010750    0.014521\n",
      "2  log_valor_corrupt -0.372401  231.858423\n"
     ]
    }
   ],
   "source": [
    "print(\"Doubly Robust Treatment Effect Estimates with Cross-Fitting (Gradient Boosting):\")\n",
    "print(gb_result_df_hetero)"
   ]
  },
  {
   "cell_type": "markdown",
   "metadata": {},
   "source": [
    "### Balance Checking"
   ]
  },
  {
   "cell_type": "code",
   "execution_count": 146,
   "metadata": {},
   "outputs": [
    {
     "name": "stdout",
     "output_type": "stream",
     "text": [
      "Standardized Mean Differences (SMD):\n",
      "[ 0.09740257 -0.05703785  0.00375209 -0.2861346   0.33890762 -0.15714109\n",
      "  0.18962049 -0.0734889  -0.11348257  0.09824413  0.06337119  0.0752497\n",
      "  0.07866989  0.09582446  0.16119766 -0.05315704 -0.13047893  0.11468225\n",
      "  0.1455305   0.13890832  0.07855953  0.09294581 -0.09203957  0.05327385\n",
      "  0.11897655  0.19542845 -0.06425797  0.06975095  0.10708625 -0.01069329\n",
      "  0.26140846  0.2713531  -0.38254248 -0.02070274 -0.07629457 -0.0226028\n",
      "  0.03844784  0.01549377 -0.02792332 -0.00804527  0.01678751 -0.07548997\n",
      "  0.1514819   0.06192979 -0.10066815 -0.09796073  0.20619283  0.07976528\n",
      "  0.06707955 -0.02203439  0.02908488 -0.07383468  0.04749452  0.01066028\n",
      "  0.00645857  0.06366897 -0.11920983 -0.07374604 -0.03772157 -0.07910712\n",
      " -0.14829466 -0.07260076 -0.12621894  0.02692657  0.14937885  0.03353344\n",
      " -0.09532402  0.12659189  0.0433435 ]\n"
     ]
    }
   ],
   "source": [
    "def compute_propensity_scores(X, D):\n",
    "    # Standardize the features\n",
    "    scaler = StandardScaler()\n",
    "    X_scaled = scaler.fit_transform(X)\n",
    "    \n",
    "    # Define Gradient Boosting Classifier\n",
    "    gb_model = GradientBoostingClassifier(n_estimators=100, max_depth=3, learning_rate=0.1, random_state=42)\n",
    "    \n",
    "    # Train the Gradient Boosting model\n",
    "    gb_model.fit(X_scaled, D)\n",
    "    \n",
    "    # Predict propensity scores\n",
    "    propensity_scores = gb_model.predict_proba(X_scaled)[:, 1]  # Probability of treatment\n",
    "    return propensity_scores\n",
    "\n",
    "smd_values = compute_smd(double_ml_dataset, all_covariates, treatment)\n",
    "\n",
    "\n",
    "# Print only the SMD\n",
    "print(\"Standardized Mean Differences (SMD):\")\n",
    "print(smd_values)"
   ]
  },
  {
   "cell_type": "markdown",
   "metadata": {},
   "source": [
    "Balanced"
   ]
  },
  {
   "cell_type": "markdown",
   "metadata": {},
   "source": [
    "#### Assuming Homogeneous treatment effct "
   ]
  },
  {
   "cell_type": "code",
   "execution_count": 147,
   "metadata": {},
   "outputs": [],
   "source": [
    "def calculate_dr_homogeneous_gb(X, D, Y, k_folds=5):\n",
    "    scaler = StandardScaler()\n",
    "    X_scaled = scaler.fit_transform(X)\n",
    "    \n",
    "    # K-Fold Cross-Fitting\n",
    "    kf = KFold(n_splits=k_folds, shuffle=True, random_state=42)\n",
    "    W_hat, V_hat = np.zeros(len(Y)), np.zeros(len(Y))\n",
    "    mse_fold = []\n",
    "\n",
    "    for train_index, test_index in kf.split(X_scaled):\n",
    "        X_train, X_test = X_scaled[train_index], X_scaled[test_index]\n",
    "        D_train, D_test = D[train_index], D[test_index]\n",
    "        Y_train, Y_test = Y[train_index], Y[test_index]\n",
    "\n",
    "        # Step 1: Estimate propensity scores using the provided function\n",
    "        pi_hat = train_gb_pscore(X_train, D_train, X_test)  # Function from the image\n",
    "\n",
    "        # Trim propensity scores (0.01, 0.99)\n",
    "        trimmed_indices = (pi_hat > 0.01) & (pi_hat < 0.99)\n",
    "        trimmed_X, trimmed_D, trimmed_Y = X_test[trimmed_indices], D_test[trimmed_indices], Y_test[trimmed_indices]\n",
    "        trimmed_pscore = pi_hat[trimmed_indices]\n",
    "\n",
    "        # Step 2: Estimate E[Y|X] using the provided function\n",
    "        gamma_hat = train_gb_outcome(X_train, Y_train, trimmed_X)  # Function from the image\n",
    "\n",
    "        # Step 3: Calculate residuals W_hat and V_hat\n",
    "        W_hat[test_index[trimmed_indices]] = trimmed_Y - gamma_hat\n",
    "        V_hat[test_index[trimmed_indices]] = trimmed_D - trimmed_pscore\n",
    "\n",
    "        # Step 4: Calculate MSE for this fold\n",
    "        mse_fold.append(mean_squared_error(trimmed_Y, gamma_hat))\n",
    "    \n",
    "    # Step 5: Regress W_hat on V_hat to estimate theta_0\n",
    "    regression = LinearRegression()\n",
    "    regression.fit(V_hat.reshape(-1, 1), W_hat)\n",
    "    theta_hat = regression.coef_[0]\n",
    "\n",
    "    return theta_hat, np.mean(mse_fold)"
   ]
  },
  {
   "cell_type": "code",
   "execution_count": 148,
   "metadata": {},
   "outputs": [],
   "source": [
    "def run_dr_homogeneous_gb(dataset, covariates, treatment, outcomes):\n",
    "    theta_hat_dr_values = []\n",
    "    mse_values = []\n",
    "\n",
    "    for outcome in outcomes:\n",
    "        print(f\"Processing outcome: {outcome}\")\n",
    "        X = dataset[covariates].values\n",
    "        D = dataset[treatment].values\n",
    "        Y = dataset[outcome].values\n",
    "\n",
    "        # Call the homogeneous treatment effect function\n",
    "        dr_ate, mse = calculate_dr_homogeneous_gb(X, D, Y)\n",
    "        theta_hat_dr_values.append(dr_ate)\n",
    "        mse_values.append(mse)\n",
    "\n",
    "    # Create Results DataFrame\n",
    "    results_df = pd.DataFrame({\n",
    "        \"Outcome\": outcomes,\n",
    "        \"Estimate\": theta_hat_dr_values,\n",
    "        \"MSE\": mse_values\n",
    "    })\n",
    "    return results_df"
   ]
  },
  {
   "cell_type": "code",
   "execution_count": 149,
   "metadata": {},
   "outputs": [
    {
     "name": "stdout",
     "output_type": "stream",
     "text": [
      "Processing outcome: pcorrupt\n",
      "Processing outcome: ncorrupt_os\n",
      "Processing outcome: log_valor_corrupt\n"
     ]
    }
   ],
   "source": [
    "gb_result_df_homo = run_dr_homogeneous_gb(\n",
    "    dataset=double_ml_dataset, \n",
    "    covariates=all_covariates, \n",
    "    treatment=treatment, \n",
    "    outcomes=outcomes\n",
    ")"
   ]
  },
  {
   "cell_type": "code",
   "execution_count": 150,
   "metadata": {},
   "outputs": [
    {
     "name": "stdout",
     "output_type": "stream",
     "text": [
      "Doubly Robust Treatment Effect Estimates with Cross-Fitting (Homogeneous, Gradient Boosting):\n",
      "             Outcome  Estimate        MSE\n",
      "0           pcorrupt -0.019908   0.012329\n",
      "1        ncorrupt_os -0.006349   0.002226\n",
      "2  log_valor_corrupt -0.823704  28.820632\n"
     ]
    }
   ],
   "source": [
    "print(\"Doubly Robust Treatment Effect Estimates with Cross-Fitting (Homogeneous, Gradient Boosting):\")\n",
    "print(gb_result_df_homo)"
   ]
  },
  {
   "cell_type": "markdown",
   "metadata": {},
   "source": [
    "## Combining Estimates:"
   ]
  },
  {
   "cell_type": "markdown",
   "metadata": {},
   "source": [
    "### Lasso: (hetero)"
   ]
  },
  {
   "cell_type": "code",
   "execution_count": 151,
   "metadata": {},
   "outputs": [
    {
     "data": {
      "text/html": [
       "<div>\n",
       "<style scoped>\n",
       "    .dataframe tbody tr th:only-of-type {\n",
       "        vertical-align: middle;\n",
       "    }\n",
       "\n",
       "    .dataframe tbody tr th {\n",
       "        vertical-align: top;\n",
       "    }\n",
       "\n",
       "    .dataframe thead th {\n",
       "        text-align: right;\n",
       "    }\n",
       "</style>\n",
       "<table border=\"1\" class=\"dataframe\">\n",
       "  <thead>\n",
       "    <tr style=\"text-align: right;\">\n",
       "      <th></th>\n",
       "      <th>Outcome</th>\n",
       "      <th>Estimate</th>\n",
       "      <th>MSE</th>\n",
       "    </tr>\n",
       "  </thead>\n",
       "  <tbody>\n",
       "    <tr>\n",
       "      <th>0</th>\n",
       "      <td>pcorrupt</td>\n",
       "      <td>-0.020254</td>\n",
       "      <td>0.016171</td>\n",
       "    </tr>\n",
       "    <tr>\n",
       "      <th>1</th>\n",
       "      <td>ncorrupt_os</td>\n",
       "      <td>-0.008128</td>\n",
       "      <td>0.003728</td>\n",
       "    </tr>\n",
       "    <tr>\n",
       "      <th>2</th>\n",
       "      <td>log_valor_corrupt</td>\n",
       "      <td>-0.992246</td>\n",
       "      <td>39.054955</td>\n",
       "    </tr>\n",
       "  </tbody>\n",
       "</table>\n",
       "</div>"
      ],
      "text/plain": [
       "             Outcome  Estimate        MSE\n",
       "0           pcorrupt -0.020254   0.016171\n",
       "1        ncorrupt_os -0.008128   0.003728\n",
       "2  log_valor_corrupt -0.992246  39.054955"
      ]
     },
     "execution_count": 151,
     "metadata": {},
     "output_type": "execute_result"
    }
   ],
   "source": [
    "# Only mayor_covariates:(hetero)\n",
    "ls_result_df_1_he = estimate_dr_for_outcomes_lasso(double_ml_dataset, mayor_covariates, treatment, outcomes)\n",
    "ls_result_df_1_he"
   ]
  },
  {
   "cell_type": "code",
   "execution_count": 152,
   "metadata": {},
   "outputs": [
    {
     "data": {
      "text/html": [
       "<div>\n",
       "<style scoped>\n",
       "    .dataframe tbody tr th:only-of-type {\n",
       "        vertical-align: middle;\n",
       "    }\n",
       "\n",
       "    .dataframe tbody tr th {\n",
       "        vertical-align: top;\n",
       "    }\n",
       "\n",
       "    .dataframe thead th {\n",
       "        text-align: right;\n",
       "    }\n",
       "</style>\n",
       "<table border=\"1\" class=\"dataframe\">\n",
       "  <thead>\n",
       "    <tr style=\"text-align: right;\">\n",
       "      <th></th>\n",
       "      <th>Outcome</th>\n",
       "      <th>Estimate</th>\n",
       "      <th>MSE</th>\n",
       "    </tr>\n",
       "  </thead>\n",
       "  <tbody>\n",
       "    <tr>\n",
       "      <th>0</th>\n",
       "      <td>pcorrupt</td>\n",
       "      <td>-0.017920</td>\n",
       "      <td>0.010611</td>\n",
       "    </tr>\n",
       "    <tr>\n",
       "      <th>1</th>\n",
       "      <td>ncorrupt_os</td>\n",
       "      <td>-0.009267</td>\n",
       "      <td>0.002861</td>\n",
       "    </tr>\n",
       "    <tr>\n",
       "      <th>2</th>\n",
       "      <td>log_valor_corrupt</td>\n",
       "      <td>-0.913043</td>\n",
       "      <td>28.488840</td>\n",
       "    </tr>\n",
       "  </tbody>\n",
       "</table>\n",
       "</div>"
      ],
      "text/plain": [
       "             Outcome  Estimate        MSE\n",
       "0           pcorrupt -0.017920   0.010611\n",
       "1        ncorrupt_os -0.009267   0.002861\n",
       "2  log_valor_corrupt -0.913043  28.488840"
      ]
     },
     "execution_count": 152,
     "metadata": {},
     "output_type": "execute_result"
    }
   ],
   "source": [
    "# Only mayor_covariates:(homo)\n",
    "ls_result_df_1_ho = estimate_dr_homogeneous_lasso(double_ml_dataset, mayor_covariates, treatment, outcomes)\n",
    "ls_result_df_1_ho"
   ]
  },
  {
   "cell_type": "code",
   "execution_count": 153,
   "metadata": {},
   "outputs": [
    {
     "data": {
      "text/html": [
       "<div>\n",
       "<style scoped>\n",
       "    .dataframe tbody tr th:only-of-type {\n",
       "        vertical-align: middle;\n",
       "    }\n",
       "\n",
       "    .dataframe tbody tr th {\n",
       "        vertical-align: top;\n",
       "    }\n",
       "\n",
       "    .dataframe thead th {\n",
       "        text-align: right;\n",
       "    }\n",
       "</style>\n",
       "<table border=\"1\" class=\"dataframe\">\n",
       "  <thead>\n",
       "    <tr style=\"text-align: right;\">\n",
       "      <th></th>\n",
       "      <th>Outcome</th>\n",
       "      <th>Estimate</th>\n",
       "      <th>MSE</th>\n",
       "    </tr>\n",
       "  </thead>\n",
       "  <tbody>\n",
       "    <tr>\n",
       "      <th>0</th>\n",
       "      <td>pcorrupt</td>\n",
       "      <td>-0.020004</td>\n",
       "      <td>0.016512</td>\n",
       "    </tr>\n",
       "    <tr>\n",
       "      <th>1</th>\n",
       "      <td>ncorrupt_os</td>\n",
       "      <td>-0.006750</td>\n",
       "      <td>0.003707</td>\n",
       "    </tr>\n",
       "    <tr>\n",
       "      <th>2</th>\n",
       "      <td>log_valor_corrupt</td>\n",
       "      <td>-0.905899</td>\n",
       "      <td>38.035667</td>\n",
       "    </tr>\n",
       "  </tbody>\n",
       "</table>\n",
       "</div>"
      ],
      "text/plain": [
       "             Outcome  Estimate        MSE\n",
       "0           pcorrupt -0.020004   0.016512\n",
       "1        ncorrupt_os -0.006750   0.003707\n",
       "2  log_valor_corrupt -0.905899  38.035667"
      ]
     },
     "execution_count": 153,
     "metadata": {},
     "output_type": "execute_result"
    }
   ],
   "source": [
    "# mayor_covariates + municipal_covariates\n",
    "ma_mu=(mayor_covariates +municipal_covariates)\n",
    "ls_result_df_2_he = estimate_dr_for_outcomes_lasso(double_ml_dataset, ma_mu, treatment, outcomes)\n",
    "ls_result_df_2_he"
   ]
  },
  {
   "cell_type": "code",
   "execution_count": 154,
   "metadata": {},
   "outputs": [
    {
     "data": {
      "text/html": [
       "<div>\n",
       "<style scoped>\n",
       "    .dataframe tbody tr th:only-of-type {\n",
       "        vertical-align: middle;\n",
       "    }\n",
       "\n",
       "    .dataframe tbody tr th {\n",
       "        vertical-align: top;\n",
       "    }\n",
       "\n",
       "    .dataframe thead th {\n",
       "        text-align: right;\n",
       "    }\n",
       "</style>\n",
       "<table border=\"1\" class=\"dataframe\">\n",
       "  <thead>\n",
       "    <tr style=\"text-align: right;\">\n",
       "      <th></th>\n",
       "      <th>Outcome</th>\n",
       "      <th>Estimate</th>\n",
       "      <th>MSE</th>\n",
       "    </tr>\n",
       "  </thead>\n",
       "  <tbody>\n",
       "    <tr>\n",
       "      <th>0</th>\n",
       "      <td>pcorrupt</td>\n",
       "      <td>-0.017183</td>\n",
       "      <td>0.010455</td>\n",
       "    </tr>\n",
       "    <tr>\n",
       "      <th>1</th>\n",
       "      <td>ncorrupt_os</td>\n",
       "      <td>-0.006682</td>\n",
       "      <td>0.002634</td>\n",
       "    </tr>\n",
       "    <tr>\n",
       "      <th>2</th>\n",
       "      <td>log_valor_corrupt</td>\n",
       "      <td>-0.769087</td>\n",
       "      <td>26.503841</td>\n",
       "    </tr>\n",
       "  </tbody>\n",
       "</table>\n",
       "</div>"
      ],
      "text/plain": [
       "             Outcome  Estimate        MSE\n",
       "0           pcorrupt -0.017183   0.010455\n",
       "1        ncorrupt_os -0.006682   0.002634\n",
       "2  log_valor_corrupt -0.769087  26.503841"
      ]
     },
     "execution_count": 154,
     "metadata": {},
     "output_type": "execute_result"
    }
   ],
   "source": [
    "ls_result_df_2_ho = estimate_dr_homogeneous_lasso(double_ml_dataset, ma_mu, treatment, outcomes)\n",
    "ls_result_df_2_ho"
   ]
  },
  {
   "cell_type": "code",
   "execution_count": 155,
   "metadata": {},
   "outputs": [
    {
     "data": {
      "text/html": [
       "<div>\n",
       "<style scoped>\n",
       "    .dataframe tbody tr th:only-of-type {\n",
       "        vertical-align: middle;\n",
       "    }\n",
       "\n",
       "    .dataframe tbody tr th {\n",
       "        vertical-align: top;\n",
       "    }\n",
       "\n",
       "    .dataframe thead th {\n",
       "        text-align: right;\n",
       "    }\n",
       "</style>\n",
       "<table border=\"1\" class=\"dataframe\">\n",
       "  <thead>\n",
       "    <tr style=\"text-align: right;\">\n",
       "      <th></th>\n",
       "      <th>Outcome</th>\n",
       "      <th>Estimate</th>\n",
       "      <th>MSE</th>\n",
       "    </tr>\n",
       "  </thead>\n",
       "  <tbody>\n",
       "    <tr>\n",
       "      <th>0</th>\n",
       "      <td>pcorrupt</td>\n",
       "      <td>-0.021204</td>\n",
       "      <td>0.016981</td>\n",
       "    </tr>\n",
       "    <tr>\n",
       "      <th>1</th>\n",
       "      <td>ncorrupt_os</td>\n",
       "      <td>-0.007074</td>\n",
       "      <td>0.003574</td>\n",
       "    </tr>\n",
       "    <tr>\n",
       "      <th>2</th>\n",
       "      <td>log_valor_corrupt</td>\n",
       "      <td>-1.012787</td>\n",
       "      <td>37.229637</td>\n",
       "    </tr>\n",
       "  </tbody>\n",
       "</table>\n",
       "</div>"
      ],
      "text/plain": [
       "             Outcome  Estimate        MSE\n",
       "0           pcorrupt -0.021204   0.016981\n",
       "1        ncorrupt_os -0.007074   0.003574\n",
       "2  log_valor_corrupt -1.012787  37.229637"
      ]
     },
     "execution_count": 155,
     "metadata": {},
     "output_type": "execute_result"
    }
   ],
   "source": [
    "# mayor_covariants + municipal_covariantes + political_judicial_covariants\n",
    "ma_mu_pl=(\n",
    "    mayor_covariates +\n",
    "    municipal_covariates +\n",
    "    political_judicial_covariates)\n",
    "\n",
    "ls_result_df_3_he = estimate_dr_for_outcomes_lasso(double_ml_dataset, ma_mu_pl, treatment, outcomes)\n",
    "ls_result_df_3_he\n"
   ]
  },
  {
   "cell_type": "code",
   "execution_count": 156,
   "metadata": {},
   "outputs": [
    {
     "data": {
      "text/html": [
       "<div>\n",
       "<style scoped>\n",
       "    .dataframe tbody tr th:only-of-type {\n",
       "        vertical-align: middle;\n",
       "    }\n",
       "\n",
       "    .dataframe tbody tr th {\n",
       "        vertical-align: top;\n",
       "    }\n",
       "\n",
       "    .dataframe thead th {\n",
       "        text-align: right;\n",
       "    }\n",
       "</style>\n",
       "<table border=\"1\" class=\"dataframe\">\n",
       "  <thead>\n",
       "    <tr style=\"text-align: right;\">\n",
       "      <th></th>\n",
       "      <th>Outcome</th>\n",
       "      <th>Estimate</th>\n",
       "      <th>MSE</th>\n",
       "    </tr>\n",
       "  </thead>\n",
       "  <tbody>\n",
       "    <tr>\n",
       "      <th>0</th>\n",
       "      <td>pcorrupt</td>\n",
       "      <td>-0.021765</td>\n",
       "      <td>0.010458</td>\n",
       "    </tr>\n",
       "    <tr>\n",
       "      <th>1</th>\n",
       "      <td>ncorrupt_os</td>\n",
       "      <td>-0.007514</td>\n",
       "      <td>0.002631</td>\n",
       "    </tr>\n",
       "    <tr>\n",
       "      <th>2</th>\n",
       "      <td>log_valor_corrupt</td>\n",
       "      <td>-1.001436</td>\n",
       "      <td>26.460489</td>\n",
       "    </tr>\n",
       "  </tbody>\n",
       "</table>\n",
       "</div>"
      ],
      "text/plain": [
       "             Outcome  Estimate        MSE\n",
       "0           pcorrupt -0.021765   0.010458\n",
       "1        ncorrupt_os -0.007514   0.002631\n",
       "2  log_valor_corrupt -1.001436  26.460489"
      ]
     },
     "execution_count": 156,
     "metadata": {},
     "output_type": "execute_result"
    }
   ],
   "source": [
    "ls_result_df_3_ho = estimate_dr_homogeneous_lasso(double_ml_dataset, ma_mu_pl, treatment, outcomes)\n",
    "ls_result_df_3_ho"
   ]
  },
  {
   "cell_type": "code",
   "execution_count": 157,
   "metadata": {},
   "outputs": [
    {
     "data": {
      "text/html": [
       "<div>\n",
       "<style scoped>\n",
       "    .dataframe tbody tr th:only-of-type {\n",
       "        vertical-align: middle;\n",
       "    }\n",
       "\n",
       "    .dataframe tbody tr th {\n",
       "        vertical-align: top;\n",
       "    }\n",
       "\n",
       "    .dataframe thead th {\n",
       "        text-align: right;\n",
       "    }\n",
       "</style>\n",
       "<table border=\"1\" class=\"dataframe\">\n",
       "  <thead>\n",
       "    <tr style=\"text-align: right;\">\n",
       "      <th></th>\n",
       "      <th>Outcome</th>\n",
       "      <th>Estimate</th>\n",
       "      <th>MSE</th>\n",
       "    </tr>\n",
       "  </thead>\n",
       "  <tbody>\n",
       "    <tr>\n",
       "      <th>0</th>\n",
       "      <td>pcorrupt</td>\n",
       "      <td>-0.021965</td>\n",
       "      <td>0.017303</td>\n",
       "    </tr>\n",
       "    <tr>\n",
       "      <th>1</th>\n",
       "      <td>ncorrupt_os</td>\n",
       "      <td>-0.009060</td>\n",
       "      <td>0.003216</td>\n",
       "    </tr>\n",
       "    <tr>\n",
       "      <th>2</th>\n",
       "      <td>log_valor_corrupt</td>\n",
       "      <td>-1.067526</td>\n",
       "      <td>36.285240</td>\n",
       "    </tr>\n",
       "  </tbody>\n",
       "</table>\n",
       "</div>"
      ],
      "text/plain": [
       "             Outcome  Estimate        MSE\n",
       "0           pcorrupt -0.021965   0.017303\n",
       "1        ncorrupt_os -0.009060   0.003216\n",
       "2  log_valor_corrupt -1.067526  36.285240"
      ]
     },
     "execution_count": 157,
     "metadata": {},
     "output_type": "execute_result"
    }
   ],
   "source": [
    "# All Covariants (plus two dummies)\n",
    "ls_result_df_4_he = estimate_dr_for_outcomes_lasso(double_ml_dataset, all_covariates, treatment, outcomes)\n",
    "ls_result_df_4_he"
   ]
  },
  {
   "cell_type": "code",
   "execution_count": 158,
   "metadata": {},
   "outputs": [
    {
     "data": {
      "text/html": [
       "<div>\n",
       "<style scoped>\n",
       "    .dataframe tbody tr th:only-of-type {\n",
       "        vertical-align: middle;\n",
       "    }\n",
       "\n",
       "    .dataframe tbody tr th {\n",
       "        vertical-align: top;\n",
       "    }\n",
       "\n",
       "    .dataframe thead th {\n",
       "        text-align: right;\n",
       "    }\n",
       "</style>\n",
       "<table border=\"1\" class=\"dataframe\">\n",
       "  <thead>\n",
       "    <tr style=\"text-align: right;\">\n",
       "      <th></th>\n",
       "      <th>Outcome</th>\n",
       "      <th>Estimate</th>\n",
       "      <th>MSE</th>\n",
       "    </tr>\n",
       "  </thead>\n",
       "  <tbody>\n",
       "    <tr>\n",
       "      <th>0</th>\n",
       "      <td>pcorrupt</td>\n",
       "      <td>-0.023743</td>\n",
       "      <td>0.010310</td>\n",
       "    </tr>\n",
       "    <tr>\n",
       "      <th>1</th>\n",
       "      <td>ncorrupt_os</td>\n",
       "      <td>-0.008505</td>\n",
       "      <td>0.002078</td>\n",
       "    </tr>\n",
       "    <tr>\n",
       "      <th>2</th>\n",
       "      <td>log_valor_corrupt</td>\n",
       "      <td>-1.190014</td>\n",
       "      <td>24.754757</td>\n",
       "    </tr>\n",
       "  </tbody>\n",
       "</table>\n",
       "</div>"
      ],
      "text/plain": [
       "             Outcome  Estimate        MSE\n",
       "0           pcorrupt -0.023743   0.010310\n",
       "1        ncorrupt_os -0.008505   0.002078\n",
       "2  log_valor_corrupt -1.190014  24.754757"
      ]
     },
     "execution_count": 158,
     "metadata": {},
     "output_type": "execute_result"
    }
   ],
   "source": [
    "# All Covariants (plus two dummies)\n",
    "ls_result_df_4_ho = estimate_dr_homogeneous_lasso(double_ml_dataset, all_covariates, treatment, outcomes)\n",
    "ls_result_df_4_ho"
   ]
  },
  {
   "cell_type": "markdown",
   "metadata": {},
   "source": [
    "### Random Forest: "
   ]
  },
  {
   "cell_type": "code",
   "execution_count": 159,
   "metadata": {},
   "outputs": [
    {
     "name": "stdout",
     "output_type": "stream",
     "text": [
      "Processing outcome: pcorrupt\n",
      "Processing outcome: ncorrupt_os\n",
      "Processing outcome: log_valor_corrupt\n"
     ]
    },
    {
     "data": {
      "text/html": [
       "<div>\n",
       "<style scoped>\n",
       "    .dataframe tbody tr th:only-of-type {\n",
       "        vertical-align: middle;\n",
       "    }\n",
       "\n",
       "    .dataframe tbody tr th {\n",
       "        vertical-align: top;\n",
       "    }\n",
       "\n",
       "    .dataframe thead th {\n",
       "        text-align: right;\n",
       "    }\n",
       "</style>\n",
       "<table border=\"1\" class=\"dataframe\">\n",
       "  <thead>\n",
       "    <tr style=\"text-align: right;\">\n",
       "      <th></th>\n",
       "      <th>Outcome</th>\n",
       "      <th>Estimate</th>\n",
       "      <th>MSE</th>\n",
       "    </tr>\n",
       "  </thead>\n",
       "  <tbody>\n",
       "    <tr>\n",
       "      <th>0</th>\n",
       "      <td>pcorrupt</td>\n",
       "      <td>-0.024551</td>\n",
       "      <td>0.016579</td>\n",
       "    </tr>\n",
       "    <tr>\n",
       "      <th>1</th>\n",
       "      <td>ncorrupt_os</td>\n",
       "      <td>-0.009267</td>\n",
       "      <td>0.003814</td>\n",
       "    </tr>\n",
       "    <tr>\n",
       "      <th>2</th>\n",
       "      <td>log_valor_corrupt</td>\n",
       "      <td>-1.013124</td>\n",
       "      <td>39.744113</td>\n",
       "    </tr>\n",
       "  </tbody>\n",
       "</table>\n",
       "</div>"
      ],
      "text/plain": [
       "             Outcome  Estimate        MSE\n",
       "0           pcorrupt -0.024551   0.016579\n",
       "1        ncorrupt_os -0.009267   0.003814\n",
       "2  log_valor_corrupt -1.013124  39.744113"
      ]
     },
     "execution_count": 159,
     "metadata": {},
     "output_type": "execute_result"
    }
   ],
   "source": [
    "# Only mayor_covariates:\n",
    "rf_result_df_1_he = run_dr_estimation_rf(double_ml_dataset, mayor_covariates, treatment, outcomes)\n",
    "rf_result_df_1_he"
   ]
  },
  {
   "cell_type": "code",
   "execution_count": 160,
   "metadata": {},
   "outputs": [
    {
     "name": "stdout",
     "output_type": "stream",
     "text": [
      "Processing outcome: pcorrupt\n",
      "Processing outcome: ncorrupt_os\n",
      "Processing outcome: log_valor_corrupt\n"
     ]
    },
    {
     "data": {
      "text/html": [
       "<div>\n",
       "<style scoped>\n",
       "    .dataframe tbody tr th:only-of-type {\n",
       "        vertical-align: middle;\n",
       "    }\n",
       "\n",
       "    .dataframe tbody tr th {\n",
       "        vertical-align: top;\n",
       "    }\n",
       "\n",
       "    .dataframe thead th {\n",
       "        text-align: right;\n",
       "    }\n",
       "</style>\n",
       "<table border=\"1\" class=\"dataframe\">\n",
       "  <thead>\n",
       "    <tr style=\"text-align: right;\">\n",
       "      <th></th>\n",
       "      <th>Outcome</th>\n",
       "      <th>Estimate</th>\n",
       "      <th>MSE</th>\n",
       "    </tr>\n",
       "  </thead>\n",
       "  <tbody>\n",
       "    <tr>\n",
       "      <th>0</th>\n",
       "      <td>pcorrupt</td>\n",
       "      <td>-0.022994</td>\n",
       "      <td>0.011305</td>\n",
       "    </tr>\n",
       "    <tr>\n",
       "      <th>1</th>\n",
       "      <td>ncorrupt_os</td>\n",
       "      <td>-0.009108</td>\n",
       "      <td>0.002943</td>\n",
       "    </tr>\n",
       "    <tr>\n",
       "      <th>2</th>\n",
       "      <td>log_valor_corrupt</td>\n",
       "      <td>-0.974373</td>\n",
       "      <td>29.498879</td>\n",
       "    </tr>\n",
       "  </tbody>\n",
       "</table>\n",
       "</div>"
      ],
      "text/plain": [
       "             Outcome  Estimate        MSE\n",
       "0           pcorrupt -0.022994   0.011305\n",
       "1        ncorrupt_os -0.009108   0.002943\n",
       "2  log_valor_corrupt -0.974373  29.498879"
      ]
     },
     "execution_count": 160,
     "metadata": {},
     "output_type": "execute_result"
    }
   ],
   "source": [
    "# Only mayor_covariates:\n",
    "rf_result_df_1_ho = run_dr_estimation_rf_homo(double_ml_dataset, mayor_covariates, treatment, outcomes)\n",
    "rf_result_df_1_ho"
   ]
  },
  {
   "cell_type": "code",
   "execution_count": 161,
   "metadata": {},
   "outputs": [
    {
     "name": "stdout",
     "output_type": "stream",
     "text": [
      "Processing outcome: pcorrupt\n",
      "Processing outcome: ncorrupt_os\n",
      "Processing outcome: log_valor_corrupt\n"
     ]
    },
    {
     "data": {
      "text/html": [
       "<div>\n",
       "<style scoped>\n",
       "    .dataframe tbody tr th:only-of-type {\n",
       "        vertical-align: middle;\n",
       "    }\n",
       "\n",
       "    .dataframe tbody tr th {\n",
       "        vertical-align: top;\n",
       "    }\n",
       "\n",
       "    .dataframe thead th {\n",
       "        text-align: right;\n",
       "    }\n",
       "</style>\n",
       "<table border=\"1\" class=\"dataframe\">\n",
       "  <thead>\n",
       "    <tr style=\"text-align: right;\">\n",
       "      <th></th>\n",
       "      <th>Outcome</th>\n",
       "      <th>Estimate</th>\n",
       "      <th>MSE</th>\n",
       "    </tr>\n",
       "  </thead>\n",
       "  <tbody>\n",
       "    <tr>\n",
       "      <th>0</th>\n",
       "      <td>pcorrupt</td>\n",
       "      <td>-0.018236</td>\n",
       "      <td>0.016606</td>\n",
       "    </tr>\n",
       "    <tr>\n",
       "      <th>1</th>\n",
       "      <td>ncorrupt_os</td>\n",
       "      <td>-0.003394</td>\n",
       "      <td>0.003918</td>\n",
       "    </tr>\n",
       "    <tr>\n",
       "      <th>2</th>\n",
       "      <td>log_valor_corrupt</td>\n",
       "      <td>-0.816997</td>\n",
       "      <td>36.712125</td>\n",
       "    </tr>\n",
       "  </tbody>\n",
       "</table>\n",
       "</div>"
      ],
      "text/plain": [
       "             Outcome  Estimate        MSE\n",
       "0           pcorrupt -0.018236   0.016606\n",
       "1        ncorrupt_os -0.003394   0.003918\n",
       "2  log_valor_corrupt -0.816997  36.712125"
      ]
     },
     "execution_count": 161,
     "metadata": {},
     "output_type": "execute_result"
    }
   ],
   "source": [
    "# mayor_covariates + municipal_covariates\n",
    "rf_result_df_2_he = run_dr_estimation_rf(double_ml_dataset, ma_mu, treatment, outcomes)\n",
    "rf_result_df_2_he"
   ]
  },
  {
   "cell_type": "code",
   "execution_count": 162,
   "metadata": {},
   "outputs": [
    {
     "name": "stdout",
     "output_type": "stream",
     "text": [
      "Processing outcome: pcorrupt\n",
      "Processing outcome: ncorrupt_os\n",
      "Processing outcome: log_valor_corrupt\n"
     ]
    },
    {
     "data": {
      "text/html": [
       "<div>\n",
       "<style scoped>\n",
       "    .dataframe tbody tr th:only-of-type {\n",
       "        vertical-align: middle;\n",
       "    }\n",
       "\n",
       "    .dataframe tbody tr th {\n",
       "        vertical-align: top;\n",
       "    }\n",
       "\n",
       "    .dataframe thead th {\n",
       "        text-align: right;\n",
       "    }\n",
       "</style>\n",
       "<table border=\"1\" class=\"dataframe\">\n",
       "  <thead>\n",
       "    <tr style=\"text-align: right;\">\n",
       "      <th></th>\n",
       "      <th>Outcome</th>\n",
       "      <th>Estimate</th>\n",
       "      <th>MSE</th>\n",
       "    </tr>\n",
       "  </thead>\n",
       "  <tbody>\n",
       "    <tr>\n",
       "      <th>0</th>\n",
       "      <td>pcorrupt</td>\n",
       "      <td>-0.019338</td>\n",
       "      <td>0.011028</td>\n",
       "    </tr>\n",
       "    <tr>\n",
       "      <th>1</th>\n",
       "      <td>ncorrupt_os</td>\n",
       "      <td>-0.004336</td>\n",
       "      <td>0.002763</td>\n",
       "    </tr>\n",
       "    <tr>\n",
       "      <th>2</th>\n",
       "      <td>log_valor_corrupt</td>\n",
       "      <td>-0.773453</td>\n",
       "      <td>27.397548</td>\n",
       "    </tr>\n",
       "  </tbody>\n",
       "</table>\n",
       "</div>"
      ],
      "text/plain": [
       "             Outcome  Estimate        MSE\n",
       "0           pcorrupt -0.019338   0.011028\n",
       "1        ncorrupt_os -0.004336   0.002763\n",
       "2  log_valor_corrupt -0.773453  27.397548"
      ]
     },
     "execution_count": 162,
     "metadata": {},
     "output_type": "execute_result"
    }
   ],
   "source": [
    "rf_result_df_2_ho = run_dr_estimation_rf_homo(double_ml_dataset, ma_mu, treatment, outcomes)\n",
    "rf_result_df_2_ho"
   ]
  },
  {
   "cell_type": "code",
   "execution_count": 163,
   "metadata": {},
   "outputs": [
    {
     "name": "stdout",
     "output_type": "stream",
     "text": [
      "Processing outcome: pcorrupt\n",
      "Processing outcome: ncorrupt_os\n",
      "Processing outcome: log_valor_corrupt\n"
     ]
    },
    {
     "data": {
      "text/html": [
       "<div>\n",
       "<style scoped>\n",
       "    .dataframe tbody tr th:only-of-type {\n",
       "        vertical-align: middle;\n",
       "    }\n",
       "\n",
       "    .dataframe tbody tr th {\n",
       "        vertical-align: top;\n",
       "    }\n",
       "\n",
       "    .dataframe thead th {\n",
       "        text-align: right;\n",
       "    }\n",
       "</style>\n",
       "<table border=\"1\" class=\"dataframe\">\n",
       "  <thead>\n",
       "    <tr style=\"text-align: right;\">\n",
       "      <th></th>\n",
       "      <th>Outcome</th>\n",
       "      <th>Estimate</th>\n",
       "      <th>MSE</th>\n",
       "    </tr>\n",
       "  </thead>\n",
       "  <tbody>\n",
       "    <tr>\n",
       "      <th>0</th>\n",
       "      <td>pcorrupt</td>\n",
       "      <td>-0.020898</td>\n",
       "      <td>0.019889</td>\n",
       "    </tr>\n",
       "    <tr>\n",
       "      <th>1</th>\n",
       "      <td>ncorrupt_os</td>\n",
       "      <td>-0.004831</td>\n",
       "      <td>0.003618</td>\n",
       "    </tr>\n",
       "    <tr>\n",
       "      <th>2</th>\n",
       "      <td>log_valor_corrupt</td>\n",
       "      <td>-0.848086</td>\n",
       "      <td>39.230805</td>\n",
       "    </tr>\n",
       "  </tbody>\n",
       "</table>\n",
       "</div>"
      ],
      "text/plain": [
       "             Outcome  Estimate        MSE\n",
       "0           pcorrupt -0.020898   0.019889\n",
       "1        ncorrupt_os -0.004831   0.003618\n",
       "2  log_valor_corrupt -0.848086  39.230805"
      ]
     },
     "execution_count": 163,
     "metadata": {},
     "output_type": "execute_result"
    }
   ],
   "source": [
    "# mayor_covariants + municipal_covariantes + political_judicial_covariants\n",
    "rf_result_df_3_he = run_dr_estimation_rf(double_ml_dataset, ma_mu_pl, treatment, outcomes)\n",
    "rf_result_df_3_he"
   ]
  },
  {
   "cell_type": "code",
   "execution_count": 164,
   "metadata": {},
   "outputs": [
    {
     "name": "stdout",
     "output_type": "stream",
     "text": [
      "Processing outcome: pcorrupt\n",
      "Processing outcome: ncorrupt_os\n",
      "Processing outcome: log_valor_corrupt\n"
     ]
    },
    {
     "data": {
      "text/html": [
       "<div>\n",
       "<style scoped>\n",
       "    .dataframe tbody tr th:only-of-type {\n",
       "        vertical-align: middle;\n",
       "    }\n",
       "\n",
       "    .dataframe tbody tr th {\n",
       "        vertical-align: top;\n",
       "    }\n",
       "\n",
       "    .dataframe thead th {\n",
       "        text-align: right;\n",
       "    }\n",
       "</style>\n",
       "<table border=\"1\" class=\"dataframe\">\n",
       "  <thead>\n",
       "    <tr style=\"text-align: right;\">\n",
       "      <th></th>\n",
       "      <th>Outcome</th>\n",
       "      <th>Estimate</th>\n",
       "      <th>MSE</th>\n",
       "    </tr>\n",
       "  </thead>\n",
       "  <tbody>\n",
       "    <tr>\n",
       "      <th>0</th>\n",
       "      <td>pcorrupt</td>\n",
       "      <td>-0.019102</td>\n",
       "      <td>0.011039</td>\n",
       "    </tr>\n",
       "    <tr>\n",
       "      <th>1</th>\n",
       "      <td>ncorrupt_os</td>\n",
       "      <td>-0.004482</td>\n",
       "      <td>0.002717</td>\n",
       "    </tr>\n",
       "    <tr>\n",
       "      <th>2</th>\n",
       "      <td>log_valor_corrupt</td>\n",
       "      <td>-0.872685</td>\n",
       "      <td>27.287176</td>\n",
       "    </tr>\n",
       "  </tbody>\n",
       "</table>\n",
       "</div>"
      ],
      "text/plain": [
       "             Outcome  Estimate        MSE\n",
       "0           pcorrupt -0.019102   0.011039\n",
       "1        ncorrupt_os -0.004482   0.002717\n",
       "2  log_valor_corrupt -0.872685  27.287176"
      ]
     },
     "execution_count": 164,
     "metadata": {},
     "output_type": "execute_result"
    }
   ],
   "source": [
    "rf_result_df_3_ho = run_dr_estimation_rf_homo(double_ml_dataset, ma_mu_pl, treatment, outcomes)\n",
    "rf_result_df_3_ho"
   ]
  },
  {
   "cell_type": "code",
   "execution_count": 165,
   "metadata": {},
   "outputs": [
    {
     "name": "stdout",
     "output_type": "stream",
     "text": [
      "Processing outcome: pcorrupt\n",
      "Processing outcome: ncorrupt_os\n",
      "Processing outcome: log_valor_corrupt\n"
     ]
    },
    {
     "data": {
      "text/html": [
       "<div>\n",
       "<style scoped>\n",
       "    .dataframe tbody tr th:only-of-type {\n",
       "        vertical-align: middle;\n",
       "    }\n",
       "\n",
       "    .dataframe tbody tr th {\n",
       "        vertical-align: top;\n",
       "    }\n",
       "\n",
       "    .dataframe thead th {\n",
       "        text-align: right;\n",
       "    }\n",
       "</style>\n",
       "<table border=\"1\" class=\"dataframe\">\n",
       "  <thead>\n",
       "    <tr style=\"text-align: right;\">\n",
       "      <th></th>\n",
       "      <th>Outcome</th>\n",
       "      <th>Estimate</th>\n",
       "      <th>MSE</th>\n",
       "    </tr>\n",
       "  </thead>\n",
       "  <tbody>\n",
       "    <tr>\n",
       "      <th>0</th>\n",
       "      <td>pcorrupt</td>\n",
       "      <td>-0.027213</td>\n",
       "      <td>0.019589</td>\n",
       "    </tr>\n",
       "    <tr>\n",
       "      <th>1</th>\n",
       "      <td>ncorrupt_os</td>\n",
       "      <td>-0.007590</td>\n",
       "      <td>0.002966</td>\n",
       "    </tr>\n",
       "    <tr>\n",
       "      <th>2</th>\n",
       "      <td>log_valor_corrupt</td>\n",
       "      <td>-0.975908</td>\n",
       "      <td>33.768337</td>\n",
       "    </tr>\n",
       "  </tbody>\n",
       "</table>\n",
       "</div>"
      ],
      "text/plain": [
       "             Outcome  Estimate        MSE\n",
       "0           pcorrupt -0.027213   0.019589\n",
       "1        ncorrupt_os -0.007590   0.002966\n",
       "2  log_valor_corrupt -0.975908  33.768337"
      ]
     },
     "execution_count": 165,
     "metadata": {},
     "output_type": "execute_result"
    }
   ],
   "source": [
    "# All Covariants (plus two dummies)\n",
    "rf_result_df_4_he = run_dr_estimation_rf(double_ml_dataset, all_covariates, treatment, outcomes)\n",
    "rf_result_df_4_he"
   ]
  },
  {
   "cell_type": "code",
   "execution_count": 166,
   "metadata": {},
   "outputs": [
    {
     "name": "stdout",
     "output_type": "stream",
     "text": [
      "Processing outcome: pcorrupt\n",
      "Processing outcome: ncorrupt_os\n",
      "Processing outcome: log_valor_corrupt\n"
     ]
    },
    {
     "data": {
      "text/html": [
       "<div>\n",
       "<style scoped>\n",
       "    .dataframe tbody tr th:only-of-type {\n",
       "        vertical-align: middle;\n",
       "    }\n",
       "\n",
       "    .dataframe tbody tr th {\n",
       "        vertical-align: top;\n",
       "    }\n",
       "\n",
       "    .dataframe thead th {\n",
       "        text-align: right;\n",
       "    }\n",
       "</style>\n",
       "<table border=\"1\" class=\"dataframe\">\n",
       "  <thead>\n",
       "    <tr style=\"text-align: right;\">\n",
       "      <th></th>\n",
       "      <th>Outcome</th>\n",
       "      <th>Estimate</th>\n",
       "      <th>MSE</th>\n",
       "    </tr>\n",
       "  </thead>\n",
       "  <tbody>\n",
       "    <tr>\n",
       "      <th>0</th>\n",
       "      <td>pcorrupt</td>\n",
       "      <td>-0.023355</td>\n",
       "      <td>0.010866</td>\n",
       "    </tr>\n",
       "    <tr>\n",
       "      <th>1</th>\n",
       "      <td>ncorrupt_os</td>\n",
       "      <td>-0.007674</td>\n",
       "      <td>0.002254</td>\n",
       "    </tr>\n",
       "    <tr>\n",
       "      <th>2</th>\n",
       "      <td>log_valor_corrupt</td>\n",
       "      <td>-0.938316</td>\n",
       "      <td>25.969169</td>\n",
       "    </tr>\n",
       "  </tbody>\n",
       "</table>\n",
       "</div>"
      ],
      "text/plain": [
       "             Outcome  Estimate        MSE\n",
       "0           pcorrupt -0.023355   0.010866\n",
       "1        ncorrupt_os -0.007674   0.002254\n",
       "2  log_valor_corrupt -0.938316  25.969169"
      ]
     },
     "execution_count": 166,
     "metadata": {},
     "output_type": "execute_result"
    }
   ],
   "source": [
    "rf_result_df_4_ho = run_dr_estimation_rf_homo(double_ml_dataset, all_covariates, treatment, outcomes)\n",
    "rf_result_df_4_ho"
   ]
  },
  {
   "cell_type": "markdown",
   "metadata": {},
   "source": [
    "### MLP: "
   ]
  },
  {
   "cell_type": "code",
   "execution_count": 167,
   "metadata": {},
   "outputs": [
    {
     "name": "stdout",
     "output_type": "stream",
     "text": [
      "Processing outcome: pcorrupt\n",
      "\u001b[1m3/3\u001b[0m \u001b[32m━━━━━━━━━━━━━━━━━━━━\u001b[0m\u001b[37m\u001b[0m \u001b[1m0s\u001b[0m 9ms/step \n",
      "\u001b[1m3/3\u001b[0m \u001b[32m━━━━━━━━━━━━━━━━━━━━\u001b[0m\u001b[37m\u001b[0m \u001b[1m0s\u001b[0m 9ms/step \n",
      "\u001b[1m3/3\u001b[0m \u001b[32m━━━━━━━━━━━━━━━━━━━━\u001b[0m\u001b[37m\u001b[0m \u001b[1m0s\u001b[0m 9ms/step \n",
      "\u001b[1m3/3\u001b[0m \u001b[32m━━━━━━━━━━━━━━━━━━━━\u001b[0m\u001b[37m\u001b[0m \u001b[1m0s\u001b[0m 9ms/step \n",
      "\u001b[1m3/3\u001b[0m \u001b[32m━━━━━━━━━━━━━━━━━━━━\u001b[0m\u001b[37m\u001b[0m \u001b[1m0s\u001b[0m 9ms/step \n",
      "\u001b[1m3/3\u001b[0m \u001b[32m━━━━━━━━━━━━━━━━━━━━\u001b[0m\u001b[37m\u001b[0m \u001b[1m0s\u001b[0m 8ms/step \n",
      "\u001b[1m3/3\u001b[0m \u001b[32m━━━━━━━━━━━━━━━━━━━━\u001b[0m\u001b[37m\u001b[0m \u001b[1m0s\u001b[0m 9ms/step \n",
      "\u001b[1m3/3\u001b[0m \u001b[32m━━━━━━━━━━━━━━━━━━━━\u001b[0m\u001b[37m\u001b[0m \u001b[1m0s\u001b[0m 9ms/step \n",
      "\u001b[1m3/3\u001b[0m \u001b[32m━━━━━━━━━━━━━━━━━━━━\u001b[0m\u001b[37m\u001b[0m \u001b[1m0s\u001b[0m 9ms/step \n",
      "\u001b[1m3/3\u001b[0m \u001b[32m━━━━━━━━━━━━━━━━━━━━\u001b[0m\u001b[37m\u001b[0m \u001b[1m0s\u001b[0m 8ms/step \n",
      "\u001b[1m3/3\u001b[0m \u001b[32m━━━━━━━━━━━━━━━━━━━━\u001b[0m\u001b[37m\u001b[0m \u001b[1m0s\u001b[0m 8ms/step \n",
      "\u001b[1m3/3\u001b[0m \u001b[32m━━━━━━━━━━━━━━━━━━━━\u001b[0m\u001b[37m\u001b[0m \u001b[1m0s\u001b[0m 9ms/step \n",
      "\u001b[1m3/3\u001b[0m \u001b[32m━━━━━━━━━━━━━━━━━━━━\u001b[0m\u001b[37m\u001b[0m \u001b[1m0s\u001b[0m 9ms/step \n",
      "\u001b[1m3/3\u001b[0m \u001b[32m━━━━━━━━━━━━━━━━━━━━\u001b[0m\u001b[37m\u001b[0m \u001b[1m0s\u001b[0m 9ms/step \n",
      "\u001b[1m3/3\u001b[0m \u001b[32m━━━━━━━━━━━━━━━━━━━━\u001b[0m\u001b[37m\u001b[0m \u001b[1m0s\u001b[0m 9ms/step \n",
      "Processing outcome: ncorrupt_os\n",
      "\u001b[1m3/3\u001b[0m \u001b[32m━━━━━━━━━━━━━━━━━━━━\u001b[0m\u001b[37m\u001b[0m \u001b[1m0s\u001b[0m 9ms/step \n",
      "\u001b[1m3/3\u001b[0m \u001b[32m━━━━━━━━━━━━━━━━━━━━\u001b[0m\u001b[37m\u001b[0m \u001b[1m0s\u001b[0m 9ms/step \n",
      "\u001b[1m3/3\u001b[0m \u001b[32m━━━━━━━━━━━━━━━━━━━━\u001b[0m\u001b[37m\u001b[0m \u001b[1m0s\u001b[0m 9ms/step \n",
      "\u001b[1m3/3\u001b[0m \u001b[32m━━━━━━━━━━━━━━━━━━━━\u001b[0m\u001b[37m\u001b[0m \u001b[1m0s\u001b[0m 9ms/step \n",
      "\u001b[1m3/3\u001b[0m \u001b[32m━━━━━━━━━━━━━━━━━━━━\u001b[0m\u001b[37m\u001b[0m \u001b[1m0s\u001b[0m 8ms/step \n",
      "\u001b[1m3/3\u001b[0m \u001b[32m━━━━━━━━━━━━━━━━━━━━\u001b[0m\u001b[37m\u001b[0m \u001b[1m0s\u001b[0m 9ms/step \n",
      "\u001b[1m3/3\u001b[0m \u001b[32m━━━━━━━━━━━━━━━━━━━━\u001b[0m\u001b[37m\u001b[0m \u001b[1m0s\u001b[0m 8ms/step \n",
      "\u001b[1m3/3\u001b[0m \u001b[32m━━━━━━━━━━━━━━━━━━━━\u001b[0m\u001b[37m\u001b[0m \u001b[1m0s\u001b[0m 9ms/step \n",
      "\u001b[1m3/3\u001b[0m \u001b[32m━━━━━━━━━━━━━━━━━━━━\u001b[0m\u001b[37m\u001b[0m \u001b[1m0s\u001b[0m 8ms/step \n",
      "\u001b[1m3/3\u001b[0m \u001b[32m━━━━━━━━━━━━━━━━━━━━\u001b[0m\u001b[37m\u001b[0m \u001b[1m0s\u001b[0m 9ms/step \n",
      "\u001b[1m3/3\u001b[0m \u001b[32m━━━━━━━━━━━━━━━━━━━━\u001b[0m\u001b[37m\u001b[0m \u001b[1m0s\u001b[0m 9ms/step \n",
      "\u001b[1m3/3\u001b[0m \u001b[32m━━━━━━━━━━━━━━━━━━━━\u001b[0m\u001b[37m\u001b[0m \u001b[1m0s\u001b[0m 40ms/step\n",
      "\u001b[1m3/3\u001b[0m \u001b[32m━━━━━━━━━━━━━━━━━━━━\u001b[0m\u001b[37m\u001b[0m \u001b[1m0s\u001b[0m 9ms/step \n",
      "\u001b[1m3/3\u001b[0m \u001b[32m━━━━━━━━━━━━━━━━━━━━\u001b[0m\u001b[37m\u001b[0m \u001b[1m0s\u001b[0m 9ms/step \n",
      "\u001b[1m3/3\u001b[0m \u001b[32m━━━━━━━━━━━━━━━━━━━━\u001b[0m\u001b[37m\u001b[0m \u001b[1m0s\u001b[0m 9ms/step \n",
      "Processing outcome: log_valor_corrupt\n",
      "\u001b[1m3/3\u001b[0m \u001b[32m━━━━━━━━━━━━━━━━━━━━\u001b[0m\u001b[37m\u001b[0m \u001b[1m0s\u001b[0m 10ms/step\n",
      "\u001b[1m3/3\u001b[0m \u001b[32m━━━━━━━━━━━━━━━━━━━━\u001b[0m\u001b[37m\u001b[0m \u001b[1m0s\u001b[0m 9ms/step \n",
      "\u001b[1m3/3\u001b[0m \u001b[32m━━━━━━━━━━━━━━━━━━━━\u001b[0m\u001b[37m\u001b[0m \u001b[1m0s\u001b[0m 9ms/step \n",
      "\u001b[1m3/3\u001b[0m \u001b[32m━━━━━━━━━━━━━━━━━━━━\u001b[0m\u001b[37m\u001b[0m \u001b[1m0s\u001b[0m 9ms/step \n",
      "\u001b[1m3/3\u001b[0m \u001b[32m━━━━━━━━━━━━━━━━━━━━\u001b[0m\u001b[37m\u001b[0m \u001b[1m0s\u001b[0m 19ms/step\n",
      "\u001b[1m3/3\u001b[0m \u001b[32m━━━━━━━━━━━━━━━━━━━━\u001b[0m\u001b[37m\u001b[0m \u001b[1m0s\u001b[0m 9ms/step \n",
      "\u001b[1m3/3\u001b[0m \u001b[32m━━━━━━━━━━━━━━━━━━━━\u001b[0m\u001b[37m\u001b[0m \u001b[1m0s\u001b[0m 9ms/step \n",
      "\u001b[1m3/3\u001b[0m \u001b[32m━━━━━━━━━━━━━━━━━━━━\u001b[0m\u001b[37m\u001b[0m \u001b[1m0s\u001b[0m 9ms/step \n",
      "\u001b[1m3/3\u001b[0m \u001b[32m━━━━━━━━━━━━━━━━━━━━\u001b[0m\u001b[37m\u001b[0m \u001b[1m0s\u001b[0m 9ms/step \n",
      "\u001b[1m3/3\u001b[0m \u001b[32m━━━━━━━━━━━━━━━━━━━━\u001b[0m\u001b[37m\u001b[0m \u001b[1m0s\u001b[0m 9ms/step \n",
      "\u001b[1m3/3\u001b[0m \u001b[32m━━━━━━━━━━━━━━━━━━━━\u001b[0m\u001b[37m\u001b[0m \u001b[1m0s\u001b[0m 8ms/step \n",
      "\u001b[1m3/3\u001b[0m \u001b[32m━━━━━━━━━━━━━━━━━━━━\u001b[0m\u001b[37m\u001b[0m \u001b[1m0s\u001b[0m 9ms/step \n",
      "\u001b[1m3/3\u001b[0m \u001b[32m━━━━━━━━━━━━━━━━━━━━\u001b[0m\u001b[37m\u001b[0m \u001b[1m0s\u001b[0m 9ms/step \n",
      "\u001b[1m3/3\u001b[0m \u001b[32m━━━━━━━━━━━━━━━━━━━━\u001b[0m\u001b[37m\u001b[0m \u001b[1m0s\u001b[0m 8ms/step \n",
      "\u001b[1m3/3\u001b[0m \u001b[32m━━━━━━━━━━━━━━━━━━━━\u001b[0m\u001b[37m\u001b[0m \u001b[1m0s\u001b[0m 9ms/step \n"
     ]
    },
    {
     "data": {
      "text/html": [
       "<div>\n",
       "<style scoped>\n",
       "    .dataframe tbody tr th:only-of-type {\n",
       "        vertical-align: middle;\n",
       "    }\n",
       "\n",
       "    .dataframe tbody tr th {\n",
       "        vertical-align: top;\n",
       "    }\n",
       "\n",
       "    .dataframe thead th {\n",
       "        text-align: right;\n",
       "    }\n",
       "</style>\n",
       "<table border=\"1\" class=\"dataframe\">\n",
       "  <thead>\n",
       "    <tr style=\"text-align: right;\">\n",
       "      <th></th>\n",
       "      <th>Outcome</th>\n",
       "      <th>Estimate</th>\n",
       "      <th>MSE</th>\n",
       "    </tr>\n",
       "  </thead>\n",
       "  <tbody>\n",
       "    <tr>\n",
       "      <th>0</th>\n",
       "      <td>pcorrupt</td>\n",
       "      <td>-0.070568</td>\n",
       "      <td>0.489341</td>\n",
       "    </tr>\n",
       "    <tr>\n",
       "      <th>1</th>\n",
       "      <td>ncorrupt_os</td>\n",
       "      <td>0.025076</td>\n",
       "      <td>0.413284</td>\n",
       "    </tr>\n",
       "    <tr>\n",
       "      <th>2</th>\n",
       "      <td>log_valor_corrupt</td>\n",
       "      <td>-1.023083</td>\n",
       "      <td>105.423218</td>\n",
       "    </tr>\n",
       "  </tbody>\n",
       "</table>\n",
       "</div>"
      ],
      "text/plain": [
       "             Outcome  Estimate         MSE\n",
       "0           pcorrupt -0.070568    0.489341\n",
       "1        ncorrupt_os  0.025076    0.413284\n",
       "2  log_valor_corrupt -1.023083  105.423218"
      ]
     },
     "execution_count": 167,
     "metadata": {},
     "output_type": "execute_result"
    }
   ],
   "source": [
    "# Only mayor_covariates:\n",
    "mlp_result_df_1_he = run_double_ml_mlp(double_ml_dataset, mayor_covariates, outcomes)\n",
    "mlp_result_df_1_he"
   ]
  },
  {
   "cell_type": "code",
   "execution_count": 168,
   "metadata": {},
   "outputs": [
    {
     "name": "stdout",
     "output_type": "stream",
     "text": [
      "Processing outcome: pcorrupt\n",
      "\u001b[1m3/3\u001b[0m \u001b[32m━━━━━━━━━━━━━━━━━━━━\u001b[0m\u001b[37m\u001b[0m \u001b[1m0s\u001b[0m 9ms/step \n",
      "\u001b[1m3/3\u001b[0m \u001b[32m━━━━━━━━━━━━━━━━━━━━\u001b[0m\u001b[37m\u001b[0m \u001b[1m0s\u001b[0m 9ms/step \n",
      "\u001b[1m3/3\u001b[0m \u001b[32m━━━━━━━━━━━━━━━━━━━━\u001b[0m\u001b[37m\u001b[0m \u001b[1m0s\u001b[0m 9ms/step \n",
      "\u001b[1m3/3\u001b[0m \u001b[32m━━━━━━━━━━━━━━━━━━━━\u001b[0m\u001b[37m\u001b[0m \u001b[1m0s\u001b[0m 9ms/step \n",
      "\u001b[1m3/3\u001b[0m \u001b[32m━━━━━━━━━━━━━━━━━━━━\u001b[0m\u001b[37m\u001b[0m \u001b[1m0s\u001b[0m 9ms/step \n",
      "\u001b[1m3/3\u001b[0m \u001b[32m━━━━━━━━━━━━━━━━━━━━\u001b[0m\u001b[37m\u001b[0m \u001b[1m0s\u001b[0m 12ms/step\n",
      "\u001b[1m3/3\u001b[0m \u001b[32m━━━━━━━━━━━━━━━━━━━━\u001b[0m\u001b[37m\u001b[0m \u001b[1m0s\u001b[0m 10ms/step\n",
      "\u001b[1m3/3\u001b[0m \u001b[32m━━━━━━━━━━━━━━━━━━━━\u001b[0m\u001b[37m\u001b[0m \u001b[1m0s\u001b[0m 10ms/step\n",
      "\u001b[1m3/3\u001b[0m \u001b[32m━━━━━━━━━━━━━━━━━━━━\u001b[0m\u001b[37m\u001b[0m \u001b[1m0s\u001b[0m 9ms/step \n",
      "\u001b[1m3/3\u001b[0m \u001b[32m━━━━━━━━━━━━━━━━━━━━\u001b[0m\u001b[37m\u001b[0m \u001b[1m0s\u001b[0m 10ms/step\n",
      "Processing outcome: ncorrupt_os\n",
      "\u001b[1m3/3\u001b[0m \u001b[32m━━━━━━━━━━━━━━━━━━━━\u001b[0m\u001b[37m\u001b[0m \u001b[1m0s\u001b[0m 9ms/step \n",
      "\u001b[1m3/3\u001b[0m \u001b[32m━━━━━━━━━━━━━━━━━━━━\u001b[0m\u001b[37m\u001b[0m \u001b[1m0s\u001b[0m 9ms/step \n",
      "\u001b[1m3/3\u001b[0m \u001b[32m━━━━━━━━━━━━━━━━━━━━\u001b[0m\u001b[37m\u001b[0m \u001b[1m0s\u001b[0m 9ms/step \n",
      "\u001b[1m3/3\u001b[0m \u001b[32m━━━━━━━━━━━━━━━━━━━━\u001b[0m\u001b[37m\u001b[0m \u001b[1m0s\u001b[0m 8ms/step \n",
      "\u001b[1m3/3\u001b[0m \u001b[32m━━━━━━━━━━━━━━━━━━━━\u001b[0m\u001b[37m\u001b[0m \u001b[1m0s\u001b[0m 8ms/step \n",
      "\u001b[1m3/3\u001b[0m \u001b[32m━━━━━━━━━━━━━━━━━━━━\u001b[0m\u001b[37m\u001b[0m \u001b[1m0s\u001b[0m 9ms/step \n",
      "\u001b[1m3/3\u001b[0m \u001b[32m━━━━━━━━━━━━━━━━━━━━\u001b[0m\u001b[37m\u001b[0m \u001b[1m0s\u001b[0m 9ms/step \n",
      "\u001b[1m3/3\u001b[0m \u001b[32m━━━━━━━━━━━━━━━━━━━━\u001b[0m\u001b[37m\u001b[0m \u001b[1m0s\u001b[0m 10ms/step\n",
      "\u001b[1m3/3\u001b[0m \u001b[32m━━━━━━━━━━━━━━━━━━━━\u001b[0m\u001b[37m\u001b[0m \u001b[1m0s\u001b[0m 17ms/step\n",
      "\u001b[1m3/3\u001b[0m \u001b[32m━━━━━━━━━━━━━━━━━━━━\u001b[0m\u001b[37m\u001b[0m \u001b[1m0s\u001b[0m 9ms/step \n",
      "Processing outcome: log_valor_corrupt\n",
      "\u001b[1m3/3\u001b[0m \u001b[32m━━━━━━━━━━━━━━━━━━━━\u001b[0m\u001b[37m\u001b[0m \u001b[1m0s\u001b[0m 8ms/step \n",
      "\u001b[1m3/3\u001b[0m \u001b[32m━━━━━━━━━━━━━━━━━━━━\u001b[0m\u001b[37m\u001b[0m \u001b[1m0s\u001b[0m 9ms/step \n",
      "\u001b[1m3/3\u001b[0m \u001b[32m━━━━━━━━━━━━━━━━━━━━\u001b[0m\u001b[37m\u001b[0m \u001b[1m0s\u001b[0m 9ms/step \n",
      "\u001b[1m3/3\u001b[0m \u001b[32m━━━━━━━━━━━━━━━━━━━━\u001b[0m\u001b[37m\u001b[0m \u001b[1m0s\u001b[0m 9ms/step \n",
      "\u001b[1m3/3\u001b[0m \u001b[32m━━━━━━━━━━━━━━━━━━━━\u001b[0m\u001b[37m\u001b[0m \u001b[1m0s\u001b[0m 9ms/step \n",
      "\u001b[1m3/3\u001b[0m \u001b[32m━━━━━━━━━━━━━━━━━━━━\u001b[0m\u001b[37m\u001b[0m \u001b[1m0s\u001b[0m 9ms/step \n",
      "\u001b[1m3/3\u001b[0m \u001b[32m━━━━━━━━━━━━━━━━━━━━\u001b[0m\u001b[37m\u001b[0m \u001b[1m0s\u001b[0m 9ms/step \n",
      "\u001b[1m3/3\u001b[0m \u001b[32m━━━━━━━━━━━━━━━━━━━━\u001b[0m\u001b[37m\u001b[0m \u001b[1m0s\u001b[0m 9ms/step \n",
      "\u001b[1m3/3\u001b[0m \u001b[32m━━━━━━━━━━━━━━━━━━━━\u001b[0m\u001b[37m\u001b[0m \u001b[1m0s\u001b[0m 8ms/step \n",
      "\u001b[1m3/3\u001b[0m \u001b[32m━━━━━━━━━━━━━━━━━━━━\u001b[0m\u001b[37m\u001b[0m \u001b[1m0s\u001b[0m 9ms/step \n"
     ]
    },
    {
     "data": {
      "text/html": [
       "<div>\n",
       "<style scoped>\n",
       "    .dataframe tbody tr th:only-of-type {\n",
       "        vertical-align: middle;\n",
       "    }\n",
       "\n",
       "    .dataframe tbody tr th {\n",
       "        vertical-align: top;\n",
       "    }\n",
       "\n",
       "    .dataframe thead th {\n",
       "        text-align: right;\n",
       "    }\n",
       "</style>\n",
       "<table border=\"1\" class=\"dataframe\">\n",
       "  <thead>\n",
       "    <tr style=\"text-align: right;\">\n",
       "      <th></th>\n",
       "      <th>Outcome</th>\n",
       "      <th>Estimate</th>\n",
       "      <th>MSE</th>\n",
       "    </tr>\n",
       "  </thead>\n",
       "  <tbody>\n",
       "    <tr>\n",
       "      <th>0</th>\n",
       "      <td>pcorrupt</td>\n",
       "      <td>-0.031959</td>\n",
       "      <td>0.017039</td>\n",
       "    </tr>\n",
       "    <tr>\n",
       "      <th>1</th>\n",
       "      <td>ncorrupt_os</td>\n",
       "      <td>-0.012347</td>\n",
       "      <td>0.009806</td>\n",
       "    </tr>\n",
       "    <tr>\n",
       "      <th>2</th>\n",
       "      <td>log_valor_corrupt</td>\n",
       "      <td>-1.001793</td>\n",
       "      <td>33.150330</td>\n",
       "    </tr>\n",
       "  </tbody>\n",
       "</table>\n",
       "</div>"
      ],
      "text/plain": [
       "             Outcome  Estimate        MSE\n",
       "0           pcorrupt -0.031959   0.017039\n",
       "1        ncorrupt_os -0.012347   0.009806\n",
       "2  log_valor_corrupt -1.001793  33.150330"
      ]
     },
     "execution_count": 168,
     "metadata": {},
     "output_type": "execute_result"
    }
   ],
   "source": [
    "mlp_result_df_1_ho = run_double_ml_mlp_homogeneous(double_ml_dataset, mayor_covariates, treatment, outcomes)\n",
    "mlp_result_df_1_ho"
   ]
  },
  {
   "cell_type": "code",
   "execution_count": 169,
   "metadata": {},
   "outputs": [
    {
     "name": "stdout",
     "output_type": "stream",
     "text": [
      "Processing outcome: pcorrupt\n",
      "\u001b[1m3/3\u001b[0m \u001b[32m━━━━━━━━━━━━━━━━━━━━\u001b[0m\u001b[37m\u001b[0m \u001b[1m0s\u001b[0m 9ms/step \n",
      "\u001b[1m3/3\u001b[0m \u001b[32m━━━━━━━━━━━━━━━━━━━━\u001b[0m\u001b[37m\u001b[0m \u001b[1m0s\u001b[0m 8ms/step \n",
      "\u001b[1m3/3\u001b[0m \u001b[32m━━━━━━━━━━━━━━━━━━━━\u001b[0m\u001b[37m\u001b[0m \u001b[1m0s\u001b[0m 9ms/step \n",
      "\u001b[1m3/3\u001b[0m \u001b[32m━━━━━━━━━━━━━━━━━━━━\u001b[0m\u001b[37m\u001b[0m \u001b[1m0s\u001b[0m 9ms/step \n",
      "\u001b[1m3/3\u001b[0m \u001b[32m━━━━━━━━━━━━━━━━━━━━\u001b[0m\u001b[37m\u001b[0m \u001b[1m0s\u001b[0m 9ms/step \n",
      "\u001b[1m3/3\u001b[0m \u001b[32m━━━━━━━━━━━━━━━━━━━━\u001b[0m\u001b[37m\u001b[0m \u001b[1m0s\u001b[0m 9ms/step \n",
      "\u001b[1m3/3\u001b[0m \u001b[32m━━━━━━━━━━━━━━━━━━━━\u001b[0m\u001b[37m\u001b[0m \u001b[1m0s\u001b[0m 11ms/step\n",
      "\u001b[1m3/3\u001b[0m \u001b[32m━━━━━━━━━━━━━━━━━━━━\u001b[0m\u001b[37m\u001b[0m \u001b[1m0s\u001b[0m 9ms/step \n",
      "\u001b[1m3/3\u001b[0m \u001b[32m━━━━━━━━━━━━━━━━━━━━\u001b[0m\u001b[37m\u001b[0m \u001b[1m0s\u001b[0m 9ms/step \n",
      "\u001b[1m3/3\u001b[0m \u001b[32m━━━━━━━━━━━━━━━━━━━━\u001b[0m\u001b[37m\u001b[0m \u001b[1m0s\u001b[0m 9ms/step \n",
      "\u001b[1m3/3\u001b[0m \u001b[32m━━━━━━━━━━━━━━━━━━━━\u001b[0m\u001b[37m\u001b[0m \u001b[1m0s\u001b[0m 9ms/step \n",
      "\u001b[1m3/3\u001b[0m \u001b[32m━━━━━━━━━━━━━━━━━━━━\u001b[0m\u001b[37m\u001b[0m \u001b[1m0s\u001b[0m 9ms/step \n",
      "\u001b[1m3/3\u001b[0m \u001b[32m━━━━━━━━━━━━━━━━━━━━\u001b[0m\u001b[37m\u001b[0m \u001b[1m0s\u001b[0m 9ms/step \n",
      "\u001b[1m3/3\u001b[0m \u001b[32m━━━━━━━━━━━━━━━━━━━━\u001b[0m\u001b[37m\u001b[0m \u001b[1m0s\u001b[0m 8ms/step \n",
      "\u001b[1m3/3\u001b[0m \u001b[32m━━━━━━━━━━━━━━━━━━━━\u001b[0m\u001b[37m\u001b[0m \u001b[1m0s\u001b[0m 8ms/step \n",
      "Processing outcome: ncorrupt_os\n",
      "\u001b[1m3/3\u001b[0m \u001b[32m━━━━━━━━━━━━━━━━━━━━\u001b[0m\u001b[37m\u001b[0m \u001b[1m0s\u001b[0m 9ms/step \n",
      "\u001b[1m3/3\u001b[0m \u001b[32m━━━━━━━━━━━━━━━━━━━━\u001b[0m\u001b[37m\u001b[0m \u001b[1m0s\u001b[0m 10ms/step\n",
      "\u001b[1m3/3\u001b[0m \u001b[32m━━━━━━━━━━━━━━━━━━━━\u001b[0m\u001b[37m\u001b[0m \u001b[1m0s\u001b[0m 9ms/step \n",
      "\u001b[1m3/3\u001b[0m \u001b[32m━━━━━━━━━━━━━━━━━━━━\u001b[0m\u001b[37m\u001b[0m \u001b[1m0s\u001b[0m 9ms/step \n",
      "\u001b[1m3/3\u001b[0m \u001b[32m━━━━━━━━━━━━━━━━━━━━\u001b[0m\u001b[37m\u001b[0m \u001b[1m0s\u001b[0m 8ms/step \n",
      "\u001b[1m3/3\u001b[0m \u001b[32m━━━━━━━━━━━━━━━━━━━━\u001b[0m\u001b[37m\u001b[0m \u001b[1m0s\u001b[0m 9ms/step \n",
      "\u001b[1m3/3\u001b[0m \u001b[32m━━━━━━━━━━━━━━━━━━━━\u001b[0m\u001b[37m\u001b[0m \u001b[1m0s\u001b[0m 9ms/step \n",
      "\u001b[1m3/3\u001b[0m \u001b[32m━━━━━━━━━━━━━━━━━━━━\u001b[0m\u001b[37m\u001b[0m \u001b[1m0s\u001b[0m 9ms/step \n",
      "\u001b[1m3/3\u001b[0m \u001b[32m━━━━━━━━━━━━━━━━━━━━\u001b[0m\u001b[37m\u001b[0m \u001b[1m0s\u001b[0m 8ms/step \n",
      "\u001b[1m3/3\u001b[0m \u001b[32m━━━━━━━━━━━━━━━━━━━━\u001b[0m\u001b[37m\u001b[0m \u001b[1m0s\u001b[0m 11ms/step\n",
      "\u001b[1m3/3\u001b[0m \u001b[32m━━━━━━━━━━━━━━━━━━━━\u001b[0m\u001b[37m\u001b[0m \u001b[1m0s\u001b[0m 9ms/step \n",
      "\u001b[1m3/3\u001b[0m \u001b[32m━━━━━━━━━━━━━━━━━━━━\u001b[0m\u001b[37m\u001b[0m \u001b[1m0s\u001b[0m 8ms/step \n",
      "\u001b[1m3/3\u001b[0m \u001b[32m━━━━━━━━━━━━━━━━━━━━\u001b[0m\u001b[37m\u001b[0m \u001b[1m0s\u001b[0m 10ms/step\n",
      "\u001b[1m3/3\u001b[0m \u001b[32m━━━━━━━━━━━━━━━━━━━━\u001b[0m\u001b[37m\u001b[0m \u001b[1m0s\u001b[0m 9ms/step \n",
      "\u001b[1m3/3\u001b[0m \u001b[32m━━━━━━━━━━━━━━━━━━━━\u001b[0m\u001b[37m\u001b[0m \u001b[1m0s\u001b[0m 9ms/step \n",
      "Processing outcome: log_valor_corrupt\n",
      "\u001b[1m3/3\u001b[0m \u001b[32m━━━━━━━━━━━━━━━━━━━━\u001b[0m\u001b[37m\u001b[0m \u001b[1m0s\u001b[0m 9ms/step \n",
      "\u001b[1m3/3\u001b[0m \u001b[32m━━━━━━━━━━━━━━━━━━━━\u001b[0m\u001b[37m\u001b[0m \u001b[1m0s\u001b[0m 9ms/step \n",
      "\u001b[1m3/3\u001b[0m \u001b[32m━━━━━━━━━━━━━━━━━━━━\u001b[0m\u001b[37m\u001b[0m \u001b[1m0s\u001b[0m 9ms/step \n",
      "\u001b[1m3/3\u001b[0m \u001b[32m━━━━━━━━━━━━━━━━━━━━\u001b[0m\u001b[37m\u001b[0m \u001b[1m0s\u001b[0m 9ms/step \n",
      "\u001b[1m3/3\u001b[0m \u001b[32m━━━━━━━━━━━━━━━━━━━━\u001b[0m\u001b[37m\u001b[0m \u001b[1m0s\u001b[0m 9ms/step \n",
      "\u001b[1m3/3\u001b[0m \u001b[32m━━━━━━━━━━━━━━━━━━━━\u001b[0m\u001b[37m\u001b[0m \u001b[1m0s\u001b[0m 9ms/step \n",
      "\u001b[1m3/3\u001b[0m \u001b[32m━━━━━━━━━━━━━━━━━━━━\u001b[0m\u001b[37m\u001b[0m \u001b[1m0s\u001b[0m 8ms/step \n",
      "\u001b[1m3/3\u001b[0m \u001b[32m━━━━━━━━━━━━━━━━━━━━\u001b[0m\u001b[37m\u001b[0m \u001b[1m0s\u001b[0m 9ms/step \n",
      "\u001b[1m3/3\u001b[0m \u001b[32m━━━━━━━━━━━━━━━━━━━━\u001b[0m\u001b[37m\u001b[0m \u001b[1m0s\u001b[0m 9ms/step \n",
      "\u001b[1m3/3\u001b[0m \u001b[32m━━━━━━━━━━━━━━━━━━━━\u001b[0m\u001b[37m\u001b[0m \u001b[1m0s\u001b[0m 9ms/step \n",
      "\u001b[1m3/3\u001b[0m \u001b[32m━━━━━━━━━━━━━━━━━━━━\u001b[0m\u001b[37m\u001b[0m \u001b[1m0s\u001b[0m 9ms/step \n",
      "\u001b[1m3/3\u001b[0m \u001b[32m━━━━━━━━━━━━━━━━━━━━\u001b[0m\u001b[37m\u001b[0m \u001b[1m0s\u001b[0m 9ms/step \n",
      "\u001b[1m3/3\u001b[0m \u001b[32m━━━━━━━━━━━━━━━━━━━━\u001b[0m\u001b[37m\u001b[0m \u001b[1m0s\u001b[0m 9ms/step \n",
      "\u001b[1m3/3\u001b[0m \u001b[32m━━━━━━━━━━━━━━━━━━━━\u001b[0m\u001b[37m\u001b[0m \u001b[1m0s\u001b[0m 9ms/step \n",
      "\u001b[1m3/3\u001b[0m \u001b[32m━━━━━━━━━━━━━━━━━━━━\u001b[0m\u001b[37m\u001b[0m \u001b[1m0s\u001b[0m 9ms/step \n"
     ]
    },
    {
     "data": {
      "text/html": [
       "<div>\n",
       "<style scoped>\n",
       "    .dataframe tbody tr th:only-of-type {\n",
       "        vertical-align: middle;\n",
       "    }\n",
       "\n",
       "    .dataframe tbody tr th {\n",
       "        vertical-align: top;\n",
       "    }\n",
       "\n",
       "    .dataframe thead th {\n",
       "        text-align: right;\n",
       "    }\n",
       "</style>\n",
       "<table border=\"1\" class=\"dataframe\">\n",
       "  <thead>\n",
       "    <tr style=\"text-align: right;\">\n",
       "      <th></th>\n",
       "      <th>Outcome</th>\n",
       "      <th>Estimate</th>\n",
       "      <th>MSE</th>\n",
       "    </tr>\n",
       "  </thead>\n",
       "  <tbody>\n",
       "    <tr>\n",
       "      <th>0</th>\n",
       "      <td>pcorrupt</td>\n",
       "      <td>-0.012248</td>\n",
       "      <td>0.190388</td>\n",
       "    </tr>\n",
       "    <tr>\n",
       "      <th>1</th>\n",
       "      <td>ncorrupt_os</td>\n",
       "      <td>-0.010301</td>\n",
       "      <td>0.042480</td>\n",
       "    </tr>\n",
       "    <tr>\n",
       "      <th>2</th>\n",
       "      <td>log_valor_corrupt</td>\n",
       "      <td>0.489262</td>\n",
       "      <td>908.862427</td>\n",
       "    </tr>\n",
       "  </tbody>\n",
       "</table>\n",
       "</div>"
      ],
      "text/plain": [
       "             Outcome  Estimate         MSE\n",
       "0           pcorrupt -0.012248    0.190388\n",
       "1        ncorrupt_os -0.010301    0.042480\n",
       "2  log_valor_corrupt  0.489262  908.862427"
      ]
     },
     "execution_count": 169,
     "metadata": {},
     "output_type": "execute_result"
    }
   ],
   "source": [
    "# mayor_covariates + municipal_covariates\n",
    "mlp_result_df_2_he = run_double_ml_mlp(double_ml_dataset, ma_mu, outcomes)\n",
    "mlp_result_df_2_he"
   ]
  },
  {
   "cell_type": "code",
   "execution_count": 170,
   "metadata": {},
   "outputs": [
    {
     "name": "stdout",
     "output_type": "stream",
     "text": [
      "Processing outcome: pcorrupt\n",
      "\u001b[1m3/3\u001b[0m \u001b[32m━━━━━━━━━━━━━━━━━━━━\u001b[0m\u001b[37m\u001b[0m \u001b[1m0s\u001b[0m 9ms/step \n",
      "\u001b[1m3/3\u001b[0m \u001b[32m━━━━━━━━━━━━━━━━━━━━\u001b[0m\u001b[37m\u001b[0m \u001b[1m0s\u001b[0m 9ms/step \n",
      "\u001b[1m3/3\u001b[0m \u001b[32m━━━━━━━━━━━━━━━━━━━━\u001b[0m\u001b[37m\u001b[0m \u001b[1m0s\u001b[0m 9ms/step \n",
      "\u001b[1m3/3\u001b[0m \u001b[32m━━━━━━━━━━━━━━━━━━━━\u001b[0m\u001b[37m\u001b[0m \u001b[1m0s\u001b[0m 11ms/step\n",
      "\u001b[1m3/3\u001b[0m \u001b[32m━━━━━━━━━━━━━━━━━━━━\u001b[0m\u001b[37m\u001b[0m \u001b[1m0s\u001b[0m 9ms/step \n",
      "\u001b[1m3/3\u001b[0m \u001b[32m━━━━━━━━━━━━━━━━━━━━\u001b[0m\u001b[37m\u001b[0m \u001b[1m0s\u001b[0m 9ms/step \n",
      "\u001b[1m3/3\u001b[0m \u001b[32m━━━━━━━━━━━━━━━━━━━━\u001b[0m\u001b[37m\u001b[0m \u001b[1m0s\u001b[0m 9ms/step \n",
      "\u001b[1m3/3\u001b[0m \u001b[32m━━━━━━━━━━━━━━━━━━━━\u001b[0m\u001b[37m\u001b[0m \u001b[1m0s\u001b[0m 9ms/step \n",
      "\u001b[1m3/3\u001b[0m \u001b[32m━━━━━━━━━━━━━━━━━━━━\u001b[0m\u001b[37m\u001b[0m \u001b[1m0s\u001b[0m 9ms/step \n",
      "\u001b[1m3/3\u001b[0m \u001b[32m━━━━━━━━━━━━━━━━━━━━\u001b[0m\u001b[37m\u001b[0m \u001b[1m0s\u001b[0m 10ms/step\n",
      "Processing outcome: ncorrupt_os\n",
      "\u001b[1m3/3\u001b[0m \u001b[32m━━━━━━━━━━━━━━━━━━━━\u001b[0m\u001b[37m\u001b[0m \u001b[1m0s\u001b[0m 11ms/step\n",
      "\u001b[1m3/3\u001b[0m \u001b[32m━━━━━━━━━━━━━━━━━━━━\u001b[0m\u001b[37m\u001b[0m \u001b[1m0s\u001b[0m 9ms/step \n",
      "\u001b[1m3/3\u001b[0m \u001b[32m━━━━━━━━━━━━━━━━━━━━\u001b[0m\u001b[37m\u001b[0m \u001b[1m0s\u001b[0m 9ms/step \n",
      "\u001b[1m3/3\u001b[0m \u001b[32m━━━━━━━━━━━━━━━━━━━━\u001b[0m\u001b[37m\u001b[0m \u001b[1m0s\u001b[0m 10ms/step\n",
      "\u001b[1m3/3\u001b[0m \u001b[32m━━━━━━━━━━━━━━━━━━━━\u001b[0m\u001b[37m\u001b[0m \u001b[1m0s\u001b[0m 11ms/step\n",
      "\u001b[1m3/3\u001b[0m \u001b[32m━━━━━━━━━━━━━━━━━━━━\u001b[0m\u001b[37m\u001b[0m \u001b[1m0s\u001b[0m 9ms/step \n",
      "\u001b[1m3/3\u001b[0m \u001b[32m━━━━━━━━━━━━━━━━━━━━\u001b[0m\u001b[37m\u001b[0m \u001b[1m0s\u001b[0m 9ms/step \n",
      "\u001b[1m3/3\u001b[0m \u001b[32m━━━━━━━━━━━━━━━━━━━━\u001b[0m\u001b[37m\u001b[0m \u001b[1m0s\u001b[0m 9ms/step \n",
      "\u001b[1m3/3\u001b[0m \u001b[32m━━━━━━━━━━━━━━━━━━━━\u001b[0m\u001b[37m\u001b[0m \u001b[1m0s\u001b[0m 9ms/step \n",
      "\u001b[1m3/3\u001b[0m \u001b[32m━━━━━━━━━━━━━━━━━━━━\u001b[0m\u001b[37m\u001b[0m \u001b[1m0s\u001b[0m 9ms/step \n",
      "Processing outcome: log_valor_corrupt\n",
      "\u001b[1m3/3\u001b[0m \u001b[32m━━━━━━━━━━━━━━━━━━━━\u001b[0m\u001b[37m\u001b[0m \u001b[1m0s\u001b[0m 8ms/step \n",
      "\u001b[1m3/3\u001b[0m \u001b[32m━━━━━━━━━━━━━━━━━━━━\u001b[0m\u001b[37m\u001b[0m \u001b[1m0s\u001b[0m 9ms/step \n",
      "\u001b[1m3/3\u001b[0m \u001b[32m━━━━━━━━━━━━━━━━━━━━\u001b[0m\u001b[37m\u001b[0m \u001b[1m0s\u001b[0m 8ms/step \n",
      "\u001b[1m3/3\u001b[0m \u001b[32m━━━━━━━━━━━━━━━━━━━━\u001b[0m\u001b[37m\u001b[0m \u001b[1m0s\u001b[0m 9ms/step \n",
      "\u001b[1m3/3\u001b[0m \u001b[32m━━━━━━━━━━━━━━━━━━━━\u001b[0m\u001b[37m\u001b[0m \u001b[1m0s\u001b[0m 13ms/step\n",
      "\u001b[1m3/3\u001b[0m \u001b[32m━━━━━━━━━━━━━━━━━━━━\u001b[0m\u001b[37m\u001b[0m \u001b[1m0s\u001b[0m 10ms/step\n",
      "\u001b[1m3/3\u001b[0m \u001b[32m━━━━━━━━━━━━━━━━━━━━\u001b[0m\u001b[37m\u001b[0m \u001b[1m0s\u001b[0m 10ms/step\n",
      "\u001b[1m3/3\u001b[0m \u001b[32m━━━━━━━━━━━━━━━━━━━━\u001b[0m\u001b[37m\u001b[0m \u001b[1m0s\u001b[0m 10ms/step\n",
      "\u001b[1m3/3\u001b[0m \u001b[32m━━━━━━━━━━━━━━━━━━━━\u001b[0m\u001b[37m\u001b[0m \u001b[1m0s\u001b[0m 9ms/step \n",
      "\u001b[1m3/3\u001b[0m \u001b[32m━━━━━━━━━━━━━━━━━━━━\u001b[0m\u001b[37m\u001b[0m \u001b[1m0s\u001b[0m 10ms/step\n"
     ]
    },
    {
     "data": {
      "text/html": [
       "<div>\n",
       "<style scoped>\n",
       "    .dataframe tbody tr th:only-of-type {\n",
       "        vertical-align: middle;\n",
       "    }\n",
       "\n",
       "    .dataframe tbody tr th {\n",
       "        vertical-align: top;\n",
       "    }\n",
       "\n",
       "    .dataframe thead th {\n",
       "        text-align: right;\n",
       "    }\n",
       "</style>\n",
       "<table border=\"1\" class=\"dataframe\">\n",
       "  <thead>\n",
       "    <tr style=\"text-align: right;\">\n",
       "      <th></th>\n",
       "      <th>Outcome</th>\n",
       "      <th>Estimate</th>\n",
       "      <th>MSE</th>\n",
       "    </tr>\n",
       "  </thead>\n",
       "  <tbody>\n",
       "    <tr>\n",
       "      <th>0</th>\n",
       "      <td>pcorrupt</td>\n",
       "      <td>-0.009896</td>\n",
       "      <td>0.025246</td>\n",
       "    </tr>\n",
       "    <tr>\n",
       "      <th>1</th>\n",
       "      <td>ncorrupt_os</td>\n",
       "      <td>-0.018507</td>\n",
       "      <td>0.014310</td>\n",
       "    </tr>\n",
       "    <tr>\n",
       "      <th>2</th>\n",
       "      <td>log_valor_corrupt</td>\n",
       "      <td>-0.668360</td>\n",
       "      <td>28.804699</td>\n",
       "    </tr>\n",
       "  </tbody>\n",
       "</table>\n",
       "</div>"
      ],
      "text/plain": [
       "             Outcome  Estimate        MSE\n",
       "0           pcorrupt -0.009896   0.025246\n",
       "1        ncorrupt_os -0.018507   0.014310\n",
       "2  log_valor_corrupt -0.668360  28.804699"
      ]
     },
     "execution_count": 170,
     "metadata": {},
     "output_type": "execute_result"
    }
   ],
   "source": [
    "mlp_result_df_2_ho = run_double_ml_mlp_homogeneous(double_ml_dataset, ma_mu, treatment,outcomes)\n",
    "mlp_result_df_2_ho"
   ]
  },
  {
   "cell_type": "code",
   "execution_count": 171,
   "metadata": {},
   "outputs": [
    {
     "name": "stdout",
     "output_type": "stream",
     "text": [
      "Processing outcome: pcorrupt\n",
      "\u001b[1m3/3\u001b[0m \u001b[32m━━━━━━━━━━━━━━━━━━━━\u001b[0m\u001b[37m\u001b[0m \u001b[1m0s\u001b[0m 9ms/step \n",
      "\u001b[1m3/3\u001b[0m \u001b[32m━━━━━━━━━━━━━━━━━━━━\u001b[0m\u001b[37m\u001b[0m \u001b[1m0s\u001b[0m 9ms/step \n",
      "\u001b[1m3/3\u001b[0m \u001b[32m━━━━━━━━━━━━━━━━━━━━\u001b[0m\u001b[37m\u001b[0m \u001b[1m0s\u001b[0m 10ms/step\n",
      "\u001b[1m3/3\u001b[0m \u001b[32m━━━━━━━━━━━━━━━━━━━━\u001b[0m\u001b[37m\u001b[0m \u001b[1m0s\u001b[0m 10ms/step\n",
      "\u001b[1m3/3\u001b[0m \u001b[32m━━━━━━━━━━━━━━━━━━━━\u001b[0m\u001b[37m\u001b[0m \u001b[1m0s\u001b[0m 9ms/step \n",
      "\u001b[1m3/3\u001b[0m \u001b[32m━━━━━━━━━━━━━━━━━━━━\u001b[0m\u001b[37m\u001b[0m \u001b[1m0s\u001b[0m 10ms/step\n",
      "\u001b[1m3/3\u001b[0m \u001b[32m━━━━━━━━━━━━━━━━━━━━\u001b[0m\u001b[37m\u001b[0m \u001b[1m0s\u001b[0m 9ms/step \n",
      "\u001b[1m3/3\u001b[0m \u001b[32m━━━━━━━━━━━━━━━━━━━━\u001b[0m\u001b[37m\u001b[0m \u001b[1m0s\u001b[0m 9ms/step \n",
      "\u001b[1m3/3\u001b[0m \u001b[32m━━━━━━━━━━━━━━━━━━━━\u001b[0m\u001b[37m\u001b[0m \u001b[1m0s\u001b[0m 9ms/step \n",
      "\u001b[1m3/3\u001b[0m \u001b[32m━━━━━━━━━━━━━━━━━━━━\u001b[0m\u001b[37m\u001b[0m \u001b[1m0s\u001b[0m 9ms/step \n",
      "\u001b[1m3/3\u001b[0m \u001b[32m━━━━━━━━━━━━━━━━━━━━\u001b[0m\u001b[37m\u001b[0m \u001b[1m0s\u001b[0m 11ms/step\n",
      "\u001b[1m3/3\u001b[0m \u001b[32m━━━━━━━━━━━━━━━━━━━━\u001b[0m\u001b[37m\u001b[0m \u001b[1m0s\u001b[0m 9ms/step \n",
      "\u001b[1m3/3\u001b[0m \u001b[32m━━━━━━━━━━━━━━━━━━━━\u001b[0m\u001b[37m\u001b[0m \u001b[1m0s\u001b[0m 9ms/step \n",
      "\u001b[1m3/3\u001b[0m \u001b[32m━━━━━━━━━━━━━━━━━━━━\u001b[0m\u001b[37m\u001b[0m \u001b[1m0s\u001b[0m 9ms/step \n",
      "\u001b[1m3/3\u001b[0m \u001b[32m━━━━━━━━━━━━━━━━━━━━\u001b[0m\u001b[37m\u001b[0m \u001b[1m0s\u001b[0m 9ms/step \n",
      "Processing outcome: ncorrupt_os\n",
      "\u001b[1m3/3\u001b[0m \u001b[32m━━━━━━━━━━━━━━━━━━━━\u001b[0m\u001b[37m\u001b[0m \u001b[1m0s\u001b[0m 10ms/step\n",
      "\u001b[1m3/3\u001b[0m \u001b[32m━━━━━━━━━━━━━━━━━━━━\u001b[0m\u001b[37m\u001b[0m \u001b[1m0s\u001b[0m 9ms/step \n",
      "\u001b[1m3/3\u001b[0m \u001b[32m━━━━━━━━━━━━━━━━━━━━\u001b[0m\u001b[37m\u001b[0m \u001b[1m0s\u001b[0m 9ms/step \n",
      "\u001b[1m3/3\u001b[0m \u001b[32m━━━━━━━━━━━━━━━━━━━━\u001b[0m\u001b[37m\u001b[0m \u001b[1m0s\u001b[0m 9ms/step \n",
      "\u001b[1m3/3\u001b[0m \u001b[32m━━━━━━━━━━━━━━━━━━━━\u001b[0m\u001b[37m\u001b[0m \u001b[1m0s\u001b[0m 9ms/step \n",
      "\u001b[1m3/3\u001b[0m \u001b[32m━━━━━━━━━━━━━━━━━━━━\u001b[0m\u001b[37m\u001b[0m \u001b[1m0s\u001b[0m 9ms/step \n",
      "\u001b[1m3/3\u001b[0m \u001b[32m━━━━━━━━━━━━━━━━━━━━\u001b[0m\u001b[37m\u001b[0m \u001b[1m0s\u001b[0m 9ms/step \n",
      "\u001b[1m3/3\u001b[0m \u001b[32m━━━━━━━━━━━━━━━━━━━━\u001b[0m\u001b[37m\u001b[0m \u001b[1m0s\u001b[0m 9ms/step \n",
      "\u001b[1m3/3\u001b[0m \u001b[32m━━━━━━━━━━━━━━━━━━━━\u001b[0m\u001b[37m\u001b[0m \u001b[1m0s\u001b[0m 8ms/step \n",
      "\u001b[1m3/3\u001b[0m \u001b[32m━━━━━━━━━━━━━━━━━━━━\u001b[0m\u001b[37m\u001b[0m \u001b[1m0s\u001b[0m 9ms/step \n",
      "\u001b[1m3/3\u001b[0m \u001b[32m━━━━━━━━━━━━━━━━━━━━\u001b[0m\u001b[37m\u001b[0m \u001b[1m0s\u001b[0m 40ms/step\n",
      "\u001b[1m3/3\u001b[0m \u001b[32m━━━━━━━━━━━━━━━━━━━━\u001b[0m\u001b[37m\u001b[0m \u001b[1m0s\u001b[0m 9ms/step \n",
      "\u001b[1m3/3\u001b[0m \u001b[32m━━━━━━━━━━━━━━━━━━━━\u001b[0m\u001b[37m\u001b[0m \u001b[1m0s\u001b[0m 12ms/step\n",
      "\u001b[1m3/3\u001b[0m \u001b[32m━━━━━━━━━━━━━━━━━━━━\u001b[0m\u001b[37m\u001b[0m \u001b[1m0s\u001b[0m 9ms/step \n",
      "\u001b[1m3/3\u001b[0m \u001b[32m━━━━━━━━━━━━━━━━━━━━\u001b[0m\u001b[37m\u001b[0m \u001b[1m0s\u001b[0m 9ms/step \n",
      "Processing outcome: log_valor_corrupt\n",
      "\u001b[1m3/3\u001b[0m \u001b[32m━━━━━━━━━━━━━━━━━━━━\u001b[0m\u001b[37m\u001b[0m \u001b[1m0s\u001b[0m 9ms/step \n",
      "\u001b[1m3/3\u001b[0m \u001b[32m━━━━━━━━━━━━━━━━━━━━\u001b[0m\u001b[37m\u001b[0m \u001b[1m0s\u001b[0m 10ms/step\n",
      "\u001b[1m3/3\u001b[0m \u001b[32m━━━━━━━━━━━━━━━━━━━━\u001b[0m\u001b[37m\u001b[0m \u001b[1m0s\u001b[0m 8ms/step \n",
      "\u001b[1m3/3\u001b[0m \u001b[32m━━━━━━━━━━━━━━━━━━━━\u001b[0m\u001b[37m\u001b[0m \u001b[1m0s\u001b[0m 9ms/step \n",
      "\u001b[1m3/3\u001b[0m \u001b[32m━━━━━━━━━━━━━━━━━━━━\u001b[0m\u001b[37m\u001b[0m \u001b[1m0s\u001b[0m 9ms/step \n",
      "\u001b[1m3/3\u001b[0m \u001b[32m━━━━━━━━━━━━━━━━━━━━\u001b[0m\u001b[37m\u001b[0m \u001b[1m0s\u001b[0m 9ms/step \n",
      "\u001b[1m3/3\u001b[0m \u001b[32m━━━━━━━━━━━━━━━━━━━━\u001b[0m\u001b[37m\u001b[0m \u001b[1m0s\u001b[0m 8ms/step \n",
      "\u001b[1m3/3\u001b[0m \u001b[32m━━━━━━━━━━━━━━━━━━━━\u001b[0m\u001b[37m\u001b[0m \u001b[1m0s\u001b[0m 9ms/step \n",
      "\u001b[1m3/3\u001b[0m \u001b[32m━━━━━━━━━━━━━━━━━━━━\u001b[0m\u001b[37m\u001b[0m \u001b[1m0s\u001b[0m 9ms/step \n",
      "\u001b[1m3/3\u001b[0m \u001b[32m━━━━━━━━━━━━━━━━━━━━\u001b[0m\u001b[37m\u001b[0m \u001b[1m0s\u001b[0m 9ms/step \n",
      "\u001b[1m3/3\u001b[0m \u001b[32m━━━━━━━━━━━━━━━━━━━━\u001b[0m\u001b[37m\u001b[0m \u001b[1m0s\u001b[0m 8ms/step \n",
      "\u001b[1m3/3\u001b[0m \u001b[32m━━━━━━━━━━━━━━━━━━━━\u001b[0m\u001b[37m\u001b[0m \u001b[1m0s\u001b[0m 9ms/step \n",
      "\u001b[1m3/3\u001b[0m \u001b[32m━━━━━━━━━━━━━━━━━━━━\u001b[0m\u001b[37m\u001b[0m \u001b[1m0s\u001b[0m 8ms/step \n",
      "\u001b[1m3/3\u001b[0m \u001b[32m━━━━━━━━━━━━━━━━━━━━\u001b[0m\u001b[37m\u001b[0m \u001b[1m0s\u001b[0m 8ms/step \n",
      "\u001b[1m3/3\u001b[0m \u001b[32m━━━━━━━━━━━━━━━━━━━━\u001b[0m\u001b[37m\u001b[0m \u001b[1m0s\u001b[0m 11ms/step\n"
     ]
    },
    {
     "data": {
      "text/html": [
       "<div>\n",
       "<style scoped>\n",
       "    .dataframe tbody tr th:only-of-type {\n",
       "        vertical-align: middle;\n",
       "    }\n",
       "\n",
       "    .dataframe tbody tr th {\n",
       "        vertical-align: top;\n",
       "    }\n",
       "\n",
       "    .dataframe thead th {\n",
       "        text-align: right;\n",
       "    }\n",
       "</style>\n",
       "<table border=\"1\" class=\"dataframe\">\n",
       "  <thead>\n",
       "    <tr style=\"text-align: right;\">\n",
       "      <th></th>\n",
       "      <th>Outcome</th>\n",
       "      <th>Estimate</th>\n",
       "      <th>MSE</th>\n",
       "    </tr>\n",
       "  </thead>\n",
       "  <tbody>\n",
       "    <tr>\n",
       "      <th>0</th>\n",
       "      <td>pcorrupt</td>\n",
       "      <td>-0.007341</td>\n",
       "      <td>0.043469</td>\n",
       "    </tr>\n",
       "    <tr>\n",
       "      <th>1</th>\n",
       "      <td>ncorrupt_os</td>\n",
       "      <td>0.001751</td>\n",
       "      <td>0.018468</td>\n",
       "    </tr>\n",
       "    <tr>\n",
       "      <th>2</th>\n",
       "      <td>log_valor_corrupt</td>\n",
       "      <td>-0.777292</td>\n",
       "      <td>47.814293</td>\n",
       "    </tr>\n",
       "  </tbody>\n",
       "</table>\n",
       "</div>"
      ],
      "text/plain": [
       "             Outcome  Estimate        MSE\n",
       "0           pcorrupt -0.007341   0.043469\n",
       "1        ncorrupt_os  0.001751   0.018468\n",
       "2  log_valor_corrupt -0.777292  47.814293"
      ]
     },
     "execution_count": 171,
     "metadata": {},
     "output_type": "execute_result"
    }
   ],
   "source": [
    "# mayor_covariants + municipal_covariantes + political_judicial_covariants\n",
    "mlp_result_df_3_he = run_double_ml_mlp(double_ml_dataset, ma_mu_pl, outcomes)\n",
    "mlp_result_df_3_he"
   ]
  },
  {
   "cell_type": "code",
   "execution_count": 172,
   "metadata": {},
   "outputs": [
    {
     "name": "stdout",
     "output_type": "stream",
     "text": [
      "Processing outcome: pcorrupt\n",
      "\u001b[1m3/3\u001b[0m \u001b[32m━━━━━━━━━━━━━━━━━━━━\u001b[0m\u001b[37m\u001b[0m \u001b[1m0s\u001b[0m 9ms/step \n",
      "\u001b[1m3/3\u001b[0m \u001b[32m━━━━━━━━━━━━━━━━━━━━\u001b[0m\u001b[37m\u001b[0m \u001b[1m0s\u001b[0m 9ms/step \n",
      "\u001b[1m3/3\u001b[0m \u001b[32m━━━━━━━━━━━━━━━━━━━━\u001b[0m\u001b[37m\u001b[0m \u001b[1m0s\u001b[0m 10ms/step\n",
      "\u001b[1m3/3\u001b[0m \u001b[32m━━━━━━━━━━━━━━━━━━━━\u001b[0m\u001b[37m\u001b[0m \u001b[1m0s\u001b[0m 9ms/step \n",
      "\u001b[1m3/3\u001b[0m \u001b[32m━━━━━━━━━━━━━━━━━━━━\u001b[0m\u001b[37m\u001b[0m \u001b[1m0s\u001b[0m 9ms/step \n",
      "\u001b[1m3/3\u001b[0m \u001b[32m━━━━━━━━━━━━━━━━━━━━\u001b[0m\u001b[37m\u001b[0m \u001b[1m0s\u001b[0m 9ms/step \n",
      "\u001b[1m3/3\u001b[0m \u001b[32m━━━━━━━━━━━━━━━━━━━━\u001b[0m\u001b[37m\u001b[0m \u001b[1m0s\u001b[0m 8ms/step \n",
      "\u001b[1m3/3\u001b[0m \u001b[32m━━━━━━━━━━━━━━━━━━━━\u001b[0m\u001b[37m\u001b[0m \u001b[1m0s\u001b[0m 9ms/step \n",
      "\u001b[1m3/3\u001b[0m \u001b[32m━━━━━━━━━━━━━━━━━━━━\u001b[0m\u001b[37m\u001b[0m \u001b[1m0s\u001b[0m 8ms/step \n",
      "\u001b[1m3/3\u001b[0m \u001b[32m━━━━━━━━━━━━━━━━━━━━\u001b[0m\u001b[37m\u001b[0m \u001b[1m0s\u001b[0m 9ms/step \n",
      "Processing outcome: ncorrupt_os\n",
      "\u001b[1m3/3\u001b[0m \u001b[32m━━━━━━━━━━━━━━━━━━━━\u001b[0m\u001b[37m\u001b[0m \u001b[1m0s\u001b[0m 9ms/step \n",
      "\u001b[1m3/3\u001b[0m \u001b[32m━━━━━━━━━━━━━━━━━━━━\u001b[0m\u001b[37m\u001b[0m \u001b[1m0s\u001b[0m 9ms/step \n",
      "\u001b[1m3/3\u001b[0m \u001b[32m━━━━━━━━━━━━━━━━━━━━\u001b[0m\u001b[37m\u001b[0m \u001b[1m0s\u001b[0m 9ms/step \n",
      "\u001b[1m3/3\u001b[0m \u001b[32m━━━━━━━━━━━━━━━━━━━━\u001b[0m\u001b[37m\u001b[0m \u001b[1m0s\u001b[0m 8ms/step \n",
      "\u001b[1m3/3\u001b[0m \u001b[32m━━━━━━━━━━━━━━━━━━━━\u001b[0m\u001b[37m\u001b[0m \u001b[1m0s\u001b[0m 9ms/step \n",
      "\u001b[1m3/3\u001b[0m \u001b[32m━━━━━━━━━━━━━━━━━━━━\u001b[0m\u001b[37m\u001b[0m \u001b[1m0s\u001b[0m 8ms/step \n",
      "\u001b[1m3/3\u001b[0m \u001b[32m━━━━━━━━━━━━━━━━━━━━\u001b[0m\u001b[37m\u001b[0m \u001b[1m0s\u001b[0m 9ms/step \n",
      "\u001b[1m3/3\u001b[0m \u001b[32m━━━━━━━━━━━━━━━━━━━━\u001b[0m\u001b[37m\u001b[0m \u001b[1m0s\u001b[0m 9ms/step \n",
      "\u001b[1m3/3\u001b[0m \u001b[32m━━━━━━━━━━━━━━━━━━━━\u001b[0m\u001b[37m\u001b[0m \u001b[1m0s\u001b[0m 9ms/step \n",
      "\u001b[1m3/3\u001b[0m \u001b[32m━━━━━━━━━━━━━━━━━━━━\u001b[0m\u001b[37m\u001b[0m \u001b[1m0s\u001b[0m 9ms/step \n",
      "Processing outcome: log_valor_corrupt\n",
      "\u001b[1m3/3\u001b[0m \u001b[32m━━━━━━━━━━━━━━━━━━━━\u001b[0m\u001b[37m\u001b[0m \u001b[1m0s\u001b[0m 10ms/step\n",
      "\u001b[1m3/3\u001b[0m \u001b[32m━━━━━━━━━━━━━━━━━━━━\u001b[0m\u001b[37m\u001b[0m \u001b[1m0s\u001b[0m 9ms/step \n",
      "\u001b[1m3/3\u001b[0m \u001b[32m━━━━━━━━━━━━━━━━━━━━\u001b[0m\u001b[37m\u001b[0m \u001b[1m0s\u001b[0m 9ms/step \n",
      "\u001b[1m3/3\u001b[0m \u001b[32m━━━━━━━━━━━━━━━━━━━━\u001b[0m\u001b[37m\u001b[0m \u001b[1m0s\u001b[0m 8ms/step \n",
      "\u001b[1m3/3\u001b[0m \u001b[32m━━━━━━━━━━━━━━━━━━━━\u001b[0m\u001b[37m\u001b[0m \u001b[1m0s\u001b[0m 9ms/step \n",
      "\u001b[1m3/3\u001b[0m \u001b[32m━━━━━━━━━━━━━━━━━━━━\u001b[0m\u001b[37m\u001b[0m \u001b[1m0s\u001b[0m 9ms/step \n",
      "\u001b[1m3/3\u001b[0m \u001b[32m━━━━━━━━━━━━━━━━━━━━\u001b[0m\u001b[37m\u001b[0m \u001b[1m0s\u001b[0m 9ms/step \n",
      "\u001b[1m3/3\u001b[0m \u001b[32m━━━━━━━━━━━━━━━━━━━━\u001b[0m\u001b[37m\u001b[0m \u001b[1m0s\u001b[0m 9ms/step \n",
      "\u001b[1m3/3\u001b[0m \u001b[32m━━━━━━━━━━━━━━━━━━━━\u001b[0m\u001b[37m\u001b[0m \u001b[1m0s\u001b[0m 9ms/step \n",
      "\u001b[1m3/3\u001b[0m \u001b[32m━━━━━━━━━━━━━━━━━━━━\u001b[0m\u001b[37m\u001b[0m \u001b[1m0s\u001b[0m 9ms/step \n"
     ]
    },
    {
     "data": {
      "text/html": [
       "<div>\n",
       "<style scoped>\n",
       "    .dataframe tbody tr th:only-of-type {\n",
       "        vertical-align: middle;\n",
       "    }\n",
       "\n",
       "    .dataframe tbody tr th {\n",
       "        vertical-align: top;\n",
       "    }\n",
       "\n",
       "    .dataframe thead th {\n",
       "        text-align: right;\n",
       "    }\n",
       "</style>\n",
       "<table border=\"1\" class=\"dataframe\">\n",
       "  <thead>\n",
       "    <tr style=\"text-align: right;\">\n",
       "      <th></th>\n",
       "      <th>Outcome</th>\n",
       "      <th>Estimate</th>\n",
       "      <th>MSE</th>\n",
       "    </tr>\n",
       "  </thead>\n",
       "  <tbody>\n",
       "    <tr>\n",
       "      <th>0</th>\n",
       "      <td>pcorrupt</td>\n",
       "      <td>-0.033487</td>\n",
       "      <td>0.019224</td>\n",
       "    </tr>\n",
       "    <tr>\n",
       "      <th>1</th>\n",
       "      <td>ncorrupt_os</td>\n",
       "      <td>-0.007227</td>\n",
       "      <td>0.011910</td>\n",
       "    </tr>\n",
       "    <tr>\n",
       "      <th>2</th>\n",
       "      <td>log_valor_corrupt</td>\n",
       "      <td>-0.514015</td>\n",
       "      <td>29.386236</td>\n",
       "    </tr>\n",
       "  </tbody>\n",
       "</table>\n",
       "</div>"
      ],
      "text/plain": [
       "             Outcome  Estimate        MSE\n",
       "0           pcorrupt -0.033487   0.019224\n",
       "1        ncorrupt_os -0.007227   0.011910\n",
       "2  log_valor_corrupt -0.514015  29.386236"
      ]
     },
     "execution_count": 172,
     "metadata": {},
     "output_type": "execute_result"
    }
   ],
   "source": [
    "mlp_result_df_3_ho = run_double_ml_mlp_homogeneous(double_ml_dataset, ma_mu_pl, treatment,outcomes)\n",
    "mlp_result_df_3_ho"
   ]
  },
  {
   "cell_type": "code",
   "execution_count": 173,
   "metadata": {},
   "outputs": [
    {
     "name": "stdout",
     "output_type": "stream",
     "text": [
      "Processing outcome: pcorrupt\n",
      "\u001b[1m3/3\u001b[0m \u001b[32m━━━━━━━━━━━━━━━━━━━━\u001b[0m\u001b[37m\u001b[0m \u001b[1m0s\u001b[0m 9ms/step \n",
      "\u001b[1m3/3\u001b[0m \u001b[32m━━━━━━━━━━━━━━━━━━━━\u001b[0m\u001b[37m\u001b[0m \u001b[1m0s\u001b[0m 9ms/step \n",
      "\u001b[1m3/3\u001b[0m \u001b[32m━━━━━━━━━━━━━━━━━━━━\u001b[0m\u001b[37m\u001b[0m \u001b[1m0s\u001b[0m 9ms/step \n",
      "\u001b[1m3/3\u001b[0m \u001b[32m━━━━━━━━━━━━━━━━━━━━\u001b[0m\u001b[37m\u001b[0m \u001b[1m0s\u001b[0m 9ms/step \n",
      "\u001b[1m3/3\u001b[0m \u001b[32m━━━━━━━━━━━━━━━━━━━━\u001b[0m\u001b[37m\u001b[0m \u001b[1m0s\u001b[0m 9ms/step \n",
      "\u001b[1m3/3\u001b[0m \u001b[32m━━━━━━━━━━━━━━━━━━━━\u001b[0m\u001b[37m\u001b[0m \u001b[1m0s\u001b[0m 9ms/step \n",
      "\u001b[1m3/3\u001b[0m \u001b[32m━━━━━━━━━━━━━━━━━━━━\u001b[0m\u001b[37m\u001b[0m \u001b[1m0s\u001b[0m 14ms/step\n",
      "\u001b[1m3/3\u001b[0m \u001b[32m━━━━━━━━━━━━━━━━━━━━\u001b[0m\u001b[37m\u001b[0m \u001b[1m0s\u001b[0m 9ms/step \n",
      "\u001b[1m3/3\u001b[0m \u001b[32m━━━━━━━━━━━━━━━━━━━━\u001b[0m\u001b[37m\u001b[0m \u001b[1m0s\u001b[0m 9ms/step \n",
      "\u001b[1m3/3\u001b[0m \u001b[32m━━━━━━━━━━━━━━━━━━━━\u001b[0m\u001b[37m\u001b[0m \u001b[1m0s\u001b[0m 9ms/step \n",
      "\u001b[1m3/3\u001b[0m \u001b[32m━━━━━━━━━━━━━━━━━━━━\u001b[0m\u001b[37m\u001b[0m \u001b[1m0s\u001b[0m 9ms/step \n",
      "\u001b[1m3/3\u001b[0m \u001b[32m━━━━━━━━━━━━━━━━━━━━\u001b[0m\u001b[37m\u001b[0m \u001b[1m0s\u001b[0m 10ms/step\n",
      "\u001b[1m3/3\u001b[0m \u001b[32m━━━━━━━━━━━━━━━━━━━━\u001b[0m\u001b[37m\u001b[0m \u001b[1m0s\u001b[0m 9ms/step \n",
      "\u001b[1m3/3\u001b[0m \u001b[32m━━━━━━━━━━━━━━━━━━━━\u001b[0m\u001b[37m\u001b[0m \u001b[1m0s\u001b[0m 9ms/step \n",
      "\u001b[1m3/3\u001b[0m \u001b[32m━━━━━━━━━━━━━━━━━━━━\u001b[0m\u001b[37m\u001b[0m \u001b[1m0s\u001b[0m 9ms/step \n",
      "Processing outcome: ncorrupt_os\n",
      "\u001b[1m3/3\u001b[0m \u001b[32m━━━━━━━━━━━━━━━━━━━━\u001b[0m\u001b[37m\u001b[0m \u001b[1m0s\u001b[0m 9ms/step \n",
      "\u001b[1m3/3\u001b[0m \u001b[32m━━━━━━━━━━━━━━━━━━━━\u001b[0m\u001b[37m\u001b[0m \u001b[1m0s\u001b[0m 9ms/step \n",
      "\u001b[1m3/3\u001b[0m \u001b[32m━━━━━━━━━━━━━━━━━━━━\u001b[0m\u001b[37m\u001b[0m \u001b[1m0s\u001b[0m 8ms/step \n",
      "\u001b[1m3/3\u001b[0m \u001b[32m━━━━━━━━━━━━━━━━━━━━\u001b[0m\u001b[37m\u001b[0m \u001b[1m0s\u001b[0m 8ms/step \n",
      "\u001b[1m3/3\u001b[0m \u001b[32m━━━━━━━━━━━━━━━━━━━━\u001b[0m\u001b[37m\u001b[0m \u001b[1m0s\u001b[0m 9ms/step \n",
      "\u001b[1m3/3\u001b[0m \u001b[32m━━━━━━━━━━━━━━━━━━━━\u001b[0m\u001b[37m\u001b[0m \u001b[1m0s\u001b[0m 10ms/step\n",
      "\u001b[1m3/3\u001b[0m \u001b[32m━━━━━━━━━━━━━━━━━━━━\u001b[0m\u001b[37m\u001b[0m \u001b[1m0s\u001b[0m 9ms/step \n",
      "\u001b[1m3/3\u001b[0m \u001b[32m━━━━━━━━━━━━━━━━━━━━\u001b[0m\u001b[37m\u001b[0m \u001b[1m0s\u001b[0m 9ms/step \n",
      "\u001b[1m3/3\u001b[0m \u001b[32m━━━━━━━━━━━━━━━━━━━━\u001b[0m\u001b[37m\u001b[0m \u001b[1m0s\u001b[0m 9ms/step \n",
      "\u001b[1m3/3\u001b[0m \u001b[32m━━━━━━━━━━━━━━━━━━━━\u001b[0m\u001b[37m\u001b[0m \u001b[1m0s\u001b[0m 9ms/step \n",
      "\u001b[1m3/3\u001b[0m \u001b[32m━━━━━━━━━━━━━━━━━━━━\u001b[0m\u001b[37m\u001b[0m \u001b[1m0s\u001b[0m 9ms/step \n",
      "\u001b[1m3/3\u001b[0m \u001b[32m━━━━━━━━━━━━━━━━━━━━\u001b[0m\u001b[37m\u001b[0m \u001b[1m0s\u001b[0m 9ms/step \n",
      "\u001b[1m3/3\u001b[0m \u001b[32m━━━━━━━━━━━━━━━━━━━━\u001b[0m\u001b[37m\u001b[0m \u001b[1m0s\u001b[0m 9ms/step \n",
      "\u001b[1m3/3\u001b[0m \u001b[32m━━━━━━━━━━━━━━━━━━━━\u001b[0m\u001b[37m\u001b[0m \u001b[1m0s\u001b[0m 9ms/step \n",
      "\u001b[1m3/3\u001b[0m \u001b[32m━━━━━━━━━━━━━━━━━━━━\u001b[0m\u001b[37m\u001b[0m \u001b[1m0s\u001b[0m 9ms/step \n",
      "Processing outcome: log_valor_corrupt\n",
      "\u001b[1m3/3\u001b[0m \u001b[32m━━━━━━━━━━━━━━━━━━━━\u001b[0m\u001b[37m\u001b[0m \u001b[1m0s\u001b[0m 25ms/step\n",
      "\u001b[1m3/3\u001b[0m \u001b[32m━━━━━━━━━━━━━━━━━━━━\u001b[0m\u001b[37m\u001b[0m \u001b[1m0s\u001b[0m 13ms/step\n",
      "\u001b[1m3/3\u001b[0m \u001b[32m━━━━━━━━━━━━━━━━━━━━\u001b[0m\u001b[37m\u001b[0m \u001b[1m0s\u001b[0m 11ms/step\n",
      "\u001b[1m3/3\u001b[0m \u001b[32m━━━━━━━━━━━━━━━━━━━━\u001b[0m\u001b[37m\u001b[0m \u001b[1m0s\u001b[0m 11ms/step\n",
      "\u001b[1m3/3\u001b[0m \u001b[32m━━━━━━━━━━━━━━━━━━━━\u001b[0m\u001b[37m\u001b[0m \u001b[1m0s\u001b[0m 11ms/step\n",
      "\u001b[1m3/3\u001b[0m \u001b[32m━━━━━━━━━━━━━━━━━━━━\u001b[0m\u001b[37m\u001b[0m \u001b[1m0s\u001b[0m 10ms/step\n",
      "\u001b[1m3/3\u001b[0m \u001b[32m━━━━━━━━━━━━━━━━━━━━\u001b[0m\u001b[37m\u001b[0m \u001b[1m0s\u001b[0m 9ms/step \n",
      "\u001b[1m3/3\u001b[0m \u001b[32m━━━━━━━━━━━━━━━━━━━━\u001b[0m\u001b[37m\u001b[0m \u001b[1m0s\u001b[0m 10ms/step\n",
      "\u001b[1m3/3\u001b[0m \u001b[32m━━━━━━━━━━━━━━━━━━━━\u001b[0m\u001b[37m\u001b[0m \u001b[1m0s\u001b[0m 9ms/step \n",
      "\u001b[1m3/3\u001b[0m \u001b[32m━━━━━━━━━━━━━━━━━━━━\u001b[0m\u001b[37m\u001b[0m \u001b[1m0s\u001b[0m 9ms/step \n",
      "\u001b[1m3/3\u001b[0m \u001b[32m━━━━━━━━━━━━━━━━━━━━\u001b[0m\u001b[37m\u001b[0m \u001b[1m0s\u001b[0m 9ms/step \n",
      "\u001b[1m3/3\u001b[0m \u001b[32m━━━━━━━━━━━━━━━━━━━━\u001b[0m\u001b[37m\u001b[0m \u001b[1m0s\u001b[0m 9ms/step \n",
      "\u001b[1m3/3\u001b[0m \u001b[32m━━━━━━━━━━━━━━━━━━━━\u001b[0m\u001b[37m\u001b[0m \u001b[1m0s\u001b[0m 9ms/step \n",
      "\u001b[1m3/3\u001b[0m \u001b[32m━━━━━━━━━━━━━━━━━━━━\u001b[0m\u001b[37m\u001b[0m \u001b[1m0s\u001b[0m 9ms/step \n",
      "\u001b[1m3/3\u001b[0m \u001b[32m━━━━━━━━━━━━━━━━━━━━\u001b[0m\u001b[37m\u001b[0m \u001b[1m0s\u001b[0m 9ms/step \n"
     ]
    },
    {
     "data": {
      "text/html": [
       "<div>\n",
       "<style scoped>\n",
       "    .dataframe tbody tr th:only-of-type {\n",
       "        vertical-align: middle;\n",
       "    }\n",
       "\n",
       "    .dataframe tbody tr th {\n",
       "        vertical-align: top;\n",
       "    }\n",
       "\n",
       "    .dataframe thead th {\n",
       "        text-align: right;\n",
       "    }\n",
       "</style>\n",
       "<table border=\"1\" class=\"dataframe\">\n",
       "  <thead>\n",
       "    <tr style=\"text-align: right;\">\n",
       "      <th></th>\n",
       "      <th>Outcome</th>\n",
       "      <th>Estimate</th>\n",
       "      <th>MSE</th>\n",
       "    </tr>\n",
       "  </thead>\n",
       "  <tbody>\n",
       "    <tr>\n",
       "      <th>0</th>\n",
       "      <td>pcorrupt</td>\n",
       "      <td>-0.017534</td>\n",
       "      <td>0.082121</td>\n",
       "    </tr>\n",
       "    <tr>\n",
       "      <th>1</th>\n",
       "      <td>ncorrupt_os</td>\n",
       "      <td>-0.024469</td>\n",
       "      <td>0.055118</td>\n",
       "    </tr>\n",
       "    <tr>\n",
       "      <th>2</th>\n",
       "      <td>log_valor_corrupt</td>\n",
       "      <td>-0.758514</td>\n",
       "      <td>63.923859</td>\n",
       "    </tr>\n",
       "  </tbody>\n",
       "</table>\n",
       "</div>"
      ],
      "text/plain": [
       "             Outcome  Estimate        MSE\n",
       "0           pcorrupt -0.017534   0.082121\n",
       "1        ncorrupt_os -0.024469   0.055118\n",
       "2  log_valor_corrupt -0.758514  63.923859"
      ]
     },
     "execution_count": 173,
     "metadata": {},
     "output_type": "execute_result"
    }
   ],
   "source": [
    "# All Covariants (plus two dummies)\n",
    "mlp_result_df_4_he = run_double_ml_mlp(double_ml_dataset, all_covariates,outcomes)\n",
    "mlp_result_df_4_he"
   ]
  },
  {
   "cell_type": "code",
   "execution_count": 174,
   "metadata": {},
   "outputs": [
    {
     "name": "stdout",
     "output_type": "stream",
     "text": [
      "Processing outcome: pcorrupt\n",
      "\u001b[1m3/3\u001b[0m \u001b[32m━━━━━━━━━━━━━━━━━━━━\u001b[0m\u001b[37m\u001b[0m \u001b[1m0s\u001b[0m 9ms/step \n",
      "\u001b[1m3/3\u001b[0m \u001b[32m━━━━━━━━━━━━━━━━━━━━\u001b[0m\u001b[37m\u001b[0m \u001b[1m0s\u001b[0m 9ms/step \n",
      "\u001b[1m3/3\u001b[0m \u001b[32m━━━━━━━━━━━━━━━━━━━━\u001b[0m\u001b[37m\u001b[0m \u001b[1m0s\u001b[0m 9ms/step \n",
      "\u001b[1m3/3\u001b[0m \u001b[32m━━━━━━━━━━━━━━━━━━━━\u001b[0m\u001b[37m\u001b[0m \u001b[1m0s\u001b[0m 9ms/step \n",
      "\u001b[1m3/3\u001b[0m \u001b[32m━━━━━━━━━━━━━━━━━━━━\u001b[0m\u001b[37m\u001b[0m \u001b[1m0s\u001b[0m 9ms/step \n",
      "\u001b[1m3/3\u001b[0m \u001b[32m━━━━━━━━━━━━━━━━━━━━\u001b[0m\u001b[37m\u001b[0m \u001b[1m0s\u001b[0m 9ms/step \n",
      "\u001b[1m3/3\u001b[0m \u001b[32m━━━━━━━━━━━━━━━━━━━━\u001b[0m\u001b[37m\u001b[0m \u001b[1m0s\u001b[0m 9ms/step \n",
      "\u001b[1m3/3\u001b[0m \u001b[32m━━━━━━━━━━━━━━━━━━━━\u001b[0m\u001b[37m\u001b[0m \u001b[1m0s\u001b[0m 9ms/step \n",
      "\u001b[1m3/3\u001b[0m \u001b[32m━━━━━━━━━━━━━━━━━━━━\u001b[0m\u001b[37m\u001b[0m \u001b[1m0s\u001b[0m 9ms/step \n",
      "\u001b[1m3/3\u001b[0m \u001b[32m━━━━━━━━━━━━━━━━━━━━\u001b[0m\u001b[37m\u001b[0m \u001b[1m0s\u001b[0m 9ms/step \n",
      "Processing outcome: ncorrupt_os\n",
      "\u001b[1m3/3\u001b[0m \u001b[32m━━━━━━━━━━━━━━━━━━━━\u001b[0m\u001b[37m\u001b[0m \u001b[1m0s\u001b[0m 9ms/step \n",
      "\u001b[1m3/3\u001b[0m \u001b[32m━━━━━━━━━━━━━━━━━━━━\u001b[0m\u001b[37m\u001b[0m \u001b[1m0s\u001b[0m 9ms/step \n",
      "\u001b[1m3/3\u001b[0m \u001b[32m━━━━━━━━━━━━━━━━━━━━\u001b[0m\u001b[37m\u001b[0m \u001b[1m0s\u001b[0m 9ms/step \n",
      "\u001b[1m3/3\u001b[0m \u001b[32m━━━━━━━━━━━━━━━━━━━━\u001b[0m\u001b[37m\u001b[0m \u001b[1m0s\u001b[0m 9ms/step \n",
      "\u001b[1m3/3\u001b[0m \u001b[32m━━━━━━━━━━━━━━━━━━━━\u001b[0m\u001b[37m\u001b[0m \u001b[1m0s\u001b[0m 11ms/step\n",
      "\u001b[1m3/3\u001b[0m \u001b[32m━━━━━━━━━━━━━━━━━━━━\u001b[0m\u001b[37m\u001b[0m \u001b[1m0s\u001b[0m 9ms/step \n",
      "\u001b[1m3/3\u001b[0m \u001b[32m━━━━━━━━━━━━━━━━━━━━\u001b[0m\u001b[37m\u001b[0m \u001b[1m0s\u001b[0m 9ms/step \n",
      "\u001b[1m3/3\u001b[0m \u001b[32m━━━━━━━━━━━━━━━━━━━━\u001b[0m\u001b[37m\u001b[0m \u001b[1m0s\u001b[0m 10ms/step\n",
      "\u001b[1m3/3\u001b[0m \u001b[32m━━━━━━━━━━━━━━━━━━━━\u001b[0m\u001b[37m\u001b[0m \u001b[1m0s\u001b[0m 10ms/step\n",
      "\u001b[1m3/3\u001b[0m \u001b[32m━━━━━━━━━━━━━━━━━━━━\u001b[0m\u001b[37m\u001b[0m \u001b[1m0s\u001b[0m 10ms/step\n",
      "Processing outcome: log_valor_corrupt\n",
      "\u001b[1m3/3\u001b[0m \u001b[32m━━━━━━━━━━━━━━━━━━━━\u001b[0m\u001b[37m\u001b[0m \u001b[1m0s\u001b[0m 10ms/step\n",
      "\u001b[1m3/3\u001b[0m \u001b[32m━━━━━━━━━━━━━━━━━━━━\u001b[0m\u001b[37m\u001b[0m \u001b[1m0s\u001b[0m 9ms/step \n",
      "\u001b[1m3/3\u001b[0m \u001b[32m━━━━━━━━━━━━━━━━━━━━\u001b[0m\u001b[37m\u001b[0m \u001b[1m0s\u001b[0m 9ms/step \n",
      "\u001b[1m3/3\u001b[0m \u001b[32m━━━━━━━━━━━━━━━━━━━━\u001b[0m\u001b[37m\u001b[0m \u001b[1m0s\u001b[0m 9ms/step \n",
      "\u001b[1m3/3\u001b[0m \u001b[32m━━━━━━━━━━━━━━━━━━━━\u001b[0m\u001b[37m\u001b[0m \u001b[1m0s\u001b[0m 9ms/step \n",
      "\u001b[1m3/3\u001b[0m \u001b[32m━━━━━━━━━━━━━━━━━━━━\u001b[0m\u001b[37m\u001b[0m \u001b[1m0s\u001b[0m 9ms/step \n",
      "\u001b[1m3/3\u001b[0m \u001b[32m━━━━━━━━━━━━━━━━━━━━\u001b[0m\u001b[37m\u001b[0m \u001b[1m0s\u001b[0m 9ms/step \n",
      "\u001b[1m3/3\u001b[0m \u001b[32m━━━━━━━━━━━━━━━━━━━━\u001b[0m\u001b[37m\u001b[0m \u001b[1m0s\u001b[0m 9ms/step \n",
      "\u001b[1m3/3\u001b[0m \u001b[32m━━━━━━━━━━━━━━━━━━━━\u001b[0m\u001b[37m\u001b[0m \u001b[1m0s\u001b[0m 10ms/step\n",
      "\u001b[1m3/3\u001b[0m \u001b[32m━━━━━━━━━━━━━━━━━━━━\u001b[0m\u001b[37m\u001b[0m \u001b[1m0s\u001b[0m 10ms/step\n"
     ]
    },
    {
     "data": {
      "text/html": [
       "<div>\n",
       "<style scoped>\n",
       "    .dataframe tbody tr th:only-of-type {\n",
       "        vertical-align: middle;\n",
       "    }\n",
       "\n",
       "    .dataframe tbody tr th {\n",
       "        vertical-align: top;\n",
       "    }\n",
       "\n",
       "    .dataframe thead th {\n",
       "        text-align: right;\n",
       "    }\n",
       "</style>\n",
       "<table border=\"1\" class=\"dataframe\">\n",
       "  <thead>\n",
       "    <tr style=\"text-align: right;\">\n",
       "      <th></th>\n",
       "      <th>Outcome</th>\n",
       "      <th>Estimate</th>\n",
       "      <th>MSE</th>\n",
       "    </tr>\n",
       "  </thead>\n",
       "  <tbody>\n",
       "    <tr>\n",
       "      <th>0</th>\n",
       "      <td>pcorrupt</td>\n",
       "      <td>-0.014225</td>\n",
       "      <td>0.034814</td>\n",
       "    </tr>\n",
       "    <tr>\n",
       "      <th>1</th>\n",
       "      <td>ncorrupt_os</td>\n",
       "      <td>-0.025236</td>\n",
       "      <td>0.022335</td>\n",
       "    </tr>\n",
       "    <tr>\n",
       "      <th>2</th>\n",
       "      <td>log_valor_corrupt</td>\n",
       "      <td>-1.306737</td>\n",
       "      <td>29.128323</td>\n",
       "    </tr>\n",
       "  </tbody>\n",
       "</table>\n",
       "</div>"
      ],
      "text/plain": [
       "             Outcome  Estimate        MSE\n",
       "0           pcorrupt -0.014225   0.034814\n",
       "1        ncorrupt_os -0.025236   0.022335\n",
       "2  log_valor_corrupt -1.306737  29.128323"
      ]
     },
     "execution_count": 174,
     "metadata": {},
     "output_type": "execute_result"
    }
   ],
   "source": [
    "mlp_result_df_4_ho = run_double_ml_mlp_homogeneous(double_ml_dataset, all_covariates,treatment, outcomes)\n",
    "mlp_result_df_4_ho"
   ]
  },
  {
   "cell_type": "markdown",
   "metadata": {},
   "source": [
    "### Gradiant Boosting: (hetero)"
   ]
  },
  {
   "cell_type": "code",
   "execution_count": 175,
   "metadata": {},
   "outputs": [
    {
     "name": "stdout",
     "output_type": "stream",
     "text": [
      "Processing outcome: pcorrupt\n",
      "Processing outcome: ncorrupt_os\n",
      "Processing outcome: log_valor_corrupt\n"
     ]
    },
    {
     "data": {
      "text/html": [
       "<div>\n",
       "<style scoped>\n",
       "    .dataframe tbody tr th:only-of-type {\n",
       "        vertical-align: middle;\n",
       "    }\n",
       "\n",
       "    .dataframe tbody tr th {\n",
       "        vertical-align: top;\n",
       "    }\n",
       "\n",
       "    .dataframe thead th {\n",
       "        text-align: right;\n",
       "    }\n",
       "</style>\n",
       "<table border=\"1\" class=\"dataframe\">\n",
       "  <thead>\n",
       "    <tr style=\"text-align: right;\">\n",
       "      <th></th>\n",
       "      <th>Outcome</th>\n",
       "      <th>Estimate</th>\n",
       "      <th>MSE</th>\n",
       "    </tr>\n",
       "  </thead>\n",
       "  <tbody>\n",
       "    <tr>\n",
       "      <th>0</th>\n",
       "      <td>pcorrupt</td>\n",
       "      <td>-0.020351</td>\n",
       "      <td>0.066814</td>\n",
       "    </tr>\n",
       "    <tr>\n",
       "      <th>1</th>\n",
       "      <td>ncorrupt_os</td>\n",
       "      <td>-0.006718</td>\n",
       "      <td>0.014550</td>\n",
       "    </tr>\n",
       "    <tr>\n",
       "      <th>2</th>\n",
       "      <td>log_valor_corrupt</td>\n",
       "      <td>-0.193866</td>\n",
       "      <td>357.192553</td>\n",
       "    </tr>\n",
       "  </tbody>\n",
       "</table>\n",
       "</div>"
      ],
      "text/plain": [
       "             Outcome  Estimate         MSE\n",
       "0           pcorrupt -0.020351    0.066814\n",
       "1        ncorrupt_os -0.006718    0.014550\n",
       "2  log_valor_corrupt -0.193866  357.192553"
      ]
     },
     "execution_count": 175,
     "metadata": {},
     "output_type": "execute_result"
    }
   ],
   "source": [
    "# Only mayor_covariants\n",
    "gb_result_df_1_he = run_gradient_boosting_dml(double_ml_dataset, mayor_covariates, treatment, outcomes)\n",
    "gb_result_df_1_he"
   ]
  },
  {
   "cell_type": "code",
   "execution_count": 176,
   "metadata": {},
   "outputs": [
    {
     "name": "stdout",
     "output_type": "stream",
     "text": [
      "Processing outcome: pcorrupt\n",
      "Processing outcome: ncorrupt_os\n",
      "Processing outcome: log_valor_corrupt\n"
     ]
    },
    {
     "data": {
      "text/html": [
       "<div>\n",
       "<style scoped>\n",
       "    .dataframe tbody tr th:only-of-type {\n",
       "        vertical-align: middle;\n",
       "    }\n",
       "\n",
       "    .dataframe tbody tr th {\n",
       "        vertical-align: top;\n",
       "    }\n",
       "\n",
       "    .dataframe thead th {\n",
       "        text-align: right;\n",
       "    }\n",
       "</style>\n",
       "<table border=\"1\" class=\"dataframe\">\n",
       "  <thead>\n",
       "    <tr style=\"text-align: right;\">\n",
       "      <th></th>\n",
       "      <th>Outcome</th>\n",
       "      <th>Estimate</th>\n",
       "      <th>MSE</th>\n",
       "    </tr>\n",
       "  </thead>\n",
       "  <tbody>\n",
       "    <tr>\n",
       "      <th>0</th>\n",
       "      <td>pcorrupt</td>\n",
       "      <td>-0.018237</td>\n",
       "      <td>0.012909</td>\n",
       "    </tr>\n",
       "    <tr>\n",
       "      <th>1</th>\n",
       "      <td>ncorrupt_os</td>\n",
       "      <td>-0.009557</td>\n",
       "      <td>0.003252</td>\n",
       "    </tr>\n",
       "    <tr>\n",
       "      <th>2</th>\n",
       "      <td>log_valor_corrupt</td>\n",
       "      <td>-1.047505</td>\n",
       "      <td>33.206817</td>\n",
       "    </tr>\n",
       "  </tbody>\n",
       "</table>\n",
       "</div>"
      ],
      "text/plain": [
       "             Outcome  Estimate        MSE\n",
       "0           pcorrupt -0.018237   0.012909\n",
       "1        ncorrupt_os -0.009557   0.003252\n",
       "2  log_valor_corrupt -1.047505  33.206817"
      ]
     },
     "execution_count": 176,
     "metadata": {},
     "output_type": "execute_result"
    }
   ],
   "source": [
    "gb_result_df_1_ho = run_dr_homogeneous_gb(double_ml_dataset, mayor_covariates, treatment, outcomes)\n",
    "gb_result_df_1_ho"
   ]
  },
  {
   "cell_type": "code",
   "execution_count": 177,
   "metadata": {},
   "outputs": [
    {
     "name": "stdout",
     "output_type": "stream",
     "text": [
      "Processing outcome: pcorrupt\n",
      "Processing outcome: ncorrupt_os\n",
      "Processing outcome: log_valor_corrupt\n"
     ]
    },
    {
     "data": {
      "text/html": [
       "<div>\n",
       "<style scoped>\n",
       "    .dataframe tbody tr th:only-of-type {\n",
       "        vertical-align: middle;\n",
       "    }\n",
       "\n",
       "    .dataframe tbody tr th {\n",
       "        vertical-align: top;\n",
       "    }\n",
       "\n",
       "    .dataframe thead th {\n",
       "        text-align: right;\n",
       "    }\n",
       "</style>\n",
       "<table border=\"1\" class=\"dataframe\">\n",
       "  <thead>\n",
       "    <tr style=\"text-align: right;\">\n",
       "      <th></th>\n",
       "      <th>Outcome</th>\n",
       "      <th>Estimate</th>\n",
       "      <th>MSE</th>\n",
       "    </tr>\n",
       "  </thead>\n",
       "  <tbody>\n",
       "    <tr>\n",
       "      <th>0</th>\n",
       "      <td>pcorrupt</td>\n",
       "      <td>-0.019443</td>\n",
       "      <td>0.058081</td>\n",
       "    </tr>\n",
       "    <tr>\n",
       "      <th>1</th>\n",
       "      <td>ncorrupt_os</td>\n",
       "      <td>-0.009970</td>\n",
       "      <td>0.031864</td>\n",
       "    </tr>\n",
       "    <tr>\n",
       "      <th>2</th>\n",
       "      <td>log_valor_corrupt</td>\n",
       "      <td>-1.009129</td>\n",
       "      <td>190.921643</td>\n",
       "    </tr>\n",
       "  </tbody>\n",
       "</table>\n",
       "</div>"
      ],
      "text/plain": [
       "             Outcome  Estimate         MSE\n",
       "0           pcorrupt -0.019443    0.058081\n",
       "1        ncorrupt_os -0.009970    0.031864\n",
       "2  log_valor_corrupt -1.009129  190.921643"
      ]
     },
     "execution_count": 177,
     "metadata": {},
     "output_type": "execute_result"
    }
   ],
   "source": [
    "# mayor_covariates + municipal_covariates\n",
    "gb_result_df_2_he = run_gradient_boosting_dml(double_ml_dataset, ma_mu, treatment, outcomes)\n",
    "gb_result_df_2_he"
   ]
  },
  {
   "cell_type": "code",
   "execution_count": 178,
   "metadata": {},
   "outputs": [
    {
     "name": "stdout",
     "output_type": "stream",
     "text": [
      "Processing outcome: pcorrupt\n",
      "Processing outcome: ncorrupt_os\n",
      "Processing outcome: log_valor_corrupt\n"
     ]
    },
    {
     "data": {
      "text/html": [
       "<div>\n",
       "<style scoped>\n",
       "    .dataframe tbody tr th:only-of-type {\n",
       "        vertical-align: middle;\n",
       "    }\n",
       "\n",
       "    .dataframe tbody tr th {\n",
       "        vertical-align: top;\n",
       "    }\n",
       "\n",
       "    .dataframe thead th {\n",
       "        text-align: right;\n",
       "    }\n",
       "</style>\n",
       "<table border=\"1\" class=\"dataframe\">\n",
       "  <thead>\n",
       "    <tr style=\"text-align: right;\">\n",
       "      <th></th>\n",
       "      <th>Outcome</th>\n",
       "      <th>Estimate</th>\n",
       "      <th>MSE</th>\n",
       "    </tr>\n",
       "  </thead>\n",
       "  <tbody>\n",
       "    <tr>\n",
       "      <th>0</th>\n",
       "      <td>pcorrupt</td>\n",
       "      <td>-0.020428</td>\n",
       "      <td>0.012555</td>\n",
       "    </tr>\n",
       "    <tr>\n",
       "      <th>1</th>\n",
       "      <td>ncorrupt_os</td>\n",
       "      <td>-0.006281</td>\n",
       "      <td>0.003009</td>\n",
       "    </tr>\n",
       "    <tr>\n",
       "      <th>2</th>\n",
       "      <td>log_valor_corrupt</td>\n",
       "      <td>-0.804077</td>\n",
       "      <td>28.994380</td>\n",
       "    </tr>\n",
       "  </tbody>\n",
       "</table>\n",
       "</div>"
      ],
      "text/plain": [
       "             Outcome  Estimate        MSE\n",
       "0           pcorrupt -0.020428   0.012555\n",
       "1        ncorrupt_os -0.006281   0.003009\n",
       "2  log_valor_corrupt -0.804077  28.994380"
      ]
     },
     "execution_count": 178,
     "metadata": {},
     "output_type": "execute_result"
    }
   ],
   "source": [
    "gb_result_df_2_ho = run_dr_homogeneous_gb(double_ml_dataset, ma_mu, treatment, outcomes)\n",
    "gb_result_df_2_ho"
   ]
  },
  {
   "cell_type": "code",
   "execution_count": 179,
   "metadata": {},
   "outputs": [
    {
     "name": "stdout",
     "output_type": "stream",
     "text": [
      "Processing outcome: pcorrupt\n",
      "Processing outcome: ncorrupt_os\n",
      "Processing outcome: log_valor_corrupt\n"
     ]
    },
    {
     "data": {
      "text/html": [
       "<div>\n",
       "<style scoped>\n",
       "    .dataframe tbody tr th:only-of-type {\n",
       "        vertical-align: middle;\n",
       "    }\n",
       "\n",
       "    .dataframe tbody tr th {\n",
       "        vertical-align: top;\n",
       "    }\n",
       "\n",
       "    .dataframe thead th {\n",
       "        text-align: right;\n",
       "    }\n",
       "</style>\n",
       "<table border=\"1\" class=\"dataframe\">\n",
       "  <thead>\n",
       "    <tr style=\"text-align: right;\">\n",
       "      <th></th>\n",
       "      <th>Outcome</th>\n",
       "      <th>Estimate</th>\n",
       "      <th>MSE</th>\n",
       "    </tr>\n",
       "  </thead>\n",
       "  <tbody>\n",
       "    <tr>\n",
       "      <th>0</th>\n",
       "      <td>pcorrupt</td>\n",
       "      <td>-0.015212</td>\n",
       "      <td>0.137367</td>\n",
       "    </tr>\n",
       "    <tr>\n",
       "      <th>1</th>\n",
       "      <td>ncorrupt_os</td>\n",
       "      <td>-0.015407</td>\n",
       "      <td>0.054797</td>\n",
       "    </tr>\n",
       "    <tr>\n",
       "      <th>2</th>\n",
       "      <td>log_valor_corrupt</td>\n",
       "      <td>-0.856813</td>\n",
       "      <td>506.335021</td>\n",
       "    </tr>\n",
       "  </tbody>\n",
       "</table>\n",
       "</div>"
      ],
      "text/plain": [
       "             Outcome  Estimate         MSE\n",
       "0           pcorrupt -0.015212    0.137367\n",
       "1        ncorrupt_os -0.015407    0.054797\n",
       "2  log_valor_corrupt -0.856813  506.335021"
      ]
     },
     "execution_count": 179,
     "metadata": {},
     "output_type": "execute_result"
    }
   ],
   "source": [
    "# mayor_covariants + municipal_covariantes + political_judicial_covariants\n",
    "gb_result_df_3_he = run_gradient_boosting_dml(double_ml_dataset, ma_mu_pl, treatment, outcomes)\n",
    "gb_result_df_3_he"
   ]
  },
  {
   "cell_type": "code",
   "execution_count": 180,
   "metadata": {},
   "outputs": [
    {
     "name": "stdout",
     "output_type": "stream",
     "text": [
      "Processing outcome: pcorrupt\n",
      "Processing outcome: ncorrupt_os\n",
      "Processing outcome: log_valor_corrupt\n"
     ]
    },
    {
     "data": {
      "text/html": [
       "<div>\n",
       "<style scoped>\n",
       "    .dataframe tbody tr th:only-of-type {\n",
       "        vertical-align: middle;\n",
       "    }\n",
       "\n",
       "    .dataframe tbody tr th {\n",
       "        vertical-align: top;\n",
       "    }\n",
       "\n",
       "    .dataframe thead th {\n",
       "        text-align: right;\n",
       "    }\n",
       "</style>\n",
       "<table border=\"1\" class=\"dataframe\">\n",
       "  <thead>\n",
       "    <tr style=\"text-align: right;\">\n",
       "      <th></th>\n",
       "      <th>Outcome</th>\n",
       "      <th>Estimate</th>\n",
       "      <th>MSE</th>\n",
       "    </tr>\n",
       "  </thead>\n",
       "  <tbody>\n",
       "    <tr>\n",
       "      <th>0</th>\n",
       "      <td>pcorrupt</td>\n",
       "      <td>-0.019965</td>\n",
       "      <td>0.012114</td>\n",
       "    </tr>\n",
       "    <tr>\n",
       "      <th>1</th>\n",
       "      <td>ncorrupt_os</td>\n",
       "      <td>-0.004934</td>\n",
       "      <td>0.002953</td>\n",
       "    </tr>\n",
       "    <tr>\n",
       "      <th>2</th>\n",
       "      <td>log_valor_corrupt</td>\n",
       "      <td>-0.519726</td>\n",
       "      <td>28.185947</td>\n",
       "    </tr>\n",
       "  </tbody>\n",
       "</table>\n",
       "</div>"
      ],
      "text/plain": [
       "             Outcome  Estimate        MSE\n",
       "0           pcorrupt -0.019965   0.012114\n",
       "1        ncorrupt_os -0.004934   0.002953\n",
       "2  log_valor_corrupt -0.519726  28.185947"
      ]
     },
     "execution_count": 180,
     "metadata": {},
     "output_type": "execute_result"
    }
   ],
   "source": [
    "gb_result_df_3_ho = run_dr_homogeneous_gb(double_ml_dataset, ma_mu_pl, treatment, outcomes)\n",
    "gb_result_df_3_ho"
   ]
  },
  {
   "cell_type": "code",
   "execution_count": 181,
   "metadata": {},
   "outputs": [
    {
     "name": "stdout",
     "output_type": "stream",
     "text": [
      "Processing outcome: pcorrupt\n",
      "Processing outcome: ncorrupt_os\n",
      "Processing outcome: log_valor_corrupt\n"
     ]
    },
    {
     "data": {
      "text/html": [
       "<div>\n",
       "<style scoped>\n",
       "    .dataframe tbody tr th:only-of-type {\n",
       "        vertical-align: middle;\n",
       "    }\n",
       "\n",
       "    .dataframe tbody tr th {\n",
       "        vertical-align: top;\n",
       "    }\n",
       "\n",
       "    .dataframe thead th {\n",
       "        text-align: right;\n",
       "    }\n",
       "</style>\n",
       "<table border=\"1\" class=\"dataframe\">\n",
       "  <thead>\n",
       "    <tr style=\"text-align: right;\">\n",
       "      <th></th>\n",
       "      <th>Outcome</th>\n",
       "      <th>Estimate</th>\n",
       "      <th>MSE</th>\n",
       "    </tr>\n",
       "  </thead>\n",
       "  <tbody>\n",
       "    <tr>\n",
       "      <th>0</th>\n",
       "      <td>pcorrupt</td>\n",
       "      <td>-0.033108</td>\n",
       "      <td>0.115371</td>\n",
       "    </tr>\n",
       "    <tr>\n",
       "      <th>1</th>\n",
       "      <td>ncorrupt_os</td>\n",
       "      <td>-0.010750</td>\n",
       "      <td>0.014521</td>\n",
       "    </tr>\n",
       "    <tr>\n",
       "      <th>2</th>\n",
       "      <td>log_valor_corrupt</td>\n",
       "      <td>-0.372401</td>\n",
       "      <td>231.858423</td>\n",
       "    </tr>\n",
       "  </tbody>\n",
       "</table>\n",
       "</div>"
      ],
      "text/plain": [
       "             Outcome  Estimate         MSE\n",
       "0           pcorrupt -0.033108    0.115371\n",
       "1        ncorrupt_os -0.010750    0.014521\n",
       "2  log_valor_corrupt -0.372401  231.858423"
      ]
     },
     "execution_count": 181,
     "metadata": {},
     "output_type": "execute_result"
    }
   ],
   "source": [
    "# All Covariants (plus two dummies)\n",
    "gb_result_df_4_he = run_gradient_boosting_dml(double_ml_dataset, all_covariates,treatment, outcomes)\n",
    "gb_result_df_4_he"
   ]
  },
  {
   "cell_type": "code",
   "execution_count": 182,
   "metadata": {},
   "outputs": [
    {
     "name": "stdout",
     "output_type": "stream",
     "text": [
      "Processing outcome: pcorrupt\n",
      "Processing outcome: ncorrupt_os\n",
      "Processing outcome: log_valor_corrupt\n"
     ]
    },
    {
     "data": {
      "text/html": [
       "<div>\n",
       "<style scoped>\n",
       "    .dataframe tbody tr th:only-of-type {\n",
       "        vertical-align: middle;\n",
       "    }\n",
       "\n",
       "    .dataframe tbody tr th {\n",
       "        vertical-align: top;\n",
       "    }\n",
       "\n",
       "    .dataframe thead th {\n",
       "        text-align: right;\n",
       "    }\n",
       "</style>\n",
       "<table border=\"1\" class=\"dataframe\">\n",
       "  <thead>\n",
       "    <tr style=\"text-align: right;\">\n",
       "      <th></th>\n",
       "      <th>Outcome</th>\n",
       "      <th>Estimate</th>\n",
       "      <th>MSE</th>\n",
       "    </tr>\n",
       "  </thead>\n",
       "  <tbody>\n",
       "    <tr>\n",
       "      <th>0</th>\n",
       "      <td>pcorrupt</td>\n",
       "      <td>-0.019908</td>\n",
       "      <td>0.012329</td>\n",
       "    </tr>\n",
       "    <tr>\n",
       "      <th>1</th>\n",
       "      <td>ncorrupt_os</td>\n",
       "      <td>-0.006349</td>\n",
       "      <td>0.002226</td>\n",
       "    </tr>\n",
       "    <tr>\n",
       "      <th>2</th>\n",
       "      <td>log_valor_corrupt</td>\n",
       "      <td>-0.823704</td>\n",
       "      <td>28.820632</td>\n",
       "    </tr>\n",
       "  </tbody>\n",
       "</table>\n",
       "</div>"
      ],
      "text/plain": [
       "             Outcome  Estimate        MSE\n",
       "0           pcorrupt -0.019908   0.012329\n",
       "1        ncorrupt_os -0.006349   0.002226\n",
       "2  log_valor_corrupt -0.823704  28.820632"
      ]
     },
     "execution_count": 182,
     "metadata": {},
     "output_type": "execute_result"
    }
   ],
   "source": [
    "gb_result_df_4_ho = run_dr_homogeneous_gb(double_ml_dataset, all_covariates,treatment, outcomes)\n",
    "gb_result_df_4_ho"
   ]
  },
  {
   "cell_type": "markdown",
   "metadata": {},
   "source": [
    "## Combining datasets (hetero)"
   ]
  },
  {
   "cell_type": "code",
   "execution_count": 183,
   "metadata": {},
   "outputs": [],
   "source": [
    "def extract_estimate_mse(result_df, outcome_name):\n",
    "    row = result_df[result_df['Outcome'] == outcome_name]\n",
    "    estimate = row['Estimate'].values[0]\n",
    "    mse = row['MSE'].values[0]\n",
    "    return f\"{estimate:.6f} ({mse:.6f})\"\n",
    "# Create a list of models and their corresponding result dataframes\n",
    "models = [\"Lasso\", \"Random Forest\", \"Multiple-layer Perceptron\", \"Gradient Boosting\"]\n",
    "result_dfs_1 = [ls_result_df_1_he, rf_result_df_1_he, mlp_result_df_1_he, gb_result_df_1_he]\n",
    "result_dfs_2 = [ls_result_df_2_he, rf_result_df_2_he, mlp_result_df_2_he, gb_result_df_2_he]\n",
    "result_dfs_3 = [ls_result_df_3_he, rf_result_df_3_he, mlp_result_df_3_he, gb_result_df_3_he]\n",
    "result_dfs_4 = [ls_result_df_4_he, rf_result_df_4_he, mlp_result_df_4_he, gb_result_df_4_he]\n",
    "\n"
   ]
  },
  {
   "cell_type": "code",
   "execution_count": 184,
   "metadata": {},
   "outputs": [
    {
     "name": "stdout",
     "output_type": "stream",
     "text": [
      "                   ML Method          Covariates_1          Covariates_2  \\\n",
      "0                      Lasso  -0.020254 (0.016171)  -0.020004 (0.016512)   \n",
      "1              Random Forest  -0.024551 (0.016579)  -0.018236 (0.016606)   \n",
      "2  Multiple-layer Perceptron  -0.070568 (0.489341)  -0.012248 (0.190388)   \n",
      "3          Gradient Boosting  -0.020351 (0.066814)  -0.019443 (0.058081)   \n",
      "\n",
      "           Covariates_3          Covariates_4  \n",
      "0  -0.021204 (0.016981)  -0.021965 (0.017303)  \n",
      "1  -0.020898 (0.019889)  -0.027213 (0.019589)  \n",
      "2  -0.007341 (0.043469)  -0.017534 (0.082121)  \n",
      "3  -0.015212 (0.137367)  -0.033108 (0.115371)  \n"
     ]
    }
   ],
   "source": [
    "\n",
    "outcome_name = \"pcorrupt\"\n",
    "\n",
    "# Combine results into a single DataFrame\n",
    "combined_results_pc = pd.DataFrame({\n",
    "    \"ML Method\": models,\n",
    "    \"Covariates_1\": [extract_estimate_mse(df, outcome_name) for df in result_dfs_1],\n",
    "    \"Covariates_2\": [extract_estimate_mse(df, outcome_name) for df in result_dfs_2],\n",
    "    \"Covariates_3\": [extract_estimate_mse(df, outcome_name) for df in result_dfs_3],\n",
    "    \"Covariates_4\": [extract_estimate_mse(df, outcome_name) for df in result_dfs_4]\n",
    "})\n",
    "\n",
    "# Display the combined results\n",
    "print(combined_results_pc)"
   ]
  },
  {
   "cell_type": "code",
   "execution_count": 185,
   "metadata": {},
   "outputs": [
    {
     "name": "stdout",
     "output_type": "stream",
     "text": [
      "                   ML Method          Covariates_1          Covariates_2  \\\n",
      "0                      Lasso  -0.008128 (0.003728)  -0.006750 (0.003707)   \n",
      "1              Random Forest  -0.009267 (0.003814)  -0.003394 (0.003918)   \n",
      "2  Multiple-layer Perceptron   0.025076 (0.413284)  -0.010301 (0.042480)   \n",
      "3          Gradient Boosting  -0.006718 (0.014550)  -0.009970 (0.031864)   \n",
      "\n",
      "           Covariates_3          Covariates_4  \n",
      "0  -0.007074 (0.003574)  -0.009060 (0.003216)  \n",
      "1  -0.004831 (0.003618)  -0.007590 (0.002966)  \n",
      "2   0.001751 (0.018468)  -0.024469 (0.055118)  \n",
      "3  -0.015407 (0.054797)  -0.010750 (0.014521)  \n"
     ]
    }
   ],
   "source": [
    "outcome_name = \"ncorrupt_os\"\n",
    "\n",
    "# Combine results into a single DataFrame\n",
    "combined_results_nc = pd.DataFrame({\n",
    "    \"ML Method\": models,\n",
    "    \"Covariates_1\": [extract_estimate_mse(df, outcome_name) for df in result_dfs_1],\n",
    "    \"Covariates_2\": [extract_estimate_mse(df, outcome_name) for df in result_dfs_2],\n",
    "    \"Covariates_3\": [extract_estimate_mse(df, outcome_name) for df in result_dfs_3],\n",
    "    \"Covariates_4\": [extract_estimate_mse(df, outcome_name) for df in result_dfs_4]\n",
    "})\n",
    "\n",
    "# Display the combined results\n",
    "print(combined_results_nc)"
   ]
  },
  {
   "cell_type": "code",
   "execution_count": 186,
   "metadata": {},
   "outputs": [
    {
     "name": "stdout",
     "output_type": "stream",
     "text": [
      "                   ML Method            Covariates_1            Covariates_2  \\\n",
      "0                      Lasso   -0.992246 (39.054955)   -0.905899 (38.035667)   \n",
      "1              Random Forest   -1.013124 (39.744113)   -0.816997 (36.712125)   \n",
      "2  Multiple-layer Perceptron  -1.023083 (105.423218)   0.489262 (908.862427)   \n",
      "3          Gradient Boosting  -0.193866 (357.192553)  -1.009129 (190.921643)   \n",
      "\n",
      "             Covariates_3            Covariates_4  \n",
      "0   -1.012787 (37.229637)   -1.067526 (36.285240)  \n",
      "1   -0.848086 (39.230805)   -0.975908 (33.768337)  \n",
      "2   -0.777292 (47.814293)   -0.758514 (63.923859)  \n",
      "3  -0.856813 (506.335021)  -0.372401 (231.858423)  \n"
     ]
    }
   ],
   "source": [
    "outcome_name = \"log_valor_corrupt\"\n",
    "\n",
    "# Combine results into a single DataFrame\n",
    "combined_results_lv = pd.DataFrame({\n",
    "    \"ML Method\": models,\n",
    "    \"Covariates_1\": [extract_estimate_mse(df, outcome_name) for df in result_dfs_1],\n",
    "    \"Covariates_2\": [extract_estimate_mse(df, outcome_name) for df in result_dfs_2],\n",
    "    \"Covariates_3\": [extract_estimate_mse(df, outcome_name) for df in result_dfs_3],\n",
    "    \"Covariates_4\": [extract_estimate_mse(df, outcome_name) for df in result_dfs_4]\n",
    "})\n",
    "\n",
    "# Display the combined results\n",
    "print(combined_results_lv)"
   ]
  },
  {
   "cell_type": "markdown",
   "metadata": {},
   "source": [
    "## Combining datasets (homo)"
   ]
  },
  {
   "cell_type": "code",
   "execution_count": 187,
   "metadata": {},
   "outputs": [],
   "source": [
    "result_dfs_1_ho = [ls_result_df_1_ho, rf_result_df_1_ho, mlp_result_df_1_ho, gb_result_df_1_ho]\n",
    "result_dfs_2_ho = [ls_result_df_2_ho, rf_result_df_2_ho, mlp_result_df_2_ho, gb_result_df_2_ho]\n",
    "result_dfs_3_ho = [ls_result_df_3_ho, rf_result_df_3_ho, mlp_result_df_3_ho, gb_result_df_3_ho]\n",
    "result_dfs_4_ho = [ls_result_df_4_ho, rf_result_df_4_ho, mlp_result_df_4_ho, gb_result_df_4_ho]\n",
    "\n"
   ]
  },
  {
   "cell_type": "code",
   "execution_count": 188,
   "metadata": {},
   "outputs": [
    {
     "name": "stdout",
     "output_type": "stream",
     "text": [
      "                   ML Method          Covariates_1          Covariates_2  \\\n",
      "0                      Lasso  -0.017920 (0.010611)  -0.017183 (0.010455)   \n",
      "1              Random Forest  -0.022994 (0.011305)  -0.019338 (0.011028)   \n",
      "2  Multiple-layer Perceptron  -0.031959 (0.017039)  -0.009896 (0.025246)   \n",
      "3          Gradient Boosting  -0.018237 (0.012909)  -0.020428 (0.012555)   \n",
      "\n",
      "           Covariates_3          Covariates_4  \n",
      "0  -0.021765 (0.010458)  -0.023743 (0.010310)  \n",
      "1  -0.019102 (0.011039)  -0.023355 (0.010866)  \n",
      "2  -0.033487 (0.019224)  -0.014225 (0.034814)  \n",
      "3  -0.019965 (0.012114)  -0.019908 (0.012329)  \n"
     ]
    }
   ],
   "source": [
    "outcome_name = \"pcorrupt\"\n",
    "\n",
    "# Combine results into a single DataFrame\n",
    "combined_results_pc_ho = pd.DataFrame({\n",
    "    \"ML Method\": models,\n",
    "    \"Covariates_1\": [extract_estimate_mse(df, outcome_name) for df in result_dfs_1_ho],\n",
    "    \"Covariates_2\": [extract_estimate_mse(df, outcome_name) for df in result_dfs_2_ho],\n",
    "    \"Covariates_3\": [extract_estimate_mse(df, outcome_name) for df in result_dfs_3_ho],\n",
    "    \"Covariates_4\": [extract_estimate_mse(df, outcome_name) for df in result_dfs_4_ho]\n",
    "})\n",
    "\n",
    "# Display the combined results\n",
    "print(combined_results_pc_ho)"
   ]
  },
  {
   "cell_type": "code",
   "execution_count": 189,
   "metadata": {},
   "outputs": [
    {
     "name": "stdout",
     "output_type": "stream",
     "text": [
      "                   ML Method          Covariates_1          Covariates_2  \\\n",
      "0                      Lasso  -0.009267 (0.002861)  -0.006682 (0.002634)   \n",
      "1              Random Forest  -0.009108 (0.002943)  -0.004336 (0.002763)   \n",
      "2  Multiple-layer Perceptron  -0.012347 (0.009806)  -0.018507 (0.014310)   \n",
      "3          Gradient Boosting  -0.009557 (0.003252)  -0.006281 (0.003009)   \n",
      "\n",
      "           Covariates_3          Covariates_4  \n",
      "0  -0.007514 (0.002631)  -0.008505 (0.002078)  \n",
      "1  -0.004482 (0.002717)  -0.007674 (0.002254)  \n",
      "2  -0.007227 (0.011910)  -0.025236 (0.022335)  \n",
      "3  -0.004934 (0.002953)  -0.006349 (0.002226)  \n"
     ]
    }
   ],
   "source": [
    "outcome_name = \"ncorrupt_os\"\n",
    "\n",
    "# Combine results into a single DataFrame\n",
    "combined_results_nc_ho = pd.DataFrame({\n",
    "    \"ML Method\": models,\n",
    "    \"Covariates_1\": [extract_estimate_mse(df, outcome_name) for df in result_dfs_1_ho],\n",
    "    \"Covariates_2\": [extract_estimate_mse(df, outcome_name) for df in result_dfs_2_ho],\n",
    "    \"Covariates_3\": [extract_estimate_mse(df, outcome_name) for df in result_dfs_3_ho],\n",
    "    \"Covariates_4\": [extract_estimate_mse(df, outcome_name) for df in result_dfs_4_ho]\n",
    "})\n",
    "\n",
    "# Display the combined results\n",
    "print(combined_results_nc_ho)"
   ]
  },
  {
   "cell_type": "code",
   "execution_count": 190,
   "metadata": {},
   "outputs": [
    {
     "name": "stdout",
     "output_type": "stream",
     "text": [
      "                   ML Method           Covariates_1           Covariates_2  \\\n",
      "0                      Lasso  -0.913043 (28.488840)  -0.769087 (26.503841)   \n",
      "1              Random Forest  -0.974373 (29.498879)  -0.773453 (27.397548)   \n",
      "2  Multiple-layer Perceptron  -1.001793 (33.150330)  -0.668360 (28.804699)   \n",
      "3          Gradient Boosting  -1.047505 (33.206817)  -0.804077 (28.994380)   \n",
      "\n",
      "            Covariates_3           Covariates_4  \n",
      "0  -1.001436 (26.460489)  -1.190014 (24.754757)  \n",
      "1  -0.872685 (27.287176)  -0.938316 (25.969169)  \n",
      "2  -0.514015 (29.386236)  -1.306737 (29.128323)  \n",
      "3  -0.519726 (28.185947)  -0.823704 (28.820632)  \n"
     ]
    }
   ],
   "source": [
    "outcome_name = \"log_valor_corrupt\"\n",
    "\n",
    "# Combine results into a single DataFrame\n",
    "combined_results_lv_ho = pd.DataFrame({\n",
    "    \"ML Method\": models,\n",
    "    \"Covariates_1\": [extract_estimate_mse(df, outcome_name) for df in result_dfs_1_ho],\n",
    "    \"Covariates_2\": [extract_estimate_mse(df, outcome_name) for df in result_dfs_2_ho],\n",
    "    \"Covariates_3\": [extract_estimate_mse(df, outcome_name) for df in result_dfs_3_ho],\n",
    "    \"Covariates_4\": [extract_estimate_mse(df, outcome_name) for df in result_dfs_4_ho]\n",
    "})\n",
    "\n",
    "# Display the combined results\n",
    "print(combined_results_lv_ho)"
   ]
  },
  {
   "cell_type": "markdown",
   "metadata": {},
   "source": []
  }
 ],
 "metadata": {
  "kernelspec": {
   "display_name": "info2950",
   "language": "python",
   "name": "python3"
  },
  "language_info": {
   "codemirror_mode": {
    "name": "ipython",
    "version": 3
   },
   "file_extension": ".py",
   "mimetype": "text/x-python",
   "name": "python",
   "nbconvert_exporter": "python",
   "pygments_lexer": "ipython3",
   "version": "3.12.4"
  }
 },
 "nbformat": 4,
 "nbformat_minor": 2
}
