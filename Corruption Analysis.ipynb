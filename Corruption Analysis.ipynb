{
 "cells": [
  {
   "cell_type": "markdown",
   "metadata": {},
   "source": [
    "# __Econometric Game__: Effect of electoral accountability on corruption?\n",
    "   \n",
    "### Team 3: Katheryn Ding, Amber Wei, Max Ye\n",
    "\n"
   ]
  },
  {
   "cell_type": "code",
   "execution_count": 1,
   "metadata": {},
   "outputs": [],
   "source": [
    "import pandas as pd\n",
    "import numpy as np\n",
    "import matplotlib.pyplot as plt\n",
    "import seaborn as sns\n",
    "from statsmodels.formula.api import ols\n",
    "import matplotlib.ticker as ticker\n",
    "from sklearn.model_selection import KFold\n",
    "from sklearn.preprocessing import StandardScaler\n"
   ]
  },
  {
   "cell_type": "markdown",
   "metadata": {},
   "source": [
    "## Set up "
   ]
  },
  {
   "cell_type": "code",
   "execution_count": 2,
   "metadata": {},
   "outputs": [
    {
     "data": {
      "text/plain": [
       "Index(['uf', 'nsorteio', 'totrecursos', 'tot_os', 'pop', 'purb',\n",
       "       'p_secundario', 'cod_ibge6', 'pib_capita_02', 'op_01_04',\n",
       "       ...\n",
       "       'uf_d18', 'uf_d19', 'uf_d20', 'uf_d21', 'uf_d22', 'uf_d23', 'uf_d24',\n",
       "       'uf_d25', 'uf_d26', 'esample2'],\n",
       "      dtype='object', length=116)"
      ]
     },
     "execution_count": 2,
     "metadata": {},
     "output_type": "execute_result"
    }
   ],
   "source": [
    "corruption_df = pd.read_stata(\"corruptiondata.dta\")\n",
    "corruption_df.columns"
   ]
  },
  {
   "cell_type": "code",
   "execution_count": 3,
   "metadata": {},
   "outputs": [
    {
     "name": "stdout",
     "output_type": "stream",
     "text": [
      "Mayor Covariates: ['pref_idade_tse', 'pref_masc', 'pref_escola', 'winmargin2000', 'exp_prefeito', 'party_d1', 'party_d3', 'party_d4', 'party_d5', 'party_d6', 'party_d7', 'party_d8', 'party_d9', 'party_d10', 'party_d11', 'party_d12', 'party_d13', 'party_d14', 'party_d15', 'party_d16', 'party_d17', 'party_d18']\n",
      "Municipal Covariates: ['lpop', 'purb', 'p_secundario', 'mun_novo', 'lpib02', 'gini_ipea']\n",
      "Political and Judicial Covariates: ['ENEP2000', 'ENLP2000', 'p_cad_pref']\n",
      "Dummy Covariates: ['sorteio1', 'sorteio2', 'sorteio3', 'sorteio4', 'sorteio5', 'sorteio6', 'sorteio7', 'sorteio8', 'sorteio9', 'sorteio10', 'uf_d1', 'uf_d2', 'uf_d3', 'uf_d4', 'uf_d5', 'uf_d6', 'uf_d7', 'uf_d8', 'uf_d9', 'uf_d10', 'uf_d11', 'uf_d12', 'uf_d13', 'uf_d14', 'uf_d15', 'uf_d16', 'uf_d17', 'uf_d18', 'uf_d19', 'uf_d20', 'uf_d21', 'uf_d22', 'uf_d23', 'uf_d24', 'uf_d25', 'uf_d26']\n"
     ]
    }
   ],
   "source": [
    "# Define covariates for each category\n",
    "\n",
    "# Mayor characteristics\n",
    "mayor_covariates = [\n",
    "    \"pref_idade_tse\",  # Age\n",
    "    \"pref_masc\",       # Gender\n",
    "    \"pref_escola\",     # Schooling\n",
    "    \"winmargin2000\",   # Margin of victory in 2000\n",
    "    \"exp_prefeito\"     # Was previously a mayor in a consecutive term\n",
    "] + [col for col in corruption_df.columns if col.startswith(\"party_d\")]\n",
    "\n",
    "# Municipal characteristics\n",
    "municipal_covariates = [\n",
    "    \"lpop\",           # Log of population in 2000\n",
    "    \"purb\",           # Percentage of population in urban sectors\n",
    "    \"p_secundario\",   # Percentage with at least secondary education\n",
    "    \"mun_novo\",       # New municipality indicator\n",
    "    \"lpib02\",         # Log of GDP per capita in 2002\n",
    "    \"gini_ipea\"       # Gini coefficient\n",
    "]\n",
    "\n",
    "# Political and Judicial characteristics\n",
    "political_judicial_covariates = [\n",
    "    \"ENEP2000\",  # Effective number of parties in 2000 mayor elections\n",
    "    \"ENLP2000\",  # Effective number of parties in 2000 legislative elections\n",
    "    \"p_cad_pref\" # Proportion of legislators from the same party as the mayor\n",
    "]\n",
    "\n",
    "# Dummies\n",
    "dummy_covariates = [\n",
    "    col for col in corruption_df.columns if col.startswith(\"uf_d\") or col.startswith(\"sorteio\")\n",
    "]\n",
    "\n",
    "\n",
    "print(\"Mayor Covariates:\", mayor_covariates)\n",
    "print(\"Municipal Covariates:\", municipal_covariates)\n",
    "print(\"Political and Judicial Covariates:\", political_judicial_covariates)\n",
    "print(\"Dummy Covariates:\", dummy_covariates)"
   ]
  },
  {
   "cell_type": "code",
   "execution_count": 4,
   "metadata": {},
   "outputs": [
    {
     "name": "stdout",
     "output_type": "stream",
     "text": [
      "Double ML Dataset Columns: Index(['first', 'pcorrupt', 'ncorrupt_os', 'valor_corrupt', 'pref_idade_tse',\n",
      "       'pref_masc', 'pref_escola', 'winmargin2000', 'exp_prefeito', 'party_d1',\n",
      "       'party_d3', 'party_d4', 'party_d5', 'party_d6', 'party_d7', 'party_d8',\n",
      "       'party_d9', 'party_d10', 'party_d11', 'party_d12', 'party_d13',\n",
      "       'party_d14', 'party_d15', 'party_d16', 'party_d17', 'party_d18', 'lpop',\n",
      "       'purb', 'p_secundario', 'mun_novo', 'lpib02', 'gini_ipea', 'ENEP2000',\n",
      "       'ENLP2000', 'p_cad_pref', 'sorteio1', 'sorteio2', 'sorteio3',\n",
      "       'sorteio4', 'sorteio5', 'sorteio6', 'sorteio7', 'sorteio8', 'sorteio9',\n",
      "       'sorteio10', 'uf_d1', 'uf_d2', 'uf_d3', 'uf_d4', 'uf_d5', 'uf_d6',\n",
      "       'uf_d7', 'uf_d8', 'uf_d9', 'uf_d10', 'uf_d11', 'uf_d12', 'uf_d13',\n",
      "       'uf_d14', 'uf_d15', 'uf_d16', 'uf_d17', 'uf_d18', 'uf_d19', 'uf_d20',\n",
      "       'uf_d21', 'uf_d22', 'uf_d23', 'uf_d24', 'uf_d25', 'uf_d26'],\n",
      "      dtype='object')\n",
      "Number of rows in the Double ML Dataset: 467\n"
     ]
    }
   ],
   "source": [
    "# Define the treatment and outcome variables\n",
    "treatment = \"first\"  \n",
    "outcomes = [\"pcorrupt\", \"ncorrupt_os\", \"valor_corrupt\"] \n",
    "\n",
    "# Use all covariates\n",
    "all_covariates = (\n",
    "    mayor_covariates +\n",
    "    municipal_covariates +\n",
    "    political_judicial_covariates +\n",
    "    dummy_covariates\n",
    ")\n",
    "\n",
    "# Constructing DoubleML dataset\n",
    "required_columns = [treatment] + outcomes + all_covariates\n",
    "double_ml_dataset = corruption_df[required_columns].dropna()\n",
    "\n",
    "print(\"Double ML Dataset Columns:\", double_ml_dataset.columns)\n",
    "print(\"Number of rows in the Double ML Dataset:\", double_ml_dataset.shape[0])"
   ]
  },
  {
   "cell_type": "markdown",
   "metadata": {},
   "source": [
    "## Lasso "
   ]
  },
  {
   "cell_type": "code",
   "execution_count": 5,
   "metadata": {},
   "outputs": [],
   "source": [
    "from sklearn.linear_model import LassoCV\n",
    "from sklearn.metrics import mean_squared_error"
   ]
  },
  {
   "cell_type": "code",
   "execution_count": 31,
   "metadata": {},
   "outputs": [
    {
     "name": "stdout",
     "output_type": "stream",
     "text": [
      "Processing outcome: pcorrupt\n",
      "Processing outcome: ncorrupt_os\n",
      "Processing outcome: valor_corrupt\n",
      "         Outcome      Estimate           MSE\n",
      "0       pcorrupt      0.000186  1.026658e-02\n",
      "1    ncorrupt_os      0.000101  2.078044e-03\n",
      "2  valor_corrupt  21235.027344  3.580824e+11\n"
     ]
    }
   ],
   "source": [
    "# Initialize a list to store results for Lasso\n",
    "lasso_results = []\n",
    "\n",
    "# Loop through each outcome in the list of outcomes\n",
    "for outcome in outcomes:\n",
    "    print(f\"Processing outcome: {outcome}\")\n",
    "    \n",
    "    # Define X, D, and Y for the current outcome\n",
    "    X = double_ml_dataset[all_covariates]\n",
    "    D = double_ml_dataset[treatment]\n",
    "    Y = double_ml_dataset[outcome]\n",
    "    \n",
    "    # Standardize the covariates\n",
    "    scaler = StandardScaler()\n",
    "    X_scaled = scaler.fit_transform(X)\n",
    "    \n",
    "    # Prepare 5-Fold Cross-Fitting\n",
    "    kf = KFold(n_splits=5, shuffle=True, random_state=42)\n",
    "    \n",
    "    # Create train-test splits\n",
    "    folds = []\n",
    "    for train_index, test_index in kf.split(X_scaled):\n",
    "        X_train, X_test = X_scaled[train_index], X_scaled[test_index]\n",
    "        D_train, D_test = D.iloc[train_index], D.iloc[test_index]\n",
    "        Y_train, Y_test = Y.iloc[train_index], Y.iloc[test_index]\n",
    "        folds.append((X_train, X_test, D_train, D_test, Y_train, Y_test))\n",
    "    \n",
    "    # Initialize lists to store fold estimates and MSE\n",
    "    fold_estimates = []\n",
    "    fold_mse = []\n",
    "    \n",
    "    # Regularization path\n",
    "    alphas = np.logspace(-4, 0, 50)  # Regularization strength values\n",
    "    \n",
    "    # Loop through folds for cross-fitting\n",
    "    for fold_idx, (X_train, X_test, D_train, D_test, Y_train, Y_test) in enumerate(folds):\n",
    "        # Train Lasso model using cross-validation to find the optimal alpha\n",
    "        lasso = LassoCV(alphas=alphas, cv=5, random_state=42).fit(X_train, Y_train)\n",
    "        optimal_alpha = lasso.alpha_\n",
    "        \n",
    "        # Predict on test data\n",
    "        Y_pred = lasso.predict(X_test)\n",
    "        \n",
    "        # Theta (Treatment Effect)\n",
    "        treatment_effect = (\n",
    "            np.mean(Y_pred[D_test.values == 1]) - np.mean(Y_pred[D_test.values == 0])\n",
    "        )\n",
    "        fold_estimates.append(treatment_effect)\n",
    "        \n",
    "        # MSE\n",
    "        mse = mean_squared_error(Y_test, Y_pred)\n",
    "        fold_mse.append(mse)\n",
    "    \n",
    "    # Compute overall average estimate and MSE for the current outcome\n",
    "    average_estimate = np.mean(fold_estimates)\n",
    "    average_mse = np.mean(fold_mse)\n",
    "    \n",
    "    # Store the results\n",
    "    lasso_results.append({\"Outcome\": outcome, \"Estimate\": average_estimate, \"MSE\": average_mse})\n",
    "\n",
    "# Convert the results to a DataFrame for better visualization\n",
    "lasso_results_df = pd.DataFrame(lasso_results)\n",
    "\n",
    "# Display the results DataFrame\n",
    "print(lasso_results_df)"
   ]
  },
  {
   "cell_type": "code",
   "execution_count": 27,
   "metadata": {},
   "outputs": [],
   "source": [
    "import warnings\n",
    "warnings.filterwarnings(\"ignore\")"
   ]
  },
  {
   "cell_type": "markdown",
   "metadata": {},
   "source": [
    "## Random Forest"
   ]
  },
  {
   "cell_type": "code",
   "execution_count": 24,
   "metadata": {},
   "outputs": [],
   "source": [
    "from sklearn.ensemble import RandomForestRegressor\n",
    "from sklearn.metrics import mean_squared_error\n",
    "import numpy as np"
   ]
  },
  {
   "cell_type": "code",
   "execution_count": null,
   "metadata": {},
   "outputs": [
    {
     "name": "stdout",
     "output_type": "stream",
     "text": [
      "Processing outcome: pcorrupt\n",
      "Processing outcome: ncorrupt_os\n",
      "Processing outcome: valor_corrupt\n",
      "         Outcome     Estimate           MSE\n",
      "0       pcorrupt    -0.001203  1.127543e-02\n",
      "1    ncorrupt_os    -0.002318  2.293435e-03\n",
      "2  valor_corrupt  8737.629605  3.360745e+11\n"
     ]
    }
   ],
   "source": [
    "rf_results = []\n",
    "\n",
    "# Loop through each outcome in the list of outcomes\n",
    "for outcome in outcomes:\n",
    "    print(f\"Processing outcome: {outcome}\")\n",
    "    # Define X, D, and Y for the current outcome\n",
    "    X = double_ml_dataset[all_covariates]\n",
    "    D = double_ml_dataset[treatment]\n",
    "    Y = double_ml_dataset[outcome]\n",
    "    \n",
    "    # Standardize the covariates\n",
    "    scaler = StandardScaler()\n",
    "    X_scaled = scaler.fit_transform(X)\n",
    "    \n",
    "    # 5-Fold Cross-Fitting\n",
    "    kf = KFold(n_splits=5, shuffle=True, random_state=42)\n",
    "    \n",
    "    # Create train-test splits\n",
    "    folds = []\n",
    "    for train_index, test_index in kf.split(X_scaled):\n",
    "        X_train, X_test = X_scaled[train_index], X_scaled[test_index]\n",
    "        D_train, D_test = D.iloc[train_index], D.iloc[test_index]\n",
    "        Y_train, Y_test = Y.iloc[train_index], Y.iloc[test_index]\n",
    "        folds.append((X_train, X_test, D_train, D_test, Y_train, Y_test))\n",
    "    \n",
    "    # Initialize lists to store fold estimates and MSE\n",
    "    fold_estimates = []\n",
    "    fold_mse = []\n",
    "    \n",
    "    # Loop through folds for cross-fitting\n",
    "    for fold_idx, (X_train, X_test, D_train, D_test, Y_train, Y_test) in enumerate(folds):\n",
    "        # Train Random Forest model\n",
    "        rf_model = RandomForestRegressor(random_state=4140, n_estimators=100, max_depth=None).fit(X_train, Y_train)\n",
    "        \n",
    "        # Predict on test data\n",
    "        Y_pred = rf_model.predict(X_test)\n",
    "        \n",
    "        # Treatment Effect\n",
    "        treatment_effect = (\n",
    "            np.mean(Y_pred[D_test.values == 1]) - np.mean(Y_pred[D_test.values == 0])\n",
    "        )\n",
    "        fold_estimates.append(treatment_effect)\n",
    "        \n",
    "        # MSE\n",
    "        mse = mean_squared_error(Y_test, Y_pred)\n",
    "        fold_mse.append(mse)\n",
    "    \n",
    "    # Compute overall average estimate and MSE for the current outcome\n",
    "    average_estimate = np.mean(fold_estimates)\n",
    "    average_mse = np.mean(fold_mse)\n",
    "    \n",
    "    # Store the results\n",
    "    rf_results.append({\"Outcome\": outcome, \"Estimate\": average_estimate, \"MSE\": average_mse})\n",
    "\n",
    "# Convert the results to a DataFrame for better visualization\n",
    "results_df = pd.DataFrame(rf_results)\n",
    "\n",
    "# Display the results DataFrame\n",
    "print(results_df)"
   ]
  },
  {
   "cell_type": "markdown",
   "metadata": {},
   "source": [
    "## Neural Network"
   ]
  },
  {
   "cell_type": "code",
   "execution_count": null,
   "metadata": {},
   "outputs": [],
   "source": []
  },
  {
   "cell_type": "markdown",
   "metadata": {},
   "source": [
    "## Gradient Boosting\n"
   ]
  },
  {
   "cell_type": "code",
   "execution_count": 10,
   "metadata": {},
   "outputs": [],
   "source": [
    "from sklearn.ensemble import GradientBoostingRegressor\n"
   ]
  },
  {
   "cell_type": "code",
   "execution_count": 16,
   "metadata": {},
   "outputs": [],
   "source": [
    "outcome = outcomes[0]  \n",
    "X = double_ml_dataset[all_covariates]\n",
    "D = double_ml_dataset[treatment]\n",
    "Y = double_ml_dataset[outcome]\n",
    "\n",
    "# Standardize the covariates\n",
    "scaler = StandardScaler()\n",
    "X_scaled = scaler.fit_transform(X)\n",
    "\n",
    "# Prepare 5-Fold Cross-Fitting\n",
    "kf = KFold(n_splits=5, shuffle=True, random_state=42)\n",
    "\n",
    "# Create train-test splits\n",
    "folds = []\n",
    "for train_index, test_index in kf.split(X_scaled):\n",
    "    X_train, X_test = X_scaled[train_index], X_scaled[test_index]\n",
    "    D_train, D_test = D.iloc[train_index], D.iloc[test_index]\n",
    "    Y_train, Y_test = Y.iloc[train_index], Y.iloc[test_index]\n",
    "    folds.append((X_train, X_test, D_train, D_test, Y_train, Y_test))\n",
    "\n",
    "# Regularization Path for Lasso\n",
    "alphas = np.logspace(-4, 0, 50)  # 50 values between 10^-4 and 10^0"
   ]
  },
  {
   "cell_type": "code",
   "execution_count": 17,
   "metadata": {},
   "outputs": [
    {
     "name": "stdout",
     "output_type": "stream",
     "text": [
      "Fold 1:\n",
      "  Treatment Effect Estimate: 0.00016003802844498372\n",
      "  MSE: 0.015647467677191204\n",
      "\n",
      "Fold 2:\n",
      "  Treatment Effect Estimate: -0.0006888164775919192\n",
      "  MSE: 0.01649880032634493\n",
      "\n",
      "Fold 3:\n",
      "  Treatment Effect Estimate: -0.013099382864855375\n",
      "  MSE: 0.009203978743665922\n",
      "\n",
      "Fold 4:\n",
      "  Treatment Effect Estimate: 0.0018513191815970748\n",
      "  MSE: 0.008108130135200117\n",
      "\n",
      "Fold 5:\n",
      "  Treatment Effect Estimate: -0.006359663711762623\n",
      "  MSE: 0.011820252893298648\n",
      "\n",
      "Final Results:\n",
      " Average Treatment Effect Estimate: -0.0036273011688335716\n",
      " Average MSE: 0.012255725955140165\n"
     ]
    }
   ],
   "source": [
    "\n",
    "# Initialize lists to store fold estimates and MSE\n",
    "fold_estimates = []\n",
    "fold_mse = []\n",
    "\n",
    "\n",
    "# Loop through folds for cross-fitting\n",
    "for fold_idx, (X_train, X_test, D_train, D_test, Y_train, Y_test) in enumerate(folds):\n",
    "    # Train Gradient Boosting model\n",
    "    gb_model = GradientBoostingRegressor(random_state=42).fit(X_train, Y_train)\n",
    "    \n",
    "    # Predict on test data\n",
    "    Y_pred = gb_model.predict(X_test)\n",
    "    \n",
    "    # Calculate the treatment effect\n",
    "    treatment_effect = (\n",
    "        np.mean(Y_pred[D_test.values == 1]) - np.mean(Y_pred[D_test.values == 0])\n",
    "    )\n",
    "    fold_estimates.append(treatment_effect)\n",
    "    \n",
    "    # MSE\n",
    "    mse = mean_squared_error(Y_test, Y_pred)\n",
    "    fold_mse.append(mse)\n",
    "    \n",
    "    print(f\"Fold {fold_idx + 1}:\")\n",
    "    print(f\"  Treatment Effect Estimate: {treatment_effect}\")\n",
    "    print(f\"  MSE: {mse}\")\n",
    "    print()\n",
    "\n",
    "# Compute overall average estimate and MSE\n",
    "average_estimate = np.mean(fold_estimates)\n",
    "average_mse = np.mean(fold_mse)\n",
    "\n",
    "print(\"Final Results:\")\n",
    "print(f\" Average Treatment Effect Estimate: {average_estimate}\")\n",
    "print(f\" Average MSE: {average_mse}\")"
   ]
  },
  {
   "cell_type": "markdown",
   "metadata": {},
   "source": [
    "## Analysis \n",
    "\n",
    "compare mse/theta,\n"
   ]
  },
  {
   "cell_type": "markdown",
   "metadata": {},
   "source": [
    "## Conclusion"
   ]
  },
  {
   "cell_type": "markdown",
   "metadata": {},
   "source": []
  }
 ],
 "metadata": {
  "kernelspec": {
   "display_name": "info2950",
   "language": "python",
   "name": "python3"
  },
  "language_info": {
   "codemirror_mode": {
    "name": "ipython",
    "version": 3
   },
   "file_extension": ".py",
   "mimetype": "text/x-python",
   "name": "python",
   "nbconvert_exporter": "python",
   "pygments_lexer": "ipython3",
   "version": "3.12.4"
  }
 },
 "nbformat": 4,
 "nbformat_minor": 2
}
